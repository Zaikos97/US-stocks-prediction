{
 "cells": [
  {
   "cell_type": "code",
   "execution_count": 179,
   "id": "73ed8576",
   "metadata": {},
   "outputs": [],
   "source": [
    "import pandas as pd\n",
    "import numpy as np\n",
    "pd.set_option('display.max_columns',250)\n",
    "import matplotlib.pyplot as plt"
   ]
  },
  {
   "cell_type": "code",
   "execution_count": 180,
   "id": "1f08afa7",
   "metadata": {},
   "outputs": [],
   "source": [
    "df14=pd.read_csv(\"2014_Financial_Data.csv\")\n",
    "df15=pd.read_csv(\"2015_Financial_Data.csv\") \n",
    "df16=pd.read_csv(\"2016_Financial_Data.csv\") \n",
    "df17=pd.read_csv(\"2017_Financial_Data.csv\") \n",
    "df18=pd.read_csv(\"2018_Financial_Data.csv\") "
   ]
  },
  {
   "cell_type": "code",
   "execution_count": 181,
   "id": "e29ed99d",
   "metadata": {},
   "outputs": [],
   "source": [
    "df14.rename(columns={\"2015 PRICE VAR [%]\": \"PRICE_VAR\"},inplace=True)\n",
    "df15.rename(columns={\"2016 PRICE VAR [%]\": \"PRICE_VAR\"},inplace=True)\n",
    "df16.rename(columns={\"2017 PRICE VAR [%]\": \"PRICE_VAR\"},inplace=True)\n",
    "df17.rename(columns={\"2018 PRICE VAR [%]\": \"PRICE_VAR\"},inplace=True)\n",
    "df18.rename(columns={\"2019 PRICE VAR [%]\": \"PRICE_VAR\"},inplace=True)"
   ]
  },
  {
   "cell_type": "code",
   "execution_count": 182,
   "id": "7a7a0027",
   "metadata": {},
   "outputs": [],
   "source": [
    "df14['Year']=2015\n",
    "df15['Year']=2016\n",
    "df16['Year']=2017\n",
    "df17['Year']=2018\n",
    "df18['Year']=2019"
   ]
  },
  {
   "cell_type": "code",
   "execution_count": 183,
   "id": "36591a76",
   "metadata": {},
   "outputs": [],
   "source": [
    "data = pd.concat([df14,df15, df16, df17,df18])"
   ]
  },
  {
   "cell_type": "code",
   "execution_count": 184,
   "id": "73da1d53",
   "metadata": {},
   "outputs": [
    {
     "data": {
      "text/html": [
       "<div>\n",
       "<style scoped>\n",
       "    .dataframe tbody tr th:only-of-type {\n",
       "        vertical-align: middle;\n",
       "    }\n",
       "\n",
       "    .dataframe tbody tr th {\n",
       "        vertical-align: top;\n",
       "    }\n",
       "\n",
       "    .dataframe thead th {\n",
       "        text-align: right;\n",
       "    }\n",
       "</style>\n",
       "<table border=\"1\" class=\"dataframe\">\n",
       "  <thead>\n",
       "    <tr style=\"text-align: right;\">\n",
       "      <th></th>\n",
       "      <th>Revenue</th>\n",
       "      <th>Revenue Growth</th>\n",
       "      <th>Cost of Revenue</th>\n",
       "      <th>Gross Profit</th>\n",
       "      <th>R&amp;D Expenses</th>\n",
       "      <th>SG&amp;A Expense</th>\n",
       "      <th>Operating Expenses</th>\n",
       "      <th>Operating Income</th>\n",
       "      <th>Interest Expense</th>\n",
       "      <th>Earnings before Tax</th>\n",
       "      <th>Income Tax Expense</th>\n",
       "      <th>Net Income - Non-Controlling int</th>\n",
       "      <th>Net Income - Discontinued ops</th>\n",
       "      <th>Net Income</th>\n",
       "      <th>Preferred Dividends</th>\n",
       "      <th>Net Income Com</th>\n",
       "      <th>EPS</th>\n",
       "      <th>EPS Diluted</th>\n",
       "      <th>Weighted Average Shs Out</th>\n",
       "      <th>Weighted Average Shs Out (Dil)</th>\n",
       "      <th>Dividend per Share</th>\n",
       "      <th>Gross Margin</th>\n",
       "      <th>EBITDA Margin</th>\n",
       "      <th>EBIT Margin</th>\n",
       "      <th>Profit Margin</th>\n",
       "      <th>Free Cash Flow margin</th>\n",
       "      <th>EBITDA</th>\n",
       "      <th>EBIT</th>\n",
       "      <th>Consolidated Income</th>\n",
       "      <th>Earnings Before Tax Margin</th>\n",
       "      <th>Net Profit Margin</th>\n",
       "      <th>Cash and cash equivalents</th>\n",
       "      <th>Short-term investments</th>\n",
       "      <th>Cash and short-term investments</th>\n",
       "      <th>Receivables</th>\n",
       "      <th>Inventories</th>\n",
       "      <th>Total current assets</th>\n",
       "      <th>Property, Plant &amp; Equipment Net</th>\n",
       "      <th>Goodwill and Intangible Assets</th>\n",
       "      <th>Long-term investments</th>\n",
       "      <th>Tax assets</th>\n",
       "      <th>Total non-current assets</th>\n",
       "      <th>Total assets</th>\n",
       "      <th>Payables</th>\n",
       "      <th>Short-term debt</th>\n",
       "      <th>Total current liabilities</th>\n",
       "      <th>Long-term debt</th>\n",
       "      <th>Total debt</th>\n",
       "      <th>Deferred revenue</th>\n",
       "      <th>Tax Liabilities</th>\n",
       "      <th>Deposit Liabilities</th>\n",
       "      <th>Total non-current liabilities</th>\n",
       "      <th>Total liabilities</th>\n",
       "      <th>Other comprehensive income</th>\n",
       "      <th>Retained earnings (deficit)</th>\n",
       "      <th>Total shareholders equity</th>\n",
       "      <th>Investments</th>\n",
       "      <th>Net Debt</th>\n",
       "      <th>Other Assets</th>\n",
       "      <th>Other Liabilities</th>\n",
       "      <th>Depreciation &amp; Amortization</th>\n",
       "      <th>Stock-based compensation</th>\n",
       "      <th>Operating Cash Flow</th>\n",
       "      <th>Capital Expenditure</th>\n",
       "      <th>Acquisitions and disposals</th>\n",
       "      <th>Investment purchases and sales</th>\n",
       "      <th>Investing Cash flow</th>\n",
       "      <th>Issuance (repayment) of debt</th>\n",
       "      <th>Issuance (buybacks) of shares</th>\n",
       "      <th>Dividend payments</th>\n",
       "      <th>Financing Cash Flow</th>\n",
       "      <th>Effect of forex changes on cash</th>\n",
       "      <th>Net cash flow / Change in cash</th>\n",
       "      <th>Free Cash Flow</th>\n",
       "      <th>Net Cash/Marketcap</th>\n",
       "      <th>priceBookValueRatio</th>\n",
       "      <th>priceToBookRatio</th>\n",
       "      <th>priceToSalesRatio</th>\n",
       "      <th>priceEarningsRatio</th>\n",
       "      <th>priceToFreeCashFlowsRatio</th>\n",
       "      <th>priceToOperatingCashFlowsRatio</th>\n",
       "      <th>priceCashFlowRatio</th>\n",
       "      <th>priceEarningsToGrowthRatio</th>\n",
       "      <th>priceSalesRatio</th>\n",
       "      <th>dividendYield</th>\n",
       "      <th>enterpriseValueMultiple</th>\n",
       "      <th>priceFairValue</th>\n",
       "      <th>ebitperRevenue</th>\n",
       "      <th>ebtperEBIT</th>\n",
       "      <th>niperEBT</th>\n",
       "      <th>grossProfitMargin</th>\n",
       "      <th>operatingProfitMargin</th>\n",
       "      <th>pretaxProfitMargin</th>\n",
       "      <th>netProfitMargin</th>\n",
       "      <th>effectiveTaxRate</th>\n",
       "      <th>returnOnAssets</th>\n",
       "      <th>returnOnEquity</th>\n",
       "      <th>returnOnCapitalEmployed</th>\n",
       "      <th>nIperEBT</th>\n",
       "      <th>eBTperEBIT</th>\n",
       "      <th>eBITperRevenue</th>\n",
       "      <th>payablesTurnover</th>\n",
       "      <th>inventoryTurnover</th>\n",
       "      <th>fixedAssetTurnover</th>\n",
       "      <th>assetTurnover</th>\n",
       "      <th>currentRatio</th>\n",
       "      <th>quickRatio</th>\n",
       "      <th>cashRatio</th>\n",
       "      <th>daysOfSalesOutstanding</th>\n",
       "      <th>daysOfInventoryOutstanding</th>\n",
       "      <th>operatingCycle</th>\n",
       "      <th>daysOfPayablesOutstanding</th>\n",
       "      <th>cashConversionCycle</th>\n",
       "      <th>debtRatio</th>\n",
       "      <th>debtEquityRatio</th>\n",
       "      <th>longtermDebtToCapitalization</th>\n",
       "      <th>totalDebtToCapitalization</th>\n",
       "      <th>interestCoverage</th>\n",
       "      <th>cashFlowToDebtRatio</th>\n",
       "      <th>companyEquityMultiplier</th>\n",
       "      <th>operatingCashFlowPerShare</th>\n",
       "      <th>freeCashFlowPerShare</th>\n",
       "      <th>cashPerShare</th>\n",
       "      <th>payoutRatio</th>\n",
       "      <th>operatingCashFlowSalesRatio</th>\n",
       "      <th>freeCashFlowOperatingCashFlowRatio</th>\n",
       "      <th>cashFlowCoverageRatios</th>\n",
       "      <th>shortTermCoverageRatios</th>\n",
       "      <th>capitalExpenditureCoverageRatios</th>\n",
       "      <th>dividendpaidAndCapexCoverageRatios</th>\n",
       "      <th>dividendPayoutRatio</th>\n",
       "      <th>Revenue per Share</th>\n",
       "      <th>Net Income per Share</th>\n",
       "      <th>Operating Cash Flow per Share</th>\n",
       "      <th>Free Cash Flow per Share</th>\n",
       "      <th>Cash per Share</th>\n",
       "      <th>Book Value per Share</th>\n",
       "      <th>Tangible Book Value per Share</th>\n",
       "      <th>Shareholders Equity per Share</th>\n",
       "      <th>Interest Debt per Share</th>\n",
       "      <th>Market Cap</th>\n",
       "      <th>Enterprise Value</th>\n",
       "      <th>PE ratio</th>\n",
       "      <th>Price to Sales Ratio</th>\n",
       "      <th>POCF ratio</th>\n",
       "      <th>PFCF ratio</th>\n",
       "      <th>PB ratio</th>\n",
       "      <th>PTB ratio</th>\n",
       "      <th>EV to Sales</th>\n",
       "      <th>Enterprise Value over EBITDA</th>\n",
       "      <th>EV to Operating cash flow</th>\n",
       "      <th>EV to Free cash flow</th>\n",
       "      <th>Earnings Yield</th>\n",
       "      <th>Free Cash Flow Yield</th>\n",
       "      <th>Debt to Equity</th>\n",
       "      <th>Debt to Assets</th>\n",
       "      <th>Net Debt to EBITDA</th>\n",
       "      <th>Current ratio</th>\n",
       "      <th>Interest Coverage</th>\n",
       "      <th>Income Quality</th>\n",
       "      <th>Dividend Yield</th>\n",
       "      <th>Payout Ratio</th>\n",
       "      <th>SG&amp;A to Revenue</th>\n",
       "      <th>R&amp;D to Revenue</th>\n",
       "      <th>Intangibles to Total Assets</th>\n",
       "      <th>Capex to Operating Cash Flow</th>\n",
       "      <th>Capex to Revenue</th>\n",
       "      <th>Capex to Depreciation</th>\n",
       "      <th>Stock-based compensation to Revenue</th>\n",
       "      <th>Graham Number</th>\n",
       "      <th>ROIC</th>\n",
       "      <th>Return on Tangible Assets</th>\n",
       "      <th>Graham Net-Net</th>\n",
       "      <th>Working Capital</th>\n",
       "      <th>Tangible Asset Value</th>\n",
       "      <th>Net Current Asset Value</th>\n",
       "      <th>Invested Capital</th>\n",
       "      <th>Average Receivables</th>\n",
       "      <th>Average Payables</th>\n",
       "      <th>Average Inventory</th>\n",
       "      <th>Days Sales Outstanding</th>\n",
       "      <th>Days Payables Outstanding</th>\n",
       "      <th>Days of Inventory on Hand</th>\n",
       "      <th>Receivables Turnover</th>\n",
       "      <th>Payables Turnover</th>\n",
       "      <th>Inventory Turnover</th>\n",
       "      <th>ROE</th>\n",
       "      <th>Capex per Share</th>\n",
       "      <th>Gross Profit Growth</th>\n",
       "      <th>EBIT Growth</th>\n",
       "      <th>Operating Income Growth</th>\n",
       "      <th>Net Income Growth</th>\n",
       "      <th>EPS Growth</th>\n",
       "      <th>EPS Diluted Growth</th>\n",
       "      <th>Weighted Average Shares Growth</th>\n",
       "      <th>Weighted Average Shares Diluted Growth</th>\n",
       "      <th>Dividends per Share Growth</th>\n",
       "      <th>Operating Cash Flow growth</th>\n",
       "      <th>Free Cash Flow growth</th>\n",
       "      <th>10Y Revenue Growth (per Share)</th>\n",
       "      <th>5Y Revenue Growth (per Share)</th>\n",
       "      <th>3Y Revenue Growth (per Share)</th>\n",
       "      <th>10Y Operating CF Growth (per Share)</th>\n",
       "      <th>5Y Operating CF Growth (per Share)</th>\n",
       "      <th>3Y Operating CF Growth (per Share)</th>\n",
       "      <th>10Y Net Income Growth (per Share)</th>\n",
       "      <th>5Y Net Income Growth (per Share)</th>\n",
       "      <th>3Y Net Income Growth (per Share)</th>\n",
       "      <th>10Y Shareholders Equity Growth (per Share)</th>\n",
       "      <th>5Y Shareholders Equity Growth (per Share)</th>\n",
       "      <th>3Y Shareholders Equity Growth (per Share)</th>\n",
       "      <th>10Y Dividend per Share Growth (per Share)</th>\n",
       "      <th>5Y Dividend per Share Growth (per Share)</th>\n",
       "      <th>3Y Dividend per Share Growth (per Share)</th>\n",
       "      <th>Receivables growth</th>\n",
       "      <th>Inventory Growth</th>\n",
       "      <th>Asset Growth</th>\n",
       "      <th>Book Value per Share Growth</th>\n",
       "      <th>Debt Growth</th>\n",
       "      <th>R&amp;D Expense Growth</th>\n",
       "      <th>SG&amp;A Expenses Growth</th>\n",
       "      <th>PRICE_VAR</th>\n",
       "      <th>Year</th>\n",
       "    </tr>\n",
       "    <tr>\n",
       "      <th>Class</th>\n",
       "      <th></th>\n",
       "      <th></th>\n",
       "      <th></th>\n",
       "      <th></th>\n",
       "      <th></th>\n",
       "      <th></th>\n",
       "      <th></th>\n",
       "      <th></th>\n",
       "      <th></th>\n",
       "      <th></th>\n",
       "      <th></th>\n",
       "      <th></th>\n",
       "      <th></th>\n",
       "      <th></th>\n",
       "      <th></th>\n",
       "      <th></th>\n",
       "      <th></th>\n",
       "      <th></th>\n",
       "      <th></th>\n",
       "      <th></th>\n",
       "      <th></th>\n",
       "      <th></th>\n",
       "      <th></th>\n",
       "      <th></th>\n",
       "      <th></th>\n",
       "      <th></th>\n",
       "      <th></th>\n",
       "      <th></th>\n",
       "      <th></th>\n",
       "      <th></th>\n",
       "      <th></th>\n",
       "      <th></th>\n",
       "      <th></th>\n",
       "      <th></th>\n",
       "      <th></th>\n",
       "      <th></th>\n",
       "      <th></th>\n",
       "      <th></th>\n",
       "      <th></th>\n",
       "      <th></th>\n",
       "      <th></th>\n",
       "      <th></th>\n",
       "      <th></th>\n",
       "      <th></th>\n",
       "      <th></th>\n",
       "      <th></th>\n",
       "      <th></th>\n",
       "      <th></th>\n",
       "      <th></th>\n",
       "      <th></th>\n",
       "      <th></th>\n",
       "      <th></th>\n",
       "      <th></th>\n",
       "      <th></th>\n",
       "      <th></th>\n",
       "      <th></th>\n",
       "      <th></th>\n",
       "      <th></th>\n",
       "      <th></th>\n",
       "      <th></th>\n",
       "      <th></th>\n",
       "      <th></th>\n",
       "      <th></th>\n",
       "      <th></th>\n",
       "      <th></th>\n",
       "      <th></th>\n",
       "      <th></th>\n",
       "      <th></th>\n",
       "      <th></th>\n",
       "      <th></th>\n",
       "      <th></th>\n",
       "      <th></th>\n",
       "      <th></th>\n",
       "      <th></th>\n",
       "      <th></th>\n",
       "      <th></th>\n",
       "      <th></th>\n",
       "      <th></th>\n",
       "      <th></th>\n",
       "      <th></th>\n",
       "      <th></th>\n",
       "      <th></th>\n",
       "      <th></th>\n",
       "      <th></th>\n",
       "      <th></th>\n",
       "      <th></th>\n",
       "      <th></th>\n",
       "      <th></th>\n",
       "      <th></th>\n",
       "      <th></th>\n",
       "      <th></th>\n",
       "      <th></th>\n",
       "      <th></th>\n",
       "      <th></th>\n",
       "      <th></th>\n",
       "      <th></th>\n",
       "      <th></th>\n",
       "      <th></th>\n",
       "      <th></th>\n",
       "      <th></th>\n",
       "      <th></th>\n",
       "      <th></th>\n",
       "      <th></th>\n",
       "      <th></th>\n",
       "      <th></th>\n",
       "      <th></th>\n",
       "      <th></th>\n",
       "      <th></th>\n",
       "      <th></th>\n",
       "      <th></th>\n",
       "      <th></th>\n",
       "      <th></th>\n",
       "      <th></th>\n",
       "      <th></th>\n",
       "      <th></th>\n",
       "      <th></th>\n",
       "      <th></th>\n",
       "      <th></th>\n",
       "      <th></th>\n",
       "      <th></th>\n",
       "      <th></th>\n",
       "      <th></th>\n",
       "      <th></th>\n",
       "      <th></th>\n",
       "      <th></th>\n",
       "      <th></th>\n",
       "      <th></th>\n",
       "      <th></th>\n",
       "      <th></th>\n",
       "      <th></th>\n",
       "      <th></th>\n",
       "      <th></th>\n",
       "      <th></th>\n",
       "      <th></th>\n",
       "      <th></th>\n",
       "      <th></th>\n",
       "      <th></th>\n",
       "      <th></th>\n",
       "      <th></th>\n",
       "      <th></th>\n",
       "      <th></th>\n",
       "      <th></th>\n",
       "      <th></th>\n",
       "      <th></th>\n",
       "      <th></th>\n",
       "      <th></th>\n",
       "      <th></th>\n",
       "      <th></th>\n",
       "      <th></th>\n",
       "      <th></th>\n",
       "      <th></th>\n",
       "      <th></th>\n",
       "      <th></th>\n",
       "      <th></th>\n",
       "      <th></th>\n",
       "      <th></th>\n",
       "      <th></th>\n",
       "      <th></th>\n",
       "      <th></th>\n",
       "      <th></th>\n",
       "      <th></th>\n",
       "      <th></th>\n",
       "      <th></th>\n",
       "      <th></th>\n",
       "      <th></th>\n",
       "      <th></th>\n",
       "      <th></th>\n",
       "      <th></th>\n",
       "      <th></th>\n",
       "      <th></th>\n",
       "      <th></th>\n",
       "      <th></th>\n",
       "      <th></th>\n",
       "      <th></th>\n",
       "      <th></th>\n",
       "      <th></th>\n",
       "      <th></th>\n",
       "      <th></th>\n",
       "      <th></th>\n",
       "      <th></th>\n",
       "      <th></th>\n",
       "      <th></th>\n",
       "      <th></th>\n",
       "      <th></th>\n",
       "      <th></th>\n",
       "      <th></th>\n",
       "      <th></th>\n",
       "      <th></th>\n",
       "      <th></th>\n",
       "      <th></th>\n",
       "      <th></th>\n",
       "      <th></th>\n",
       "      <th></th>\n",
       "      <th></th>\n",
       "      <th></th>\n",
       "      <th></th>\n",
       "      <th></th>\n",
       "      <th></th>\n",
       "      <th></th>\n",
       "      <th></th>\n",
       "      <th></th>\n",
       "      <th></th>\n",
       "      <th></th>\n",
       "      <th></th>\n",
       "      <th></th>\n",
       "      <th></th>\n",
       "      <th></th>\n",
       "      <th></th>\n",
       "      <th></th>\n",
       "      <th></th>\n",
       "      <th></th>\n",
       "      <th></th>\n",
       "      <th></th>\n",
       "      <th></th>\n",
       "      <th></th>\n",
       "      <th></th>\n",
       "      <th></th>\n",
       "      <th></th>\n",
       "      <th></th>\n",
       "      <th></th>\n",
       "      <th></th>\n",
       "      <th></th>\n",
       "      <th></th>\n",
       "    </tr>\n",
       "  </thead>\n",
       "  <tbody>\n",
       "    <tr>\n",
       "      <th>0</th>\n",
       "      <td>4.392016e+09</td>\n",
       "      <td>5.802416</td>\n",
       "      <td>2.758811e+09</td>\n",
       "      <td>1.671271e+09</td>\n",
       "      <td>7.413257e+07</td>\n",
       "      <td>7.311278e+08</td>\n",
       "      <td>1.205049e+09</td>\n",
       "      <td>4.686716e+08</td>\n",
       "      <td>8.854488e+07</td>\n",
       "      <td>3.843850e+08</td>\n",
       "      <td>1.117440e+08</td>\n",
       "      <td>1.294238e+07</td>\n",
       "      <td>-3.391425e+06</td>\n",
       "      <td>3.134132e+08</td>\n",
       "      <td>4.374603e+06</td>\n",
       "      <td>3.123737e+08</td>\n",
       "      <td>-23351.193310</td>\n",
       "      <td>-23521.755853</td>\n",
       "      <td>2.658731e+08</td>\n",
       "      <td>2.655055e+08</td>\n",
       "      <td>1.816469</td>\n",
       "      <td>0.445525</td>\n",
       "      <td>-14.565382</td>\n",
       "      <td>-12.974727</td>\n",
       "      <td>-15.226725</td>\n",
       "      <td>-11.032170</td>\n",
       "      <td>7.728630e+08</td>\n",
       "      <td>5.139359e+08</td>\n",
       "      <td>3.262942e+08</td>\n",
       "      <td>-12.833801</td>\n",
       "      <td>-12.943365</td>\n",
       "      <td>1.299741e+09</td>\n",
       "      <td>8.412218e+08</td>\n",
       "      <td>1.911343e+09</td>\n",
       "      <td>8.324676e+08</td>\n",
       "      <td>3.638510e+08</td>\n",
       "      <td>4.311910e+09</td>\n",
       "      <td>2.440260e+09</td>\n",
       "      <td>1.471627e+09</td>\n",
       "      <td>2.292966e+09</td>\n",
       "      <td>1.408012e+08</td>\n",
       "      <td>7.095110e+12</td>\n",
       "      <td>1.938102e+10</td>\n",
       "      <td>7.671259e+08</td>\n",
       "      <td>4.706859e+08</td>\n",
       "      <td>5.603720e+09</td>\n",
       "      <td>2.967781e+09</td>\n",
       "      <td>4.397591e+09</td>\n",
       "      <td>1.482428e+12</td>\n",
       "      <td>5.429039e+11</td>\n",
       "      <td>4.186139e+09</td>\n",
       "      <td>8.052672e+11</td>\n",
       "      <td>1.542341e+10</td>\n",
       "      <td>1.856952e+11</td>\n",
       "      <td>1.643784e+09</td>\n",
       "      <td>3.203856e+09</td>\n",
       "      <td>8.045046e+09</td>\n",
       "      <td>2.013964e+09</td>\n",
       "      <td>2.811231e+08</td>\n",
       "      <td>4.398635e+09</td>\n",
       "      <td>3.653365e+08</td>\n",
       "      <td>2.214530e+07</td>\n",
       "      <td>1.068041e+09</td>\n",
       "      <td>-3.654665e+08</td>\n",
       "      <td>-7.995505e+07</td>\n",
       "      <td>-1.316897e+08</td>\n",
       "      <td>-5.642881e+08</td>\n",
       "      <td>1.668360e+07</td>\n",
       "      <td>-6.244672e+07</td>\n",
       "      <td>-1.422966e+08</td>\n",
       "      <td>-1.753745e+08</td>\n",
       "      <td>-4.387279e+07</td>\n",
       "      <td>2.324595e+08</td>\n",
       "      <td>3.187130e+08</td>\n",
       "      <td>-1.349885</td>\n",
       "      <td>19545.680856</td>\n",
       "      <td>19549.825609</td>\n",
       "      <td>166.727604</td>\n",
       "      <td>46.955401</td>\n",
       "      <td>43.186350</td>\n",
       "      <td>28.036396</td>\n",
       "      <td>25.801921</td>\n",
       "      <td>73.222372</td>\n",
       "      <td>147.599205</td>\n",
       "      <td>0.331155</td>\n",
       "      <td>42.892644</td>\n",
       "      <td>5580.741381</td>\n",
       "      <td>-14.069046</td>\n",
       "      <td>0.929200</td>\n",
       "      <td>0.956255</td>\n",
       "      <td>0.446559</td>\n",
       "      <td>1.0</td>\n",
       "      <td>-14.270458</td>\n",
       "      <td>-14.056423</td>\n",
       "      <td>0.021771</td>\n",
       "      <td>-0.265267</td>\n",
       "      <td>1146.640847</td>\n",
       "      <td>-0.261466</td>\n",
       "      <td>0.956255</td>\n",
       "      <td>0.929200</td>\n",
       "      <td>-14.069046</td>\n",
       "      <td>6.650367</td>\n",
       "      <td>41.423106</td>\n",
       "      <td>126.233014</td>\n",
       "      <td>0.686536</td>\n",
       "      <td>6.813039</td>\n",
       "      <td>65.027028</td>\n",
       "      <td>20.702720</td>\n",
       "      <td>-158.729304</td>\n",
       "      <td>289.210707</td>\n",
       "      <td>123.612045</td>\n",
       "      <td>569.430862</td>\n",
       "      <td>32.717264</td>\n",
       "      <td>0.273232</td>\n",
       "      <td>0.845834</td>\n",
       "      <td>0.338062</td>\n",
       "      <td>0.508676</td>\n",
       "      <td>-31.013715</td>\n",
       "      <td>132.156482</td>\n",
       "      <td>904.28394</td>\n",
       "      <td>26387.142003</td>\n",
       "      <td>-1944.177586</td>\n",
       "      <td>73075.509754</td>\n",
       "      <td>0.333583</td>\n",
       "      <td>-98.325166</td>\n",
       "      <td>-0.033414</td>\n",
       "      <td>132.156482</td>\n",
       "      <td>407.081693</td>\n",
       "      <td>-4.905857</td>\n",
       "      <td>-44.671426</td>\n",
       "      <td>0.842644</td>\n",
       "      <td>189042.315187</td>\n",
       "      <td>12215.855177</td>\n",
       "      <td>26366.458497</td>\n",
       "      <td>-1942.659449</td>\n",
       "      <td>73083.700225</td>\n",
       "      <td>123573.457069</td>\n",
       "      <td>236457.777329</td>\n",
       "      <td>233605.141428</td>\n",
       "      <td>345719.446243</td>\n",
       "      <td>3.385003e+10</td>\n",
       "      <td>6.358880e+09</td>\n",
       "      <td>47.032008</td>\n",
       "      <td>166.554501</td>\n",
       "      <td>28.019257</td>\n",
       "      <td>43.146313</td>\n",
       "      <td>19522.451410</td>\n",
       "      <td>19526.590754</td>\n",
       "      <td>95.828029</td>\n",
       "      <td>25.317113</td>\n",
       "      <td>2.425615</td>\n",
       "      <td>27.483931</td>\n",
       "      <td>-0.504092</td>\n",
       "      <td>-0.127924</td>\n",
       "      <td>0.845834</td>\n",
       "      <td>0.273232</td>\n",
       "      <td>1.009899</td>\n",
       "      <td>6.412538</td>\n",
       "      <td>-30.965076</td>\n",
       "      <td>3.644459</td>\n",
       "      <td>0.020100</td>\n",
       "      <td>0.333173</td>\n",
       "      <td>6.369273</td>\n",
       "      <td>7.294712</td>\n",
       "      <td>0.147442</td>\n",
       "      <td>0.750834</td>\n",
       "      <td>0.121232</td>\n",
       "      <td>-5.774433</td>\n",
       "      <td>1.939248</td>\n",
       "      <td>1537.147061</td>\n",
       "      <td>-0.261466</td>\n",
       "      <td>-0.265267</td>\n",
       "      <td>-1.814148</td>\n",
       "      <td>-6.079121e+11</td>\n",
       "      <td>1.402275e+10</td>\n",
       "      <td>-5.702954e+09</td>\n",
       "      <td>-9.051517e+11</td>\n",
       "      <td>7.711612e+08</td>\n",
       "      <td>8.339269e+08</td>\n",
       "      <td>3.203231e+08</td>\n",
       "      <td>374.035241</td>\n",
       "      <td>569.494167</td>\n",
       "      <td>-158.746953</td>\n",
       "      <td>34.047569</td>\n",
       "      <td>6.650367</td>\n",
       "      <td>41.423106</td>\n",
       "      <td>1146.768840</td>\n",
       "      <td>-29228.519297</td>\n",
       "      <td>39.225577</td>\n",
       "      <td>0.865569</td>\n",
       "      <td>-0.700281</td>\n",
       "      <td>-4.665501</td>\n",
       "      <td>-0.147584</td>\n",
       "      <td>-0.159686</td>\n",
       "      <td>26.831973</td>\n",
       "      <td>1.601361</td>\n",
       "      <td>0.152434</td>\n",
       "      <td>53.193267</td>\n",
       "      <td>-8.241979</td>\n",
       "      <td>0.007064</td>\n",
       "      <td>0.010748</td>\n",
       "      <td>0.030755</td>\n",
       "      <td>0.028385</td>\n",
       "      <td>0.034854</td>\n",
       "      <td>0.052002</td>\n",
       "      <td>0.022551</td>\n",
       "      <td>0.045445</td>\n",
       "      <td>0.059104</td>\n",
       "      <td>0.021991</td>\n",
       "      <td>0.032492</td>\n",
       "      <td>0.043446</td>\n",
       "      <td>-0.039244</td>\n",
       "      <td>-0.014966</td>\n",
       "      <td>-0.002176</td>\n",
       "      <td>5.641256</td>\n",
       "      <td>0.193559</td>\n",
       "      <td>1.308915</td>\n",
       "      <td>1.983633</td>\n",
       "      <td>2.60788</td>\n",
       "      <td>0.321335</td>\n",
       "      <td>0.591633</td>\n",
       "      <td>-28.740394</td>\n",
       "      <td>2017.071083</td>\n",
       "    </tr>\n",
       "    <tr>\n",
       "      <th>1</th>\n",
       "      <td>5.787447e+09</td>\n",
       "      <td>1.817772</td>\n",
       "      <td>3.671566e+09</td>\n",
       "      <td>2.214740e+09</td>\n",
       "      <td>1.275583e+08</td>\n",
       "      <td>9.845392e+08</td>\n",
       "      <td>1.503427e+09</td>\n",
       "      <td>6.879742e+08</td>\n",
       "      <td>1.054011e+08</td>\n",
       "      <td>5.805132e+08</td>\n",
       "      <td>1.450200e+08</td>\n",
       "      <td>1.376213e+07</td>\n",
       "      <td>-3.114725e+06</td>\n",
       "      <td>4.504746e+08</td>\n",
       "      <td>4.922657e+06</td>\n",
       "      <td>4.483731e+08</td>\n",
       "      <td>-255.948818</td>\n",
       "      <td>-271.046529</td>\n",
       "      <td>2.609767e+08</td>\n",
       "      <td>2.673131e+08</td>\n",
       "      <td>0.715836</td>\n",
       "      <td>0.522307</td>\n",
       "      <td>-4.309665</td>\n",
       "      <td>-2.545258</td>\n",
       "      <td>-4.547607</td>\n",
       "      <td>-2.355614</td>\n",
       "      <td>1.058008e+09</td>\n",
       "      <td>7.000430e+08</td>\n",
       "      <td>4.636164e+08</td>\n",
       "      <td>-2.639458</td>\n",
       "      <td>-2.605485</td>\n",
       "      <td>2.379052e+09</td>\n",
       "      <td>1.841299e+09</td>\n",
       "      <td>4.057698e+09</td>\n",
       "      <td>1.092537e+09</td>\n",
       "      <td>6.198510e+08</td>\n",
       "      <td>6.272853e+09</td>\n",
       "      <td>2.940037e+09</td>\n",
       "      <td>1.943988e+09</td>\n",
       "      <td>3.461898e+09</td>\n",
       "      <td>1.615567e+08</td>\n",
       "      <td>6.791936e+09</td>\n",
       "      <td>2.124713e+10</td>\n",
       "      <td>1.038621e+09</td>\n",
       "      <td>7.039485e+08</td>\n",
       "      <td>8.915045e+09</td>\n",
       "      <td>3.559791e+09</td>\n",
       "      <td>4.691483e+09</td>\n",
       "      <td>1.687649e+08</td>\n",
       "      <td>4.238905e+08</td>\n",
       "      <td>5.822417e+09</td>\n",
       "      <td>4.093682e+09</td>\n",
       "      <td>1.663370e+10</td>\n",
       "      <td>-1.607091e+08</td>\n",
       "      <td>2.478754e+09</td>\n",
       "      <td>3.966177e+09</td>\n",
       "      <td>9.851402e+09</td>\n",
       "      <td>1.697575e+09</td>\n",
       "      <td>9.153972e+08</td>\n",
       "      <td>7.114937e+09</td>\n",
       "      <td>3.230370e+08</td>\n",
       "      <td>3.795213e+07</td>\n",
       "      <td>1.077471e+09</td>\n",
       "      <td>-4.130468e+08</td>\n",
       "      <td>-1.339481e+08</td>\n",
       "      <td>-2.715283e+08</td>\n",
       "      <td>-8.142558e+08</td>\n",
       "      <td>6.192594e+07</td>\n",
       "      <td>-1.647461e+08</td>\n",
       "      <td>-2.152610e+08</td>\n",
       "      <td>-2.010000e+08</td>\n",
       "      <td>-1.132363e+08</td>\n",
       "      <td>2.000932e+07</td>\n",
       "      <td>5.643020e+08</td>\n",
       "      <td>-0.637120</td>\n",
       "      <td>20983.622607</td>\n",
       "      <td>20976.271178</td>\n",
       "      <td>22.787727</td>\n",
       "      <td>30.281963</td>\n",
       "      <td>30.873079</td>\n",
       "      <td>75.155188</td>\n",
       "      <td>90.721860</td>\n",
       "      <td>48.644879</td>\n",
       "      <td>22.143232</td>\n",
       "      <td>0.249335</td>\n",
       "      <td>31.957241</td>\n",
       "      <td>15762.412879</td>\n",
       "      <td>-2.727415</td>\n",
       "      <td>0.434752</td>\n",
       "      <td>0.803417</td>\n",
       "      <td>0.528492</td>\n",
       "      <td>1.0</td>\n",
       "      <td>-3.113417</td>\n",
       "      <td>-2.791518</td>\n",
       "      <td>-3.339450</td>\n",
       "      <td>0.121592</td>\n",
       "      <td>2060.981190</td>\n",
       "      <td>0.020555</td>\n",
       "      <td>0.803417</td>\n",
       "      <td>0.434752</td>\n",
       "      <td>-2.727415</td>\n",
       "      <td>5.867896</td>\n",
       "      <td>23.468820</td>\n",
       "      <td>60.658459</td>\n",
       "      <td>0.694987</td>\n",
       "      <td>7.372718</td>\n",
       "      <td>77.601265</td>\n",
       "      <td>17.576343</td>\n",
       "      <td>-604.003381</td>\n",
       "      <td>859.620305</td>\n",
       "      <td>248.927662</td>\n",
       "      <td>150.389237</td>\n",
       "      <td>59.175075</td>\n",
       "      <td>0.272623</td>\n",
       "      <td>0.327558</td>\n",
       "      <td>0.376664</td>\n",
       "      <td>0.407701</td>\n",
       "      <td>-33.179534</td>\n",
       "      <td>15.673920</td>\n",
       "      <td>1501.93615</td>\n",
       "      <td>20008.058143</td>\n",
       "      <td>4377.901685</td>\n",
       "      <td>92487.771179</td>\n",
       "      <td>0.314756</td>\n",
       "      <td>56.824905</td>\n",
       "      <td>-1.162039</td>\n",
       "      <td>15.673920</td>\n",
       "      <td>125.677024</td>\n",
       "      <td>-20.842228</td>\n",
       "      <td>-25.135696</td>\n",
       "      <td>0.807129</td>\n",
       "      <td>120525.290292</td>\n",
       "      <td>13487.311770</td>\n",
       "      <td>19998.743580</td>\n",
       "      <td>4375.865454</td>\n",
       "      <td>92487.771179</td>\n",
       "      <td>1883.122123</td>\n",
       "      <td>2791.011552</td>\n",
       "      <td>177200.753186</td>\n",
       "      <td>297834.121070</td>\n",
       "      <td>2.786461e+10</td>\n",
       "      <td>1.016511e+10</td>\n",
       "      <td>30.332556</td>\n",
       "      <td>22.759409</td>\n",
       "      <td>75.078109</td>\n",
       "      <td>30.854236</td>\n",
       "      <td>20968.481803</td>\n",
       "      <td>20961.135280</td>\n",
       "      <td>20.208129</td>\n",
       "      <td>18.878346</td>\n",
       "      <td>70.022417</td>\n",
       "      <td>-56.838697</td>\n",
       "      <td>0.024626</td>\n",
       "      <td>-3.048698</td>\n",
       "      <td>0.327558</td>\n",
       "      <td>0.272623</td>\n",
       "      <td>4.427289</td>\n",
       "      <td>6.734072</td>\n",
       "      <td>-33.000420</td>\n",
       "      <td>2.137932</td>\n",
       "      <td>0.020695</td>\n",
       "      <td>0.314647</td>\n",
       "      <td>1.135807</td>\n",
       "      <td>2.076650</td>\n",
       "      <td>0.160770</td>\n",
       "      <td>1.914099</td>\n",
       "      <td>0.134498</td>\n",
       "      <td>-5.320119</td>\n",
       "      <td>0.364411</td>\n",
       "      <td>102.061471</td>\n",
       "      <td>0.020555</td>\n",
       "      <td>0.121592</td>\n",
       "      <td>-1.532105</td>\n",
       "      <td>9.806344e+09</td>\n",
       "      <td>1.794156e+10</td>\n",
       "      <td>-9.160564e+09</td>\n",
       "      <td>1.925858e+10</td>\n",
       "      <td>1.033042e+09</td>\n",
       "      <td>1.048425e+09</td>\n",
       "      <td>4.520136e+08</td>\n",
       "      <td>1053.816146</td>\n",
       "      <td>150.401917</td>\n",
       "      <td>-604.059106</td>\n",
       "      <td>53.651453</td>\n",
       "      <td>5.867896</td>\n",
       "      <td>23.468820</td>\n",
       "      <td>2061.172519</td>\n",
       "      <td>-10122.937425</td>\n",
       "      <td>2.152269</td>\n",
       "      <td>0.759567</td>\n",
       "      <td>1.426089</td>\n",
       "      <td>-0.201593</td>\n",
       "      <td>0.640552</td>\n",
       "      <td>3649.975531</td>\n",
       "      <td>1.910152</td>\n",
       "      <td>349.118614</td>\n",
       "      <td>0.163039</td>\n",
       "      <td>73.163941</td>\n",
       "      <td>0.363807</td>\n",
       "      <td>0.031339</td>\n",
       "      <td>0.041915</td>\n",
       "      <td>0.048731</td>\n",
       "      <td>0.044684</td>\n",
       "      <td>0.056966</td>\n",
       "      <td>0.074084</td>\n",
       "      <td>0.036950</td>\n",
       "      <td>0.065907</td>\n",
       "      <td>0.083169</td>\n",
       "      <td>0.041927</td>\n",
       "      <td>0.044414</td>\n",
       "      <td>0.051017</td>\n",
       "      <td>-0.016560</td>\n",
       "      <td>0.010705</td>\n",
       "      <td>0.024013</td>\n",
       "      <td>15.401429</td>\n",
       "      <td>0.129946</td>\n",
       "      <td>0.988553</td>\n",
       "      <td>-0.212706</td>\n",
       "      <td>4.67086</td>\n",
       "      <td>0.274190</td>\n",
       "      <td>0.176571</td>\n",
       "      <td>513.479114</td>\n",
       "      <td>2017.107163</td>\n",
       "    </tr>\n",
       "  </tbody>\n",
       "</table>\n",
       "</div>"
      ],
      "text/plain": [
       "            Revenue  Revenue Growth  Cost of Revenue  Gross Profit  \\\n",
       "Class                                                                \n",
       "0      4.392016e+09        5.802416     2.758811e+09  1.671271e+09   \n",
       "1      5.787447e+09        1.817772     3.671566e+09  2.214740e+09   \n",
       "\n",
       "       R&D Expenses  SG&A Expense  Operating Expenses  Operating Income  \\\n",
       "Class                                                                     \n",
       "0      7.413257e+07  7.311278e+08        1.205049e+09      4.686716e+08   \n",
       "1      1.275583e+08  9.845392e+08        1.503427e+09      6.879742e+08   \n",
       "\n",
       "       Interest Expense  Earnings before Tax  Income Tax Expense  \\\n",
       "Class                                                              \n",
       "0          8.854488e+07         3.843850e+08        1.117440e+08   \n",
       "1          1.054011e+08         5.805132e+08        1.450200e+08   \n",
       "\n",
       "       Net Income - Non-Controlling int  Net Income - Discontinued ops  \\\n",
       "Class                                                                    \n",
       "0                          1.294238e+07                  -3.391425e+06   \n",
       "1                          1.376213e+07                  -3.114725e+06   \n",
       "\n",
       "         Net Income  Preferred Dividends  Net Income Com           EPS  \\\n",
       "Class                                                                    \n",
       "0      3.134132e+08         4.374603e+06    3.123737e+08 -23351.193310   \n",
       "1      4.504746e+08         4.922657e+06    4.483731e+08   -255.948818   \n",
       "\n",
       "        EPS Diluted  Weighted Average Shs Out  Weighted Average Shs Out (Dil)  \\\n",
       "Class                                                                           \n",
       "0     -23521.755853              2.658731e+08                    2.655055e+08   \n",
       "1       -271.046529              2.609767e+08                    2.673131e+08   \n",
       "\n",
       "       Dividend per Share  Gross Margin  EBITDA Margin  EBIT Margin  \\\n",
       "Class                                                                 \n",
       "0                1.816469      0.445525     -14.565382   -12.974727   \n",
       "1                0.715836      0.522307      -4.309665    -2.545258   \n",
       "\n",
       "       Profit Margin  Free Cash Flow margin        EBITDA          EBIT  \\\n",
       "Class                                                                     \n",
       "0         -15.226725             -11.032170  7.728630e+08  5.139359e+08   \n",
       "1          -4.547607              -2.355614  1.058008e+09  7.000430e+08   \n",
       "\n",
       "       Consolidated Income  Earnings Before Tax Margin  Net Profit Margin  \\\n",
       "Class                                                                       \n",
       "0             3.262942e+08                  -12.833801         -12.943365   \n",
       "1             4.636164e+08                   -2.639458          -2.605485   \n",
       "\n",
       "       Cash and cash equivalents  Short-term investments  \\\n",
       "Class                                                      \n",
       "0                   1.299741e+09            8.412218e+08   \n",
       "1                   2.379052e+09            1.841299e+09   \n",
       "\n",
       "       Cash and short-term investments   Receivables   Inventories  \\\n",
       "Class                                                                \n",
       "0                         1.911343e+09  8.324676e+08  3.638510e+08   \n",
       "1                         4.057698e+09  1.092537e+09  6.198510e+08   \n",
       "\n",
       "       Total current assets  Property, Plant & Equipment Net  \\\n",
       "Class                                                          \n",
       "0              4.311910e+09                     2.440260e+09   \n",
       "1              6.272853e+09                     2.940037e+09   \n",
       "\n",
       "       Goodwill and Intangible Assets  Long-term investments    Tax assets  \\\n",
       "Class                                                                        \n",
       "0                        1.471627e+09           2.292966e+09  1.408012e+08   \n",
       "1                        1.943988e+09           3.461898e+09  1.615567e+08   \n",
       "\n",
       "       Total non-current assets  Total assets      Payables  Short-term debt  \\\n",
       "Class                                                                          \n",
       "0                  7.095110e+12  1.938102e+10  7.671259e+08     4.706859e+08   \n",
       "1                  6.791936e+09  2.124713e+10  1.038621e+09     7.039485e+08   \n",
       "\n",
       "       Total current liabilities  Long-term debt    Total debt  \\\n",
       "Class                                                            \n",
       "0                   5.603720e+09    2.967781e+09  4.397591e+09   \n",
       "1                   8.915045e+09    3.559791e+09  4.691483e+09   \n",
       "\n",
       "       Deferred revenue  Tax Liabilities  Deposit Liabilities  \\\n",
       "Class                                                           \n",
       "0          1.482428e+12     5.429039e+11         4.186139e+09   \n",
       "1          1.687649e+08     4.238905e+08         5.822417e+09   \n",
       "\n",
       "       Total non-current liabilities  Total liabilities  \\\n",
       "Class                                                     \n",
       "0                       8.052672e+11       1.542341e+10   \n",
       "1                       4.093682e+09       1.663370e+10   \n",
       "\n",
       "       Other comprehensive income  Retained earnings (deficit)  \\\n",
       "Class                                                            \n",
       "0                    1.856952e+11                 1.643784e+09   \n",
       "1                   -1.607091e+08                 2.478754e+09   \n",
       "\n",
       "       Total shareholders equity   Investments      Net Debt  Other Assets  \\\n",
       "Class                                                                        \n",
       "0                   3.203856e+09  8.045046e+09  2.013964e+09  2.811231e+08   \n",
       "1                   3.966177e+09  9.851402e+09  1.697575e+09  9.153972e+08   \n",
       "\n",
       "       Other Liabilities  Depreciation & Amortization  \\\n",
       "Class                                                   \n",
       "0           4.398635e+09                 3.653365e+08   \n",
       "1           7.114937e+09                 3.230370e+08   \n",
       "\n",
       "       Stock-based compensation  Operating Cash Flow  Capital Expenditure  \\\n",
       "Class                                                                       \n",
       "0                  2.214530e+07         1.068041e+09        -3.654665e+08   \n",
       "1                  3.795213e+07         1.077471e+09        -4.130468e+08   \n",
       "\n",
       "       Acquisitions and disposals  Investment purchases and sales  \\\n",
       "Class                                                               \n",
       "0                   -7.995505e+07                   -1.316897e+08   \n",
       "1                   -1.339481e+08                   -2.715283e+08   \n",
       "\n",
       "       Investing Cash flow  Issuance (repayment) of debt  \\\n",
       "Class                                                      \n",
       "0            -5.642881e+08                  1.668360e+07   \n",
       "1            -8.142558e+08                  6.192594e+07   \n",
       "\n",
       "       Issuance (buybacks) of shares  Dividend payments  Financing Cash Flow  \\\n",
       "Class                                                                          \n",
       "0                      -6.244672e+07      -1.422966e+08        -1.753745e+08   \n",
       "1                      -1.647461e+08      -2.152610e+08        -2.010000e+08   \n",
       "\n",
       "       Effect of forex changes on cash  Net cash flow / Change in cash  \\\n",
       "Class                                                                    \n",
       "0                        -4.387279e+07                    2.324595e+08   \n",
       "1                        -1.132363e+08                    2.000932e+07   \n",
       "\n",
       "       Free Cash Flow  Net Cash/Marketcap  priceBookValueRatio  \\\n",
       "Class                                                            \n",
       "0        3.187130e+08           -1.349885         19545.680856   \n",
       "1        5.643020e+08           -0.637120         20983.622607   \n",
       "\n",
       "       priceToBookRatio  priceToSalesRatio  priceEarningsRatio  \\\n",
       "Class                                                            \n",
       "0          19549.825609         166.727604           46.955401   \n",
       "1          20976.271178          22.787727           30.281963   \n",
       "\n",
       "       priceToFreeCashFlowsRatio  priceToOperatingCashFlowsRatio  \\\n",
       "Class                                                              \n",
       "0                      43.186350                       28.036396   \n",
       "1                      30.873079                       75.155188   \n",
       "\n",
       "       priceCashFlowRatio  priceEarningsToGrowthRatio  priceSalesRatio  \\\n",
       "Class                                                                    \n",
       "0               25.801921                   73.222372       147.599205   \n",
       "1               90.721860                   48.644879        22.143232   \n",
       "\n",
       "       dividendYield  enterpriseValueMultiple  priceFairValue  ebitperRevenue  \\\n",
       "Class                                                                           \n",
       "0           0.331155                42.892644     5580.741381      -14.069046   \n",
       "1           0.249335                31.957241    15762.412879       -2.727415   \n",
       "\n",
       "       ebtperEBIT  niperEBT  grossProfitMargin  operatingProfitMargin  \\\n",
       "Class                                                                   \n",
       "0        0.929200  0.956255           0.446559                    1.0   \n",
       "1        0.434752  0.803417           0.528492                    1.0   \n",
       "\n",
       "       pretaxProfitMargin  netProfitMargin  effectiveTaxRate  returnOnAssets  \\\n",
       "Class                                                                          \n",
       "0              -14.270458       -14.056423          0.021771       -0.265267   \n",
       "1               -3.113417        -2.791518         -3.339450        0.121592   \n",
       "\n",
       "       returnOnEquity  returnOnCapitalEmployed  nIperEBT  eBTperEBIT  \\\n",
       "Class                                                                  \n",
       "0         1146.640847                -0.261466  0.956255    0.929200   \n",
       "1         2060.981190                 0.020555  0.803417    0.434752   \n",
       "\n",
       "       eBITperRevenue  payablesTurnover  inventoryTurnover  \\\n",
       "Class                                                        \n",
       "0          -14.069046          6.650367          41.423106   \n",
       "1           -2.727415          5.867896          23.468820   \n",
       "\n",
       "       fixedAssetTurnover  assetTurnover  currentRatio  quickRatio  cashRatio  \\\n",
       "Class                                                                           \n",
       "0              126.233014       0.686536      6.813039   65.027028  20.702720   \n",
       "1               60.658459       0.694987      7.372718   77.601265  17.576343   \n",
       "\n",
       "       daysOfSalesOutstanding  daysOfInventoryOutstanding  operatingCycle  \\\n",
       "Class                                                                       \n",
       "0                 -158.729304                  289.210707      123.612045   \n",
       "1                 -604.003381                  859.620305      248.927662   \n",
       "\n",
       "       daysOfPayablesOutstanding  cashConversionCycle  debtRatio  \\\n",
       "Class                                                              \n",
       "0                     569.430862            32.717264   0.273232   \n",
       "1                     150.389237            59.175075   0.272623   \n",
       "\n",
       "       debtEquityRatio  longtermDebtToCapitalization  \\\n",
       "Class                                                  \n",
       "0             0.845834                      0.338062   \n",
       "1             0.327558                      0.376664   \n",
       "\n",
       "       totalDebtToCapitalization  interestCoverage  cashFlowToDebtRatio  \\\n",
       "Class                                                                     \n",
       "0                       0.508676        -31.013715           132.156482   \n",
       "1                       0.407701        -33.179534            15.673920   \n",
       "\n",
       "       companyEquityMultiplier  operatingCashFlowPerShare  \\\n",
       "Class                                                       \n",
       "0                    904.28394               26387.142003   \n",
       "1                   1501.93615               20008.058143   \n",
       "\n",
       "       freeCashFlowPerShare  cashPerShare  payoutRatio  \\\n",
       "Class                                                    \n",
       "0              -1944.177586  73075.509754     0.333583   \n",
       "1               4377.901685  92487.771179     0.314756   \n",
       "\n",
       "       operatingCashFlowSalesRatio  freeCashFlowOperatingCashFlowRatio  \\\n",
       "Class                                                                    \n",
       "0                       -98.325166                           -0.033414   \n",
       "1                        56.824905                           -1.162039   \n",
       "\n",
       "       cashFlowCoverageRatios  shortTermCoverageRatios  \\\n",
       "Class                                                    \n",
       "0                  132.156482               407.081693   \n",
       "1                   15.673920               125.677024   \n",
       "\n",
       "       capitalExpenditureCoverageRatios  dividendpaidAndCapexCoverageRatios  \\\n",
       "Class                                                                         \n",
       "0                             -4.905857                          -44.671426   \n",
       "1                            -20.842228                          -25.135696   \n",
       "\n",
       "       dividendPayoutRatio  Revenue per Share  Net Income per Share  \\\n",
       "Class                                                                 \n",
       "0                 0.842644      189042.315187          12215.855177   \n",
       "1                 0.807129      120525.290292          13487.311770   \n",
       "\n",
       "       Operating Cash Flow per Share  Free Cash Flow per Share  \\\n",
       "Class                                                            \n",
       "0                       26366.458497              -1942.659449   \n",
       "1                       19998.743580               4375.865454   \n",
       "\n",
       "       Cash per Share  Book Value per Share  Tangible Book Value per Share  \\\n",
       "Class                                                                        \n",
       "0        73083.700225         123573.457069                  236457.777329   \n",
       "1        92487.771179           1883.122123                    2791.011552   \n",
       "\n",
       "       Shareholders Equity per Share  Interest Debt per Share    Market Cap  \\\n",
       "Class                                                                         \n",
       "0                      233605.141428            345719.446243  3.385003e+10   \n",
       "1                      177200.753186            297834.121070  2.786461e+10   \n",
       "\n",
       "       Enterprise Value   PE ratio  Price to Sales Ratio  POCF ratio  \\\n",
       "Class                                                                  \n",
       "0          6.358880e+09  47.032008            166.554501   28.019257   \n",
       "1          1.016511e+10  30.332556             22.759409   75.078109   \n",
       "\n",
       "       PFCF ratio      PB ratio     PTB ratio  EV to Sales  \\\n",
       "Class                                                        \n",
       "0       43.146313  19522.451410  19526.590754    95.828029   \n",
       "1       30.854236  20968.481803  20961.135280    20.208129   \n",
       "\n",
       "       Enterprise Value over EBITDA  EV to Operating cash flow  \\\n",
       "Class                                                            \n",
       "0                         25.317113                   2.425615   \n",
       "1                         18.878346                  70.022417   \n",
       "\n",
       "       EV to Free cash flow  Earnings Yield  Free Cash Flow Yield  \\\n",
       "Class                                                               \n",
       "0                 27.483931       -0.504092             -0.127924   \n",
       "1                -56.838697        0.024626             -3.048698   \n",
       "\n",
       "       Debt to Equity  Debt to Assets  Net Debt to EBITDA  Current ratio  \\\n",
       "Class                                                                      \n",
       "0            0.845834        0.273232            1.009899       6.412538   \n",
       "1            0.327558        0.272623            4.427289       6.734072   \n",
       "\n",
       "       Interest Coverage  Income Quality  Dividend Yield  Payout Ratio  \\\n",
       "Class                                                                    \n",
       "0             -30.965076        3.644459        0.020100      0.333173   \n",
       "1             -33.000420        2.137932        0.020695      0.314647   \n",
       "\n",
       "       SG&A to Revenue  R&D to Revenue  Intangibles to Total Assets  \\\n",
       "Class                                                                 \n",
       "0             6.369273        7.294712                     0.147442   \n",
       "1             1.135807        2.076650                     0.160770   \n",
       "\n",
       "       Capex to Operating Cash Flow  Capex to Revenue  Capex to Depreciation  \\\n",
       "Class                                                                          \n",
       "0                          0.750834          0.121232              -5.774433   \n",
       "1                          1.914099          0.134498              -5.320119   \n",
       "\n",
       "       Stock-based compensation to Revenue  Graham Number      ROIC  \\\n",
       "Class                                                                 \n",
       "0                                 1.939248    1537.147061 -0.261466   \n",
       "1                                 0.364411     102.061471  0.020555   \n",
       "\n",
       "       Return on Tangible Assets  Graham Net-Net  Working Capital  \\\n",
       "Class                                                               \n",
       "0                      -0.265267       -1.814148    -6.079121e+11   \n",
       "1                       0.121592       -1.532105     9.806344e+09   \n",
       "\n",
       "       Tangible Asset Value  Net Current Asset Value  Invested Capital  \\\n",
       "Class                                                                    \n",
       "0              1.402275e+10            -5.702954e+09     -9.051517e+11   \n",
       "1              1.794156e+10            -9.160564e+09      1.925858e+10   \n",
       "\n",
       "       Average Receivables  Average Payables  Average Inventory  \\\n",
       "Class                                                             \n",
       "0             7.711612e+08      8.339269e+08       3.203231e+08   \n",
       "1             1.033042e+09      1.048425e+09       4.520136e+08   \n",
       "\n",
       "       Days Sales Outstanding  Days Payables Outstanding  \\\n",
       "Class                                                      \n",
       "0                  374.035241                 569.494167   \n",
       "1                 1053.816146                 150.401917   \n",
       "\n",
       "       Days of Inventory on Hand  Receivables Turnover  Payables Turnover  \\\n",
       "Class                                                                       \n",
       "0                    -158.746953             34.047569           6.650367   \n",
       "1                    -604.059106             53.651453           5.867896   \n",
       "\n",
       "       Inventory Turnover          ROE  Capex per Share  Gross Profit Growth  \\\n",
       "Class                                                                          \n",
       "0               41.423106  1146.768840    -29228.519297            39.225577   \n",
       "1               23.468820  2061.172519    -10122.937425             2.152269   \n",
       "\n",
       "       EBIT Growth  Operating Income Growth  Net Income Growth  EPS Growth  \\\n",
       "Class                                                                        \n",
       "0         0.865569                -0.700281          -4.665501   -0.147584   \n",
       "1         0.759567                 1.426089          -0.201593    0.640552   \n",
       "\n",
       "       EPS Diluted Growth  Weighted Average Shares Growth  \\\n",
       "Class                                                       \n",
       "0               -0.159686                       26.831973   \n",
       "1             3649.975531                        1.910152   \n",
       "\n",
       "       Weighted Average Shares Diluted Growth  Dividends per Share Growth  \\\n",
       "Class                                                                       \n",
       "0                                    1.601361                    0.152434   \n",
       "1                                  349.118614                    0.163039   \n",
       "\n",
       "       Operating Cash Flow growth  Free Cash Flow growth  \\\n",
       "Class                                                      \n",
       "0                       53.193267              -8.241979   \n",
       "1                       73.163941               0.363807   \n",
       "\n",
       "       10Y Revenue Growth (per Share)  5Y Revenue Growth (per Share)  \\\n",
       "Class                                                                  \n",
       "0                            0.007064                       0.010748   \n",
       "1                            0.031339                       0.041915   \n",
       "\n",
       "       3Y Revenue Growth (per Share)  10Y Operating CF Growth (per Share)  \\\n",
       "Class                                                                       \n",
       "0                           0.030755                             0.028385   \n",
       "1                           0.048731                             0.044684   \n",
       "\n",
       "       5Y Operating CF Growth (per Share)  3Y Operating CF Growth (per Share)  \\\n",
       "Class                                                                           \n",
       "0                                0.034854                            0.052002   \n",
       "1                                0.056966                            0.074084   \n",
       "\n",
       "       10Y Net Income Growth (per Share)  5Y Net Income Growth (per Share)  \\\n",
       "Class                                                                        \n",
       "0                               0.022551                          0.045445   \n",
       "1                               0.036950                          0.065907   \n",
       "\n",
       "       3Y Net Income Growth (per Share)  \\\n",
       "Class                                     \n",
       "0                              0.059104   \n",
       "1                              0.083169   \n",
       "\n",
       "       10Y Shareholders Equity Growth (per Share)  \\\n",
       "Class                                               \n",
       "0                                        0.021991   \n",
       "1                                        0.041927   \n",
       "\n",
       "       5Y Shareholders Equity Growth (per Share)  \\\n",
       "Class                                              \n",
       "0                                       0.032492   \n",
       "1                                       0.044414   \n",
       "\n",
       "       3Y Shareholders Equity Growth (per Share)  \\\n",
       "Class                                              \n",
       "0                                       0.043446   \n",
       "1                                       0.051017   \n",
       "\n",
       "       10Y Dividend per Share Growth (per Share)  \\\n",
       "Class                                              \n",
       "0                                      -0.039244   \n",
       "1                                      -0.016560   \n",
       "\n",
       "       5Y Dividend per Share Growth (per Share)  \\\n",
       "Class                                             \n",
       "0                                     -0.014966   \n",
       "1                                      0.010705   \n",
       "\n",
       "       3Y Dividend per Share Growth (per Share)  Receivables growth  \\\n",
       "Class                                                                 \n",
       "0                                     -0.002176            5.641256   \n",
       "1                                      0.024013           15.401429   \n",
       "\n",
       "       Inventory Growth  Asset Growth  Book Value per Share Growth  \\\n",
       "Class                                                                \n",
       "0              0.193559      1.308915                     1.983633   \n",
       "1              0.129946      0.988553                    -0.212706   \n",
       "\n",
       "       Debt Growth  R&D Expense Growth  SG&A Expenses Growth   PRICE_VAR  \\\n",
       "Class                                                                      \n",
       "0          2.60788            0.321335              0.591633  -28.740394   \n",
       "1          4.67086            0.274190              0.176571  513.479114   \n",
       "\n",
       "              Year  \n",
       "Class               \n",
       "0      2017.071083  \n",
       "1      2017.107163  "
      ]
     },
     "execution_count": 184,
     "metadata": {},
     "output_type": "execute_result"
    }
   ],
   "source": [
    "x=data.groupby('Class').mean()\n",
    "x"
   ]
  },
  {
   "cell_type": "code",
   "execution_count": 185,
   "id": "47b8524e",
   "metadata": {},
   "outputs": [],
   "source": [
    "df=x.reset_index()\n"
   ]
  },
  {
   "cell_type": "code",
   "execution_count": 186,
   "id": "8ea845c9",
   "metadata": {},
   "outputs": [
    {
     "data": {
      "text/html": [
       "<div>\n",
       "<style scoped>\n",
       "    .dataframe tbody tr th:only-of-type {\n",
       "        vertical-align: middle;\n",
       "    }\n",
       "\n",
       "    .dataframe tbody tr th {\n",
       "        vertical-align: top;\n",
       "    }\n",
       "\n",
       "    .dataframe thead th {\n",
       "        text-align: right;\n",
       "    }\n",
       "</style>\n",
       "<table border=\"1\" class=\"dataframe\">\n",
       "  <thead>\n",
       "    <tr style=\"text-align: right;\">\n",
       "      <th></th>\n",
       "      <th>Class</th>\n",
       "      <th>Revenue</th>\n",
       "      <th>Revenue Growth</th>\n",
       "      <th>Cost of Revenue</th>\n",
       "      <th>Gross Profit</th>\n",
       "      <th>R&amp;D Expenses</th>\n",
       "      <th>SG&amp;A Expense</th>\n",
       "      <th>Operating Expenses</th>\n",
       "      <th>Operating Income</th>\n",
       "      <th>Interest Expense</th>\n",
       "      <th>Earnings before Tax</th>\n",
       "      <th>Income Tax Expense</th>\n",
       "      <th>Net Income - Non-Controlling int</th>\n",
       "      <th>Net Income - Discontinued ops</th>\n",
       "      <th>Net Income</th>\n",
       "      <th>Preferred Dividends</th>\n",
       "      <th>Net Income Com</th>\n",
       "      <th>EPS</th>\n",
       "      <th>EPS Diluted</th>\n",
       "      <th>Weighted Average Shs Out</th>\n",
       "      <th>Weighted Average Shs Out (Dil)</th>\n",
       "      <th>Dividend per Share</th>\n",
       "      <th>Gross Margin</th>\n",
       "      <th>EBITDA Margin</th>\n",
       "      <th>EBIT Margin</th>\n",
       "      <th>Profit Margin</th>\n",
       "      <th>Free Cash Flow margin</th>\n",
       "      <th>EBITDA</th>\n",
       "      <th>EBIT</th>\n",
       "      <th>Consolidated Income</th>\n",
       "      <th>Earnings Before Tax Margin</th>\n",
       "      <th>Net Profit Margin</th>\n",
       "      <th>Cash and cash equivalents</th>\n",
       "      <th>Short-term investments</th>\n",
       "      <th>Cash and short-term investments</th>\n",
       "      <th>Receivables</th>\n",
       "      <th>Inventories</th>\n",
       "      <th>Total current assets</th>\n",
       "      <th>Property, Plant &amp; Equipment Net</th>\n",
       "      <th>Goodwill and Intangible Assets</th>\n",
       "      <th>Long-term investments</th>\n",
       "      <th>Tax assets</th>\n",
       "      <th>Total non-current assets</th>\n",
       "      <th>Total assets</th>\n",
       "      <th>Payables</th>\n",
       "      <th>Short-term debt</th>\n",
       "      <th>Total current liabilities</th>\n",
       "      <th>Long-term debt</th>\n",
       "      <th>Total debt</th>\n",
       "      <th>Deferred revenue</th>\n",
       "      <th>Tax Liabilities</th>\n",
       "      <th>Deposit Liabilities</th>\n",
       "      <th>Total non-current liabilities</th>\n",
       "      <th>Total liabilities</th>\n",
       "      <th>Other comprehensive income</th>\n",
       "      <th>Retained earnings (deficit)</th>\n",
       "      <th>Total shareholders equity</th>\n",
       "      <th>Investments</th>\n",
       "      <th>Net Debt</th>\n",
       "      <th>Other Assets</th>\n",
       "      <th>Other Liabilities</th>\n",
       "      <th>Depreciation &amp; Amortization</th>\n",
       "      <th>Stock-based compensation</th>\n",
       "      <th>Operating Cash Flow</th>\n",
       "      <th>Capital Expenditure</th>\n",
       "      <th>Acquisitions and disposals</th>\n",
       "      <th>Investment purchases and sales</th>\n",
       "      <th>Investing Cash flow</th>\n",
       "      <th>Issuance (repayment) of debt</th>\n",
       "      <th>Issuance (buybacks) of shares</th>\n",
       "      <th>Dividend payments</th>\n",
       "      <th>Financing Cash Flow</th>\n",
       "      <th>Effect of forex changes on cash</th>\n",
       "      <th>Net cash flow / Change in cash</th>\n",
       "      <th>Free Cash Flow</th>\n",
       "      <th>Net Cash/Marketcap</th>\n",
       "      <th>priceBookValueRatio</th>\n",
       "      <th>priceToBookRatio</th>\n",
       "      <th>priceToSalesRatio</th>\n",
       "      <th>priceEarningsRatio</th>\n",
       "      <th>priceToFreeCashFlowsRatio</th>\n",
       "      <th>priceToOperatingCashFlowsRatio</th>\n",
       "      <th>priceCashFlowRatio</th>\n",
       "      <th>priceEarningsToGrowthRatio</th>\n",
       "      <th>priceSalesRatio</th>\n",
       "      <th>dividendYield</th>\n",
       "      <th>enterpriseValueMultiple</th>\n",
       "      <th>priceFairValue</th>\n",
       "      <th>ebitperRevenue</th>\n",
       "      <th>ebtperEBIT</th>\n",
       "      <th>niperEBT</th>\n",
       "      <th>grossProfitMargin</th>\n",
       "      <th>operatingProfitMargin</th>\n",
       "      <th>pretaxProfitMargin</th>\n",
       "      <th>netProfitMargin</th>\n",
       "      <th>effectiveTaxRate</th>\n",
       "      <th>returnOnAssets</th>\n",
       "      <th>returnOnEquity</th>\n",
       "      <th>returnOnCapitalEmployed</th>\n",
       "      <th>nIperEBT</th>\n",
       "      <th>eBTperEBIT</th>\n",
       "      <th>eBITperRevenue</th>\n",
       "      <th>payablesTurnover</th>\n",
       "      <th>inventoryTurnover</th>\n",
       "      <th>fixedAssetTurnover</th>\n",
       "      <th>assetTurnover</th>\n",
       "      <th>currentRatio</th>\n",
       "      <th>quickRatio</th>\n",
       "      <th>cashRatio</th>\n",
       "      <th>daysOfSalesOutstanding</th>\n",
       "      <th>daysOfInventoryOutstanding</th>\n",
       "      <th>operatingCycle</th>\n",
       "      <th>daysOfPayablesOutstanding</th>\n",
       "      <th>cashConversionCycle</th>\n",
       "      <th>debtRatio</th>\n",
       "      <th>debtEquityRatio</th>\n",
       "      <th>longtermDebtToCapitalization</th>\n",
       "      <th>totalDebtToCapitalization</th>\n",
       "      <th>interestCoverage</th>\n",
       "      <th>cashFlowToDebtRatio</th>\n",
       "      <th>companyEquityMultiplier</th>\n",
       "      <th>operatingCashFlowPerShare</th>\n",
       "      <th>freeCashFlowPerShare</th>\n",
       "      <th>cashPerShare</th>\n",
       "      <th>payoutRatio</th>\n",
       "      <th>operatingCashFlowSalesRatio</th>\n",
       "      <th>freeCashFlowOperatingCashFlowRatio</th>\n",
       "      <th>cashFlowCoverageRatios</th>\n",
       "      <th>shortTermCoverageRatios</th>\n",
       "      <th>capitalExpenditureCoverageRatios</th>\n",
       "      <th>dividendpaidAndCapexCoverageRatios</th>\n",
       "      <th>dividendPayoutRatio</th>\n",
       "      <th>Revenue per Share</th>\n",
       "      <th>Net Income per Share</th>\n",
       "      <th>Operating Cash Flow per Share</th>\n",
       "      <th>Free Cash Flow per Share</th>\n",
       "      <th>Cash per Share</th>\n",
       "      <th>Book Value per Share</th>\n",
       "      <th>Tangible Book Value per Share</th>\n",
       "      <th>Shareholders Equity per Share</th>\n",
       "      <th>Interest Debt per Share</th>\n",
       "      <th>Market Cap</th>\n",
       "      <th>Enterprise Value</th>\n",
       "      <th>PE ratio</th>\n",
       "      <th>Price to Sales Ratio</th>\n",
       "      <th>POCF ratio</th>\n",
       "      <th>PFCF ratio</th>\n",
       "      <th>PB ratio</th>\n",
       "      <th>PTB ratio</th>\n",
       "      <th>EV to Sales</th>\n",
       "      <th>Enterprise Value over EBITDA</th>\n",
       "      <th>EV to Operating cash flow</th>\n",
       "      <th>EV to Free cash flow</th>\n",
       "      <th>Earnings Yield</th>\n",
       "      <th>Free Cash Flow Yield</th>\n",
       "      <th>Debt to Equity</th>\n",
       "      <th>Debt to Assets</th>\n",
       "      <th>Net Debt to EBITDA</th>\n",
       "      <th>Current ratio</th>\n",
       "      <th>Interest Coverage</th>\n",
       "      <th>Income Quality</th>\n",
       "      <th>Dividend Yield</th>\n",
       "      <th>Payout Ratio</th>\n",
       "      <th>SG&amp;A to Revenue</th>\n",
       "      <th>R&amp;D to Revenue</th>\n",
       "      <th>Intangibles to Total Assets</th>\n",
       "      <th>Capex to Operating Cash Flow</th>\n",
       "      <th>Capex to Revenue</th>\n",
       "      <th>Capex to Depreciation</th>\n",
       "      <th>Stock-based compensation to Revenue</th>\n",
       "      <th>Graham Number</th>\n",
       "      <th>ROIC</th>\n",
       "      <th>Return on Tangible Assets</th>\n",
       "      <th>Graham Net-Net</th>\n",
       "      <th>Working Capital</th>\n",
       "      <th>Tangible Asset Value</th>\n",
       "      <th>Net Current Asset Value</th>\n",
       "      <th>Invested Capital</th>\n",
       "      <th>Average Receivables</th>\n",
       "      <th>Average Payables</th>\n",
       "      <th>Average Inventory</th>\n",
       "      <th>Days Sales Outstanding</th>\n",
       "      <th>Days Payables Outstanding</th>\n",
       "      <th>Days of Inventory on Hand</th>\n",
       "      <th>Receivables Turnover</th>\n",
       "      <th>Payables Turnover</th>\n",
       "      <th>Inventory Turnover</th>\n",
       "      <th>ROE</th>\n",
       "      <th>Capex per Share</th>\n",
       "      <th>Gross Profit Growth</th>\n",
       "      <th>EBIT Growth</th>\n",
       "      <th>Operating Income Growth</th>\n",
       "      <th>Net Income Growth</th>\n",
       "      <th>EPS Growth</th>\n",
       "      <th>EPS Diluted Growth</th>\n",
       "      <th>Weighted Average Shares Growth</th>\n",
       "      <th>Weighted Average Shares Diluted Growth</th>\n",
       "      <th>Dividends per Share Growth</th>\n",
       "      <th>Operating Cash Flow growth</th>\n",
       "      <th>Free Cash Flow growth</th>\n",
       "      <th>10Y Revenue Growth (per Share)</th>\n",
       "      <th>5Y Revenue Growth (per Share)</th>\n",
       "      <th>3Y Revenue Growth (per Share)</th>\n",
       "      <th>10Y Operating CF Growth (per Share)</th>\n",
       "      <th>5Y Operating CF Growth (per Share)</th>\n",
       "      <th>3Y Operating CF Growth (per Share)</th>\n",
       "      <th>10Y Net Income Growth (per Share)</th>\n",
       "      <th>5Y Net Income Growth (per Share)</th>\n",
       "      <th>3Y Net Income Growth (per Share)</th>\n",
       "      <th>10Y Shareholders Equity Growth (per Share)</th>\n",
       "      <th>5Y Shareholders Equity Growth (per Share)</th>\n",
       "      <th>3Y Shareholders Equity Growth (per Share)</th>\n",
       "      <th>10Y Dividend per Share Growth (per Share)</th>\n",
       "      <th>5Y Dividend per Share Growth (per Share)</th>\n",
       "      <th>3Y Dividend per Share Growth (per Share)</th>\n",
       "      <th>Receivables growth</th>\n",
       "      <th>Inventory Growth</th>\n",
       "      <th>Asset Growth</th>\n",
       "      <th>Book Value per Share Growth</th>\n",
       "      <th>Debt Growth</th>\n",
       "      <th>R&amp;D Expense Growth</th>\n",
       "      <th>SG&amp;A Expenses Growth</th>\n",
       "      <th>PRICE_VAR</th>\n",
       "      <th>Year</th>\n",
       "    </tr>\n",
       "  </thead>\n",
       "  <tbody>\n",
       "    <tr>\n",
       "      <th>0</th>\n",
       "      <td>0</td>\n",
       "      <td>4.392016e+09</td>\n",
       "      <td>5.802416</td>\n",
       "      <td>2.758811e+09</td>\n",
       "      <td>1.671271e+09</td>\n",
       "      <td>7.413257e+07</td>\n",
       "      <td>7.311278e+08</td>\n",
       "      <td>1.205049e+09</td>\n",
       "      <td>4.686716e+08</td>\n",
       "      <td>8.854488e+07</td>\n",
       "      <td>3.843850e+08</td>\n",
       "      <td>1.117440e+08</td>\n",
       "      <td>1.294238e+07</td>\n",
       "      <td>-3.391425e+06</td>\n",
       "      <td>3.134132e+08</td>\n",
       "      <td>4.374603e+06</td>\n",
       "      <td>3.123737e+08</td>\n",
       "      <td>-23351.193310</td>\n",
       "      <td>-23521.755853</td>\n",
       "      <td>2.658731e+08</td>\n",
       "      <td>2.655055e+08</td>\n",
       "      <td>1.816469</td>\n",
       "      <td>0.445525</td>\n",
       "      <td>-14.565382</td>\n",
       "      <td>-12.974727</td>\n",
       "      <td>-15.226725</td>\n",
       "      <td>-11.032170</td>\n",
       "      <td>7.728630e+08</td>\n",
       "      <td>5.139359e+08</td>\n",
       "      <td>3.262942e+08</td>\n",
       "      <td>-12.833801</td>\n",
       "      <td>-12.943365</td>\n",
       "      <td>1.299741e+09</td>\n",
       "      <td>8.412218e+08</td>\n",
       "      <td>1.911343e+09</td>\n",
       "      <td>8.324676e+08</td>\n",
       "      <td>3.638510e+08</td>\n",
       "      <td>4.311910e+09</td>\n",
       "      <td>2.440260e+09</td>\n",
       "      <td>1.471627e+09</td>\n",
       "      <td>2.292966e+09</td>\n",
       "      <td>1.408012e+08</td>\n",
       "      <td>7.095110e+12</td>\n",
       "      <td>1.938102e+10</td>\n",
       "      <td>7.671259e+08</td>\n",
       "      <td>4.706859e+08</td>\n",
       "      <td>5.603720e+09</td>\n",
       "      <td>2.967781e+09</td>\n",
       "      <td>4.397591e+09</td>\n",
       "      <td>1.482428e+12</td>\n",
       "      <td>5.429039e+11</td>\n",
       "      <td>4.186139e+09</td>\n",
       "      <td>8.052672e+11</td>\n",
       "      <td>1.542341e+10</td>\n",
       "      <td>1.856952e+11</td>\n",
       "      <td>1.643784e+09</td>\n",
       "      <td>3.203856e+09</td>\n",
       "      <td>8.045046e+09</td>\n",
       "      <td>2.013964e+09</td>\n",
       "      <td>2.811231e+08</td>\n",
       "      <td>4.398635e+09</td>\n",
       "      <td>3.653365e+08</td>\n",
       "      <td>2.214530e+07</td>\n",
       "      <td>1.068041e+09</td>\n",
       "      <td>-3.654665e+08</td>\n",
       "      <td>-7.995505e+07</td>\n",
       "      <td>-1.316897e+08</td>\n",
       "      <td>-5.642881e+08</td>\n",
       "      <td>1.668360e+07</td>\n",
       "      <td>-6.244672e+07</td>\n",
       "      <td>-1.422966e+08</td>\n",
       "      <td>-1.753745e+08</td>\n",
       "      <td>-4.387279e+07</td>\n",
       "      <td>2.324595e+08</td>\n",
       "      <td>3.187130e+08</td>\n",
       "      <td>-1.349885</td>\n",
       "      <td>19545.680856</td>\n",
       "      <td>19549.825609</td>\n",
       "      <td>166.727604</td>\n",
       "      <td>46.955401</td>\n",
       "      <td>43.186350</td>\n",
       "      <td>28.036396</td>\n",
       "      <td>25.801921</td>\n",
       "      <td>73.222372</td>\n",
       "      <td>147.599205</td>\n",
       "      <td>0.331155</td>\n",
       "      <td>42.892644</td>\n",
       "      <td>5580.741381</td>\n",
       "      <td>-14.069046</td>\n",
       "      <td>0.929200</td>\n",
       "      <td>0.956255</td>\n",
       "      <td>0.446559</td>\n",
       "      <td>1.0</td>\n",
       "      <td>-14.270458</td>\n",
       "      <td>-14.056423</td>\n",
       "      <td>0.021771</td>\n",
       "      <td>-0.265267</td>\n",
       "      <td>1146.640847</td>\n",
       "      <td>-0.261466</td>\n",
       "      <td>0.956255</td>\n",
       "      <td>0.929200</td>\n",
       "      <td>-14.069046</td>\n",
       "      <td>6.650367</td>\n",
       "      <td>41.423106</td>\n",
       "      <td>126.233014</td>\n",
       "      <td>0.686536</td>\n",
       "      <td>6.813039</td>\n",
       "      <td>65.027028</td>\n",
       "      <td>20.702720</td>\n",
       "      <td>-158.729304</td>\n",
       "      <td>289.210707</td>\n",
       "      <td>123.612045</td>\n",
       "      <td>569.430862</td>\n",
       "      <td>32.717264</td>\n",
       "      <td>0.273232</td>\n",
       "      <td>0.845834</td>\n",
       "      <td>0.338062</td>\n",
       "      <td>0.508676</td>\n",
       "      <td>-31.013715</td>\n",
       "      <td>132.156482</td>\n",
       "      <td>904.28394</td>\n",
       "      <td>26387.142003</td>\n",
       "      <td>-1944.177586</td>\n",
       "      <td>73075.509754</td>\n",
       "      <td>0.333583</td>\n",
       "      <td>-98.325166</td>\n",
       "      <td>-0.033414</td>\n",
       "      <td>132.156482</td>\n",
       "      <td>407.081693</td>\n",
       "      <td>-4.905857</td>\n",
       "      <td>-44.671426</td>\n",
       "      <td>0.842644</td>\n",
       "      <td>189042.315187</td>\n",
       "      <td>12215.855177</td>\n",
       "      <td>26366.458497</td>\n",
       "      <td>-1942.659449</td>\n",
       "      <td>73083.700225</td>\n",
       "      <td>123573.457069</td>\n",
       "      <td>236457.777329</td>\n",
       "      <td>233605.141428</td>\n",
       "      <td>345719.446243</td>\n",
       "      <td>3.385003e+10</td>\n",
       "      <td>6.358880e+09</td>\n",
       "      <td>47.032008</td>\n",
       "      <td>166.554501</td>\n",
       "      <td>28.019257</td>\n",
       "      <td>43.146313</td>\n",
       "      <td>19522.451410</td>\n",
       "      <td>19526.590754</td>\n",
       "      <td>95.828029</td>\n",
       "      <td>25.317113</td>\n",
       "      <td>2.425615</td>\n",
       "      <td>27.483931</td>\n",
       "      <td>-0.504092</td>\n",
       "      <td>-0.127924</td>\n",
       "      <td>0.845834</td>\n",
       "      <td>0.273232</td>\n",
       "      <td>1.009899</td>\n",
       "      <td>6.412538</td>\n",
       "      <td>-30.965076</td>\n",
       "      <td>3.644459</td>\n",
       "      <td>0.020100</td>\n",
       "      <td>0.333173</td>\n",
       "      <td>6.369273</td>\n",
       "      <td>7.294712</td>\n",
       "      <td>0.147442</td>\n",
       "      <td>0.750834</td>\n",
       "      <td>0.121232</td>\n",
       "      <td>-5.774433</td>\n",
       "      <td>1.939248</td>\n",
       "      <td>1537.147061</td>\n",
       "      <td>-0.261466</td>\n",
       "      <td>-0.265267</td>\n",
       "      <td>-1.814148</td>\n",
       "      <td>-6.079121e+11</td>\n",
       "      <td>1.402275e+10</td>\n",
       "      <td>-5.702954e+09</td>\n",
       "      <td>-9.051517e+11</td>\n",
       "      <td>7.711612e+08</td>\n",
       "      <td>8.339269e+08</td>\n",
       "      <td>3.203231e+08</td>\n",
       "      <td>374.035241</td>\n",
       "      <td>569.494167</td>\n",
       "      <td>-158.746953</td>\n",
       "      <td>34.047569</td>\n",
       "      <td>6.650367</td>\n",
       "      <td>41.423106</td>\n",
       "      <td>1146.768840</td>\n",
       "      <td>-29228.519297</td>\n",
       "      <td>39.225577</td>\n",
       "      <td>0.865569</td>\n",
       "      <td>-0.700281</td>\n",
       "      <td>-4.665501</td>\n",
       "      <td>-0.147584</td>\n",
       "      <td>-0.159686</td>\n",
       "      <td>26.831973</td>\n",
       "      <td>1.601361</td>\n",
       "      <td>0.152434</td>\n",
       "      <td>53.193267</td>\n",
       "      <td>-8.241979</td>\n",
       "      <td>0.007064</td>\n",
       "      <td>0.010748</td>\n",
       "      <td>0.030755</td>\n",
       "      <td>0.028385</td>\n",
       "      <td>0.034854</td>\n",
       "      <td>0.052002</td>\n",
       "      <td>0.022551</td>\n",
       "      <td>0.045445</td>\n",
       "      <td>0.059104</td>\n",
       "      <td>0.021991</td>\n",
       "      <td>0.032492</td>\n",
       "      <td>0.043446</td>\n",
       "      <td>-0.039244</td>\n",
       "      <td>-0.014966</td>\n",
       "      <td>-0.002176</td>\n",
       "      <td>5.641256</td>\n",
       "      <td>0.193559</td>\n",
       "      <td>1.308915</td>\n",
       "      <td>1.983633</td>\n",
       "      <td>2.60788</td>\n",
       "      <td>0.321335</td>\n",
       "      <td>0.591633</td>\n",
       "      <td>-28.740394</td>\n",
       "      <td>2017.071083</td>\n",
       "    </tr>\n",
       "    <tr>\n",
       "      <th>1</th>\n",
       "      <td>1</td>\n",
       "      <td>5.787447e+09</td>\n",
       "      <td>1.817772</td>\n",
       "      <td>3.671566e+09</td>\n",
       "      <td>2.214740e+09</td>\n",
       "      <td>1.275583e+08</td>\n",
       "      <td>9.845392e+08</td>\n",
       "      <td>1.503427e+09</td>\n",
       "      <td>6.879742e+08</td>\n",
       "      <td>1.054011e+08</td>\n",
       "      <td>5.805132e+08</td>\n",
       "      <td>1.450200e+08</td>\n",
       "      <td>1.376213e+07</td>\n",
       "      <td>-3.114725e+06</td>\n",
       "      <td>4.504746e+08</td>\n",
       "      <td>4.922657e+06</td>\n",
       "      <td>4.483731e+08</td>\n",
       "      <td>-255.948818</td>\n",
       "      <td>-271.046529</td>\n",
       "      <td>2.609767e+08</td>\n",
       "      <td>2.673131e+08</td>\n",
       "      <td>0.715836</td>\n",
       "      <td>0.522307</td>\n",
       "      <td>-4.309665</td>\n",
       "      <td>-2.545258</td>\n",
       "      <td>-4.547607</td>\n",
       "      <td>-2.355614</td>\n",
       "      <td>1.058008e+09</td>\n",
       "      <td>7.000430e+08</td>\n",
       "      <td>4.636164e+08</td>\n",
       "      <td>-2.639458</td>\n",
       "      <td>-2.605485</td>\n",
       "      <td>2.379052e+09</td>\n",
       "      <td>1.841299e+09</td>\n",
       "      <td>4.057698e+09</td>\n",
       "      <td>1.092537e+09</td>\n",
       "      <td>6.198510e+08</td>\n",
       "      <td>6.272853e+09</td>\n",
       "      <td>2.940037e+09</td>\n",
       "      <td>1.943988e+09</td>\n",
       "      <td>3.461898e+09</td>\n",
       "      <td>1.615567e+08</td>\n",
       "      <td>6.791936e+09</td>\n",
       "      <td>2.124713e+10</td>\n",
       "      <td>1.038621e+09</td>\n",
       "      <td>7.039485e+08</td>\n",
       "      <td>8.915045e+09</td>\n",
       "      <td>3.559791e+09</td>\n",
       "      <td>4.691483e+09</td>\n",
       "      <td>1.687649e+08</td>\n",
       "      <td>4.238905e+08</td>\n",
       "      <td>5.822417e+09</td>\n",
       "      <td>4.093682e+09</td>\n",
       "      <td>1.663370e+10</td>\n",
       "      <td>-1.607091e+08</td>\n",
       "      <td>2.478754e+09</td>\n",
       "      <td>3.966177e+09</td>\n",
       "      <td>9.851402e+09</td>\n",
       "      <td>1.697575e+09</td>\n",
       "      <td>9.153972e+08</td>\n",
       "      <td>7.114937e+09</td>\n",
       "      <td>3.230370e+08</td>\n",
       "      <td>3.795213e+07</td>\n",
       "      <td>1.077471e+09</td>\n",
       "      <td>-4.130468e+08</td>\n",
       "      <td>-1.339481e+08</td>\n",
       "      <td>-2.715283e+08</td>\n",
       "      <td>-8.142558e+08</td>\n",
       "      <td>6.192594e+07</td>\n",
       "      <td>-1.647461e+08</td>\n",
       "      <td>-2.152610e+08</td>\n",
       "      <td>-2.010000e+08</td>\n",
       "      <td>-1.132363e+08</td>\n",
       "      <td>2.000932e+07</td>\n",
       "      <td>5.643020e+08</td>\n",
       "      <td>-0.637120</td>\n",
       "      <td>20983.622607</td>\n",
       "      <td>20976.271178</td>\n",
       "      <td>22.787727</td>\n",
       "      <td>30.281963</td>\n",
       "      <td>30.873079</td>\n",
       "      <td>75.155188</td>\n",
       "      <td>90.721860</td>\n",
       "      <td>48.644879</td>\n",
       "      <td>22.143232</td>\n",
       "      <td>0.249335</td>\n",
       "      <td>31.957241</td>\n",
       "      <td>15762.412879</td>\n",
       "      <td>-2.727415</td>\n",
       "      <td>0.434752</td>\n",
       "      <td>0.803417</td>\n",
       "      <td>0.528492</td>\n",
       "      <td>1.0</td>\n",
       "      <td>-3.113417</td>\n",
       "      <td>-2.791518</td>\n",
       "      <td>-3.339450</td>\n",
       "      <td>0.121592</td>\n",
       "      <td>2060.981190</td>\n",
       "      <td>0.020555</td>\n",
       "      <td>0.803417</td>\n",
       "      <td>0.434752</td>\n",
       "      <td>-2.727415</td>\n",
       "      <td>5.867896</td>\n",
       "      <td>23.468820</td>\n",
       "      <td>60.658459</td>\n",
       "      <td>0.694987</td>\n",
       "      <td>7.372718</td>\n",
       "      <td>77.601265</td>\n",
       "      <td>17.576343</td>\n",
       "      <td>-604.003381</td>\n",
       "      <td>859.620305</td>\n",
       "      <td>248.927662</td>\n",
       "      <td>150.389237</td>\n",
       "      <td>59.175075</td>\n",
       "      <td>0.272623</td>\n",
       "      <td>0.327558</td>\n",
       "      <td>0.376664</td>\n",
       "      <td>0.407701</td>\n",
       "      <td>-33.179534</td>\n",
       "      <td>15.673920</td>\n",
       "      <td>1501.93615</td>\n",
       "      <td>20008.058143</td>\n",
       "      <td>4377.901685</td>\n",
       "      <td>92487.771179</td>\n",
       "      <td>0.314756</td>\n",
       "      <td>56.824905</td>\n",
       "      <td>-1.162039</td>\n",
       "      <td>15.673920</td>\n",
       "      <td>125.677024</td>\n",
       "      <td>-20.842228</td>\n",
       "      <td>-25.135696</td>\n",
       "      <td>0.807129</td>\n",
       "      <td>120525.290292</td>\n",
       "      <td>13487.311770</td>\n",
       "      <td>19998.743580</td>\n",
       "      <td>4375.865454</td>\n",
       "      <td>92487.771179</td>\n",
       "      <td>1883.122123</td>\n",
       "      <td>2791.011552</td>\n",
       "      <td>177200.753186</td>\n",
       "      <td>297834.121070</td>\n",
       "      <td>2.786461e+10</td>\n",
       "      <td>1.016511e+10</td>\n",
       "      <td>30.332556</td>\n",
       "      <td>22.759409</td>\n",
       "      <td>75.078109</td>\n",
       "      <td>30.854236</td>\n",
       "      <td>20968.481803</td>\n",
       "      <td>20961.135280</td>\n",
       "      <td>20.208129</td>\n",
       "      <td>18.878346</td>\n",
       "      <td>70.022417</td>\n",
       "      <td>-56.838697</td>\n",
       "      <td>0.024626</td>\n",
       "      <td>-3.048698</td>\n",
       "      <td>0.327558</td>\n",
       "      <td>0.272623</td>\n",
       "      <td>4.427289</td>\n",
       "      <td>6.734072</td>\n",
       "      <td>-33.000420</td>\n",
       "      <td>2.137932</td>\n",
       "      <td>0.020695</td>\n",
       "      <td>0.314647</td>\n",
       "      <td>1.135807</td>\n",
       "      <td>2.076650</td>\n",
       "      <td>0.160770</td>\n",
       "      <td>1.914099</td>\n",
       "      <td>0.134498</td>\n",
       "      <td>-5.320119</td>\n",
       "      <td>0.364411</td>\n",
       "      <td>102.061471</td>\n",
       "      <td>0.020555</td>\n",
       "      <td>0.121592</td>\n",
       "      <td>-1.532105</td>\n",
       "      <td>9.806344e+09</td>\n",
       "      <td>1.794156e+10</td>\n",
       "      <td>-9.160564e+09</td>\n",
       "      <td>1.925858e+10</td>\n",
       "      <td>1.033042e+09</td>\n",
       "      <td>1.048425e+09</td>\n",
       "      <td>4.520136e+08</td>\n",
       "      <td>1053.816146</td>\n",
       "      <td>150.401917</td>\n",
       "      <td>-604.059106</td>\n",
       "      <td>53.651453</td>\n",
       "      <td>5.867896</td>\n",
       "      <td>23.468820</td>\n",
       "      <td>2061.172519</td>\n",
       "      <td>-10122.937425</td>\n",
       "      <td>2.152269</td>\n",
       "      <td>0.759567</td>\n",
       "      <td>1.426089</td>\n",
       "      <td>-0.201593</td>\n",
       "      <td>0.640552</td>\n",
       "      <td>3649.975531</td>\n",
       "      <td>1.910152</td>\n",
       "      <td>349.118614</td>\n",
       "      <td>0.163039</td>\n",
       "      <td>73.163941</td>\n",
       "      <td>0.363807</td>\n",
       "      <td>0.031339</td>\n",
       "      <td>0.041915</td>\n",
       "      <td>0.048731</td>\n",
       "      <td>0.044684</td>\n",
       "      <td>0.056966</td>\n",
       "      <td>0.074084</td>\n",
       "      <td>0.036950</td>\n",
       "      <td>0.065907</td>\n",
       "      <td>0.083169</td>\n",
       "      <td>0.041927</td>\n",
       "      <td>0.044414</td>\n",
       "      <td>0.051017</td>\n",
       "      <td>-0.016560</td>\n",
       "      <td>0.010705</td>\n",
       "      <td>0.024013</td>\n",
       "      <td>15.401429</td>\n",
       "      <td>0.129946</td>\n",
       "      <td>0.988553</td>\n",
       "      <td>-0.212706</td>\n",
       "      <td>4.67086</td>\n",
       "      <td>0.274190</td>\n",
       "      <td>0.176571</td>\n",
       "      <td>513.479114</td>\n",
       "      <td>2017.107163</td>\n",
       "    </tr>\n",
       "  </tbody>\n",
       "</table>\n",
       "</div>"
      ],
      "text/plain": [
       "   Class       Revenue  Revenue Growth  Cost of Revenue  Gross Profit  \\\n",
       "0      0  4.392016e+09        5.802416     2.758811e+09  1.671271e+09   \n",
       "1      1  5.787447e+09        1.817772     3.671566e+09  2.214740e+09   \n",
       "\n",
       "   R&D Expenses  SG&A Expense  Operating Expenses  Operating Income  \\\n",
       "0  7.413257e+07  7.311278e+08        1.205049e+09      4.686716e+08   \n",
       "1  1.275583e+08  9.845392e+08        1.503427e+09      6.879742e+08   \n",
       "\n",
       "   Interest Expense  Earnings before Tax  Income Tax Expense  \\\n",
       "0      8.854488e+07         3.843850e+08        1.117440e+08   \n",
       "1      1.054011e+08         5.805132e+08        1.450200e+08   \n",
       "\n",
       "   Net Income - Non-Controlling int  Net Income - Discontinued ops  \\\n",
       "0                      1.294238e+07                  -3.391425e+06   \n",
       "1                      1.376213e+07                  -3.114725e+06   \n",
       "\n",
       "     Net Income  Preferred Dividends  Net Income Com           EPS  \\\n",
       "0  3.134132e+08         4.374603e+06    3.123737e+08 -23351.193310   \n",
       "1  4.504746e+08         4.922657e+06    4.483731e+08   -255.948818   \n",
       "\n",
       "    EPS Diluted  Weighted Average Shs Out  Weighted Average Shs Out (Dil)  \\\n",
       "0 -23521.755853              2.658731e+08                    2.655055e+08   \n",
       "1   -271.046529              2.609767e+08                    2.673131e+08   \n",
       "\n",
       "   Dividend per Share  Gross Margin  EBITDA Margin  EBIT Margin  \\\n",
       "0            1.816469      0.445525     -14.565382   -12.974727   \n",
       "1            0.715836      0.522307      -4.309665    -2.545258   \n",
       "\n",
       "   Profit Margin  Free Cash Flow margin        EBITDA          EBIT  \\\n",
       "0     -15.226725             -11.032170  7.728630e+08  5.139359e+08   \n",
       "1      -4.547607              -2.355614  1.058008e+09  7.000430e+08   \n",
       "\n",
       "   Consolidated Income  Earnings Before Tax Margin  Net Profit Margin  \\\n",
       "0         3.262942e+08                  -12.833801         -12.943365   \n",
       "1         4.636164e+08                   -2.639458          -2.605485   \n",
       "\n",
       "   Cash and cash equivalents  Short-term investments  \\\n",
       "0               1.299741e+09            8.412218e+08   \n",
       "1               2.379052e+09            1.841299e+09   \n",
       "\n",
       "   Cash and short-term investments   Receivables   Inventories  \\\n",
       "0                     1.911343e+09  8.324676e+08  3.638510e+08   \n",
       "1                     4.057698e+09  1.092537e+09  6.198510e+08   \n",
       "\n",
       "   Total current assets  Property, Plant & Equipment Net  \\\n",
       "0          4.311910e+09                     2.440260e+09   \n",
       "1          6.272853e+09                     2.940037e+09   \n",
       "\n",
       "   Goodwill and Intangible Assets  Long-term investments    Tax assets  \\\n",
       "0                    1.471627e+09           2.292966e+09  1.408012e+08   \n",
       "1                    1.943988e+09           3.461898e+09  1.615567e+08   \n",
       "\n",
       "   Total non-current assets  Total assets      Payables  Short-term debt  \\\n",
       "0              7.095110e+12  1.938102e+10  7.671259e+08     4.706859e+08   \n",
       "1              6.791936e+09  2.124713e+10  1.038621e+09     7.039485e+08   \n",
       "\n",
       "   Total current liabilities  Long-term debt    Total debt  Deferred revenue  \\\n",
       "0               5.603720e+09    2.967781e+09  4.397591e+09      1.482428e+12   \n",
       "1               8.915045e+09    3.559791e+09  4.691483e+09      1.687649e+08   \n",
       "\n",
       "   Tax Liabilities  Deposit Liabilities  Total non-current liabilities  \\\n",
       "0     5.429039e+11         4.186139e+09                   8.052672e+11   \n",
       "1     4.238905e+08         5.822417e+09                   4.093682e+09   \n",
       "\n",
       "   Total liabilities  Other comprehensive income  Retained earnings (deficit)  \\\n",
       "0       1.542341e+10                1.856952e+11                 1.643784e+09   \n",
       "1       1.663370e+10               -1.607091e+08                 2.478754e+09   \n",
       "\n",
       "   Total shareholders equity   Investments      Net Debt  Other Assets  \\\n",
       "0               3.203856e+09  8.045046e+09  2.013964e+09  2.811231e+08   \n",
       "1               3.966177e+09  9.851402e+09  1.697575e+09  9.153972e+08   \n",
       "\n",
       "   Other Liabilities  Depreciation & Amortization  Stock-based compensation  \\\n",
       "0       4.398635e+09                 3.653365e+08              2.214530e+07   \n",
       "1       7.114937e+09                 3.230370e+08              3.795213e+07   \n",
       "\n",
       "   Operating Cash Flow  Capital Expenditure  Acquisitions and disposals  \\\n",
       "0         1.068041e+09        -3.654665e+08               -7.995505e+07   \n",
       "1         1.077471e+09        -4.130468e+08               -1.339481e+08   \n",
       "\n",
       "   Investment purchases and sales  Investing Cash flow  \\\n",
       "0                   -1.316897e+08        -5.642881e+08   \n",
       "1                   -2.715283e+08        -8.142558e+08   \n",
       "\n",
       "   Issuance (repayment) of debt  Issuance (buybacks) of shares  \\\n",
       "0                  1.668360e+07                  -6.244672e+07   \n",
       "1                  6.192594e+07                  -1.647461e+08   \n",
       "\n",
       "   Dividend payments  Financing Cash Flow  Effect of forex changes on cash  \\\n",
       "0      -1.422966e+08        -1.753745e+08                    -4.387279e+07   \n",
       "1      -2.152610e+08        -2.010000e+08                    -1.132363e+08   \n",
       "\n",
       "   Net cash flow / Change in cash  Free Cash Flow  Net Cash/Marketcap  \\\n",
       "0                    2.324595e+08    3.187130e+08           -1.349885   \n",
       "1                    2.000932e+07    5.643020e+08           -0.637120   \n",
       "\n",
       "   priceBookValueRatio  priceToBookRatio  priceToSalesRatio  \\\n",
       "0         19545.680856      19549.825609         166.727604   \n",
       "1         20983.622607      20976.271178          22.787727   \n",
       "\n",
       "   priceEarningsRatio  priceToFreeCashFlowsRatio  \\\n",
       "0           46.955401                  43.186350   \n",
       "1           30.281963                  30.873079   \n",
       "\n",
       "   priceToOperatingCashFlowsRatio  priceCashFlowRatio  \\\n",
       "0                       28.036396           25.801921   \n",
       "1                       75.155188           90.721860   \n",
       "\n",
       "   priceEarningsToGrowthRatio  priceSalesRatio  dividendYield  \\\n",
       "0                   73.222372       147.599205       0.331155   \n",
       "1                   48.644879        22.143232       0.249335   \n",
       "\n",
       "   enterpriseValueMultiple  priceFairValue  ebitperRevenue  ebtperEBIT  \\\n",
       "0                42.892644     5580.741381      -14.069046    0.929200   \n",
       "1                31.957241    15762.412879       -2.727415    0.434752   \n",
       "\n",
       "   niperEBT  grossProfitMargin  operatingProfitMargin  pretaxProfitMargin  \\\n",
       "0  0.956255           0.446559                    1.0          -14.270458   \n",
       "1  0.803417           0.528492                    1.0           -3.113417   \n",
       "\n",
       "   netProfitMargin  effectiveTaxRate  returnOnAssets  returnOnEquity  \\\n",
       "0       -14.056423          0.021771       -0.265267     1146.640847   \n",
       "1        -2.791518         -3.339450        0.121592     2060.981190   \n",
       "\n",
       "   returnOnCapitalEmployed  nIperEBT  eBTperEBIT  eBITperRevenue  \\\n",
       "0                -0.261466  0.956255    0.929200      -14.069046   \n",
       "1                 0.020555  0.803417    0.434752       -2.727415   \n",
       "\n",
       "   payablesTurnover  inventoryTurnover  fixedAssetTurnover  assetTurnover  \\\n",
       "0          6.650367          41.423106          126.233014       0.686536   \n",
       "1          5.867896          23.468820           60.658459       0.694987   \n",
       "\n",
       "   currentRatio  quickRatio  cashRatio  daysOfSalesOutstanding  \\\n",
       "0      6.813039   65.027028  20.702720             -158.729304   \n",
       "1      7.372718   77.601265  17.576343             -604.003381   \n",
       "\n",
       "   daysOfInventoryOutstanding  operatingCycle  daysOfPayablesOutstanding  \\\n",
       "0                  289.210707      123.612045                 569.430862   \n",
       "1                  859.620305      248.927662                 150.389237   \n",
       "\n",
       "   cashConversionCycle  debtRatio  debtEquityRatio  \\\n",
       "0            32.717264   0.273232         0.845834   \n",
       "1            59.175075   0.272623         0.327558   \n",
       "\n",
       "   longtermDebtToCapitalization  totalDebtToCapitalization  interestCoverage  \\\n",
       "0                      0.338062                   0.508676        -31.013715   \n",
       "1                      0.376664                   0.407701        -33.179534   \n",
       "\n",
       "   cashFlowToDebtRatio  companyEquityMultiplier  operatingCashFlowPerShare  \\\n",
       "0           132.156482                904.28394               26387.142003   \n",
       "1            15.673920               1501.93615               20008.058143   \n",
       "\n",
       "   freeCashFlowPerShare  cashPerShare  payoutRatio  \\\n",
       "0          -1944.177586  73075.509754     0.333583   \n",
       "1           4377.901685  92487.771179     0.314756   \n",
       "\n",
       "   operatingCashFlowSalesRatio  freeCashFlowOperatingCashFlowRatio  \\\n",
       "0                   -98.325166                           -0.033414   \n",
       "1                    56.824905                           -1.162039   \n",
       "\n",
       "   cashFlowCoverageRatios  shortTermCoverageRatios  \\\n",
       "0              132.156482               407.081693   \n",
       "1               15.673920               125.677024   \n",
       "\n",
       "   capitalExpenditureCoverageRatios  dividendpaidAndCapexCoverageRatios  \\\n",
       "0                         -4.905857                          -44.671426   \n",
       "1                        -20.842228                          -25.135696   \n",
       "\n",
       "   dividendPayoutRatio  Revenue per Share  Net Income per Share  \\\n",
       "0             0.842644      189042.315187          12215.855177   \n",
       "1             0.807129      120525.290292          13487.311770   \n",
       "\n",
       "   Operating Cash Flow per Share  Free Cash Flow per Share  Cash per Share  \\\n",
       "0                   26366.458497              -1942.659449    73083.700225   \n",
       "1                   19998.743580               4375.865454    92487.771179   \n",
       "\n",
       "   Book Value per Share  Tangible Book Value per Share  \\\n",
       "0         123573.457069                  236457.777329   \n",
       "1           1883.122123                    2791.011552   \n",
       "\n",
       "   Shareholders Equity per Share  Interest Debt per Share    Market Cap  \\\n",
       "0                  233605.141428            345719.446243  3.385003e+10   \n",
       "1                  177200.753186            297834.121070  2.786461e+10   \n",
       "\n",
       "   Enterprise Value   PE ratio  Price to Sales Ratio  POCF ratio  PFCF ratio  \\\n",
       "0      6.358880e+09  47.032008            166.554501   28.019257   43.146313   \n",
       "1      1.016511e+10  30.332556             22.759409   75.078109   30.854236   \n",
       "\n",
       "       PB ratio     PTB ratio  EV to Sales  Enterprise Value over EBITDA  \\\n",
       "0  19522.451410  19526.590754    95.828029                     25.317113   \n",
       "1  20968.481803  20961.135280    20.208129                     18.878346   \n",
       "\n",
       "   EV to Operating cash flow  EV to Free cash flow  Earnings Yield  \\\n",
       "0                   2.425615             27.483931       -0.504092   \n",
       "1                  70.022417            -56.838697        0.024626   \n",
       "\n",
       "   Free Cash Flow Yield  Debt to Equity  Debt to Assets  Net Debt to EBITDA  \\\n",
       "0             -0.127924        0.845834        0.273232            1.009899   \n",
       "1             -3.048698        0.327558        0.272623            4.427289   \n",
       "\n",
       "   Current ratio  Interest Coverage  Income Quality  Dividend Yield  \\\n",
       "0       6.412538         -30.965076        3.644459        0.020100   \n",
       "1       6.734072         -33.000420        2.137932        0.020695   \n",
       "\n",
       "   Payout Ratio  SG&A to Revenue  R&D to Revenue  Intangibles to Total Assets  \\\n",
       "0      0.333173         6.369273        7.294712                     0.147442   \n",
       "1      0.314647         1.135807        2.076650                     0.160770   \n",
       "\n",
       "   Capex to Operating Cash Flow  Capex to Revenue  Capex to Depreciation  \\\n",
       "0                      0.750834          0.121232              -5.774433   \n",
       "1                      1.914099          0.134498              -5.320119   \n",
       "\n",
       "   Stock-based compensation to Revenue  Graham Number      ROIC  \\\n",
       "0                             1.939248    1537.147061 -0.261466   \n",
       "1                             0.364411     102.061471  0.020555   \n",
       "\n",
       "   Return on Tangible Assets  Graham Net-Net  Working Capital  \\\n",
       "0                  -0.265267       -1.814148    -6.079121e+11   \n",
       "1                   0.121592       -1.532105     9.806344e+09   \n",
       "\n",
       "   Tangible Asset Value  Net Current Asset Value  Invested Capital  \\\n",
       "0          1.402275e+10            -5.702954e+09     -9.051517e+11   \n",
       "1          1.794156e+10            -9.160564e+09      1.925858e+10   \n",
       "\n",
       "   Average Receivables  Average Payables  Average Inventory  \\\n",
       "0         7.711612e+08      8.339269e+08       3.203231e+08   \n",
       "1         1.033042e+09      1.048425e+09       4.520136e+08   \n",
       "\n",
       "   Days Sales Outstanding  Days Payables Outstanding  \\\n",
       "0              374.035241                 569.494167   \n",
       "1             1053.816146                 150.401917   \n",
       "\n",
       "   Days of Inventory on Hand  Receivables Turnover  Payables Turnover  \\\n",
       "0                -158.746953             34.047569           6.650367   \n",
       "1                -604.059106             53.651453           5.867896   \n",
       "\n",
       "   Inventory Turnover          ROE  Capex per Share  Gross Profit Growth  \\\n",
       "0           41.423106  1146.768840    -29228.519297            39.225577   \n",
       "1           23.468820  2061.172519    -10122.937425             2.152269   \n",
       "\n",
       "   EBIT Growth  Operating Income Growth  Net Income Growth  EPS Growth  \\\n",
       "0     0.865569                -0.700281          -4.665501   -0.147584   \n",
       "1     0.759567                 1.426089          -0.201593    0.640552   \n",
       "\n",
       "   EPS Diluted Growth  Weighted Average Shares Growth  \\\n",
       "0           -0.159686                       26.831973   \n",
       "1         3649.975531                        1.910152   \n",
       "\n",
       "   Weighted Average Shares Diluted Growth  Dividends per Share Growth  \\\n",
       "0                                1.601361                    0.152434   \n",
       "1                              349.118614                    0.163039   \n",
       "\n",
       "   Operating Cash Flow growth  Free Cash Flow growth  \\\n",
       "0                   53.193267              -8.241979   \n",
       "1                   73.163941               0.363807   \n",
       "\n",
       "   10Y Revenue Growth (per Share)  5Y Revenue Growth (per Share)  \\\n",
       "0                        0.007064                       0.010748   \n",
       "1                        0.031339                       0.041915   \n",
       "\n",
       "   3Y Revenue Growth (per Share)  10Y Operating CF Growth (per Share)  \\\n",
       "0                       0.030755                             0.028385   \n",
       "1                       0.048731                             0.044684   \n",
       "\n",
       "   5Y Operating CF Growth (per Share)  3Y Operating CF Growth (per Share)  \\\n",
       "0                            0.034854                            0.052002   \n",
       "1                            0.056966                            0.074084   \n",
       "\n",
       "   10Y Net Income Growth (per Share)  5Y Net Income Growth (per Share)  \\\n",
       "0                           0.022551                          0.045445   \n",
       "1                           0.036950                          0.065907   \n",
       "\n",
       "   3Y Net Income Growth (per Share)  \\\n",
       "0                          0.059104   \n",
       "1                          0.083169   \n",
       "\n",
       "   10Y Shareholders Equity Growth (per Share)  \\\n",
       "0                                    0.021991   \n",
       "1                                    0.041927   \n",
       "\n",
       "   5Y Shareholders Equity Growth (per Share)  \\\n",
       "0                                   0.032492   \n",
       "1                                   0.044414   \n",
       "\n",
       "   3Y Shareholders Equity Growth (per Share)  \\\n",
       "0                                   0.043446   \n",
       "1                                   0.051017   \n",
       "\n",
       "   10Y Dividend per Share Growth (per Share)  \\\n",
       "0                                  -0.039244   \n",
       "1                                  -0.016560   \n",
       "\n",
       "   5Y Dividend per Share Growth (per Share)  \\\n",
       "0                                 -0.014966   \n",
       "1                                  0.010705   \n",
       "\n",
       "   3Y Dividend per Share Growth (per Share)  Receivables growth  \\\n",
       "0                                 -0.002176            5.641256   \n",
       "1                                  0.024013           15.401429   \n",
       "\n",
       "   Inventory Growth  Asset Growth  Book Value per Share Growth  Debt Growth  \\\n",
       "0          0.193559      1.308915                     1.983633      2.60788   \n",
       "1          0.129946      0.988553                    -0.212706      4.67086   \n",
       "\n",
       "   R&D Expense Growth  SG&A Expenses Growth   PRICE_VAR         Year  \n",
       "0            0.321335              0.591633  -28.740394  2017.071083  \n",
       "1            0.274190              0.176571  513.479114  2017.107163  "
      ]
     },
     "execution_count": 186,
     "metadata": {},
     "output_type": "execute_result"
    }
   ],
   "source": [
    "df"
   ]
  },
  {
   "cell_type": "code",
   "execution_count": 187,
   "id": "31681d32",
   "metadata": {},
   "outputs": [
    {
     "ename": "SyntaxError",
     "evalue": "invalid syntax (<ipython-input-187-0c70167e7a44>, line 1)",
     "output_type": "error",
     "traceback": [
      "\u001b[1;36m  File \u001b[1;32m\"<ipython-input-187-0c70167e7a44>\"\u001b[1;36m, line \u001b[1;32m1\u001b[0m\n\u001b[1;33m    Revenue Debt Growth\u001b[0m\n\u001b[1;37m            ^\u001b[0m\n\u001b[1;31mSyntaxError\u001b[0m\u001b[1;31m:\u001b[0m invalid syntax\n"
     ]
    }
   ],
   "source": [
    "Revenue Debt Growth "
   ]
  },
  {
   "cell_type": "code",
   "execution_count": null,
   "id": "ed5729e6",
   "metadata": {},
   "outputs": [],
   "source": [
    "Revenue Debt Growth "
   ]
  },
  {
   "cell_type": "code",
   "execution_count": null,
   "id": "fe14a503",
   "metadata": {
    "scrolled": false
   },
   "outputs": [],
   "source": [
    "import plotly.express as px\n",
    "y=['Gross Profit','Investments','R&D Expenses','PRICE_VAR','Revenue per Share'] \n",
    "for i in y:\n",
    "    fig = px.bar(df, x='Class', y=i\n",
    "    )\n",
    "    fig.update_traces(marker_color='rgb(158,202,225)', marker_line_color='rgb(8,48,107)',\n",
    "                  marker_line_width=1.5, opacity=0.6)\n",
    "    fig.update_layout(title_text='Average Gross Profit Per Class')\n",
    "    fig.show()\n"
   ]
  },
  {
   "cell_type": "code",
   "execution_count": null,
   "id": "d3e5aba3",
   "metadata": {},
   "outputs": [],
   "source": [
    "data.sort_values('Revenue',ascending=False).head(1)"
   ]
  },
  {
   "cell_type": "code",
   "execution_count": 241,
   "id": "7e2e0f14",
   "metadata": {},
   "outputs": [],
   "source": [
    "DAT=data[(data['Unnamed: 0']=='AAPL') | (data['Unnamed: 0']=='WMT') | (data['Unnamed: 0']=='GOOGL') | (data['Unnamed: 0']=='AMZN')]"
   ]
  },
  {
   "cell_type": "code",
   "execution_count": 242,
   "id": "da3e9a45",
   "metadata": {},
   "outputs": [],
   "source": [
    "y=['Investments','R&D Expenses','PRICE_VAR','Revenue per Share','Debt Growth'] "
   ]
  },
  {
   "cell_type": "code",
   "execution_count": 243,
   "id": "a89235fa",
   "metadata": {},
   "outputs": [],
   "source": [
    "DAT=DAT.filter(['Unnamed: 0','Investments','R&D Expenses','PRICE_VAR','Revenue per Share' ,'Debt Growth','Year'] , axis=1)"
   ]
  },
  {
   "cell_type": "code",
   "execution_count": 244,
   "id": "590496ff",
   "metadata": {},
   "outputs": [],
   "source": [
    "DAT=DAT.rename(columns={'Unnamed: 0':'Company'})"
   ]
  },
  {
   "cell_type": "code",
   "execution_count": 246,
   "id": "374fc985",
   "metadata": {},
   "outputs": [],
   "source": [
    "DAT['Company']=DAT['Company'].replace({\"AAPL\": \"APPLE\",\n",
    "                     \"WMT\":\"WALMART\",\n",
    "                    'GOOGL':'GOOGLE',\n",
    "                   'AMZN':'AMAZON'})"
   ]
  },
  {
   "cell_type": "code",
   "execution_count": 209,
   "id": "036219ac",
   "metadata": {},
   "outputs": [],
   "source": [
    "#DAT=DAT.set_index('Unnamed: 0')"
   ]
  },
  {
   "cell_type": "code",
   "execution_count": 210,
   "id": "06c17530",
   "metadata": {},
   "outputs": [],
   "source": [
    "#DAT=DAT.T"
   ]
  },
  {
   "cell_type": "code",
   "execution_count": 211,
   "id": "d043def0",
   "metadata": {},
   "outputs": [],
   "source": [
    "#DAT.reset_index(inplace=True)"
   ]
  },
  {
   "cell_type": "code",
   "execution_count": 247,
   "id": "84d20c89",
   "metadata": {},
   "outputs": [
    {
     "data": {
      "text/html": [
       "<div>\n",
       "<style scoped>\n",
       "    .dataframe tbody tr th:only-of-type {\n",
       "        vertical-align: middle;\n",
       "    }\n",
       "\n",
       "    .dataframe tbody tr th {\n",
       "        vertical-align: top;\n",
       "    }\n",
       "\n",
       "    .dataframe thead th {\n",
       "        text-align: right;\n",
       "    }\n",
       "</style>\n",
       "<table border=\"1\" class=\"dataframe\">\n",
       "  <thead>\n",
       "    <tr style=\"text-align: right;\">\n",
       "      <th></th>\n",
       "      <th>Company</th>\n",
       "      <th>Investments</th>\n",
       "      <th>R&amp;D Expenses</th>\n",
       "      <th>PRICE_VAR</th>\n",
       "      <th>Revenue per Share</th>\n",
       "      <th>Debt Growth</th>\n",
       "      <th>Year</th>\n",
       "    </tr>\n",
       "  </thead>\n",
       "  <tbody>\n",
       "    <tr>\n",
       "      <th>7</th>\n",
       "      <td>WALMART</td>\n",
       "      <td>0.000000e+00</td>\n",
       "      <td>0.000000e+00</td>\n",
       "      <td>-26.653702</td>\n",
       "      <td>145.7002</td>\n",
       "      <td>0.0463</td>\n",
       "      <td>2015</td>\n",
       "    </tr>\n",
       "    <tr>\n",
       "      <th>3234</th>\n",
       "      <td>APPLE</td>\n",
       "      <td>1.413950e+11</td>\n",
       "      <td>6.041000e+09</td>\n",
       "      <td>-2.082268</td>\n",
       "      <td>30.0374</td>\n",
       "      <td>1.0811</td>\n",
       "      <td>2015</td>\n",
       "    </tr>\n",
       "    <tr>\n",
       "      <th>3264</th>\n",
       "      <td>AMAZON</td>\n",
       "      <td>2.859000e+09</td>\n",
       "      <td>9.275000e+09</td>\n",
       "      <td>119.074951</td>\n",
       "      <td>192.6147</td>\n",
       "      <td>1.5901</td>\n",
       "      <td>2015</td>\n",
       "    </tr>\n",
       "    <tr>\n",
       "      <th>3286</th>\n",
       "      <td>GOOGLE</td>\n",
       "      <td>4.912700e+10</td>\n",
       "      <td>9.832000e+09</td>\n",
       "      <td>46.919087</td>\n",
       "      <td>97.6440</td>\n",
       "      <td>-0.0015</td>\n",
       "      <td>2015</td>\n",
       "    </tr>\n",
       "    <tr>\n",
       "      <th>7</th>\n",
       "      <td>WALMART</td>\n",
       "      <td>0.000000e+00</td>\n",
       "      <td>0.000000e+00</td>\n",
       "      <td>15.729121</td>\n",
       "      <td>150.3563</td>\n",
       "      <td>-0.1143</td>\n",
       "      <td>2016</td>\n",
       "    </tr>\n",
       "    <tr>\n",
       "      <th>3516</th>\n",
       "      <td>APPLE</td>\n",
       "      <td>1.845460e+11</td>\n",
       "      <td>8.067000e+09</td>\n",
       "      <td>12.384342</td>\n",
       "      <td>40.6219</td>\n",
       "      <td>0.8226</td>\n",
       "      <td>2016</td>\n",
       "    </tr>\n",
       "    <tr>\n",
       "      <th>3546</th>\n",
       "      <td>AMAZON</td>\n",
       "      <td>3.918000e+09</td>\n",
       "      <td>1.254000e+10</td>\n",
       "      <td>17.720844</td>\n",
       "      <td>229.1349</td>\n",
       "      <td>-0.0046</td>\n",
       "      <td>2016</td>\n",
       "    </tr>\n",
       "    <tr>\n",
       "      <th>3567</th>\n",
       "      <td>GOOGLE</td>\n",
       "      <td>6.170000e+10</td>\n",
       "      <td>1.228200e+10</td>\n",
       "      <td>4.346625</td>\n",
       "      <td>109.0392</td>\n",
       "      <td>-0.0032</td>\n",
       "      <td>2016</td>\n",
       "    </tr>\n",
       "    <tr>\n",
       "      <th>7</th>\n",
       "      <td>WALMART</td>\n",
       "      <td>0.000000e+00</td>\n",
       "      <td>0.000000e+00</td>\n",
       "      <td>47.542643</td>\n",
       "      <td>150.3368</td>\n",
       "      <td>-0.0026</td>\n",
       "      <td>2017</td>\n",
       "    </tr>\n",
       "    <tr>\n",
       "      <th>4156</th>\n",
       "      <td>APPLE</td>\n",
       "      <td>2.171010e+11</td>\n",
       "      <td>1.004500e+10</td>\n",
       "      <td>48.042508</td>\n",
       "      <td>39.4162</td>\n",
       "      <td>0.3529</td>\n",
       "      <td>2017</td>\n",
       "    </tr>\n",
       "    <tr>\n",
       "      <th>4188</th>\n",
       "      <td>AMAZON</td>\n",
       "      <td>6.647000e+09</td>\n",
       "      <td>1.608500e+10</td>\n",
       "      <td>55.170034</td>\n",
       "      <td>286.8924</td>\n",
       "      <td>-0.0648</td>\n",
       "      <td>2017</td>\n",
       "    </tr>\n",
       "    <tr>\n",
       "      <th>4212</th>\n",
       "      <td>GOOGLE</td>\n",
       "      <td>7.929300e+10</td>\n",
       "      <td>1.394800e+10</td>\n",
       "      <td>30.369675</td>\n",
       "      <td>130.9735</td>\n",
       "      <td>-0.2462</td>\n",
       "      <td>2017</td>\n",
       "    </tr>\n",
       "    <tr>\n",
       "      <th>7</th>\n",
       "      <td>WALMART</td>\n",
       "      <td>0.000000e+00</td>\n",
       "      <td>0.000000e+00</td>\n",
       "      <td>-3.275250</td>\n",
       "      <td>156.6827</td>\n",
       "      <td>-0.0819</td>\n",
       "      <td>2018</td>\n",
       "    </tr>\n",
       "    <tr>\n",
       "      <th>4297</th>\n",
       "      <td>APPLE</td>\n",
       "      <td>2.486060e+11</td>\n",
       "      <td>1.158100e+10</td>\n",
       "      <td>-7.054338</td>\n",
       "      <td>43.9378</td>\n",
       "      <td>0.3292</td>\n",
       "      <td>2018</td>\n",
       "    </tr>\n",
       "    <tr>\n",
       "      <th>4330</th>\n",
       "      <td>AMAZON</td>\n",
       "      <td>1.046400e+10</td>\n",
       "      <td>2.262000e+10</td>\n",
       "      <td>26.321054</td>\n",
       "      <td>370.5542</td>\n",
       "      <td>2.2159</td>\n",
       "      <td>2018</td>\n",
       "    </tr>\n",
       "    <tr>\n",
       "      <th>4354</th>\n",
       "      <td>GOOGLE</td>\n",
       "      <td>9.896900e+10</td>\n",
       "      <td>1.662500e+10</td>\n",
       "      <td>-2.632290</td>\n",
       "      <td>159.5490</td>\n",
       "      <td>0.0086</td>\n",
       "      <td>2018</td>\n",
       "    </tr>\n",
       "    <tr>\n",
       "      <th>6</th>\n",
       "      <td>APPLE</td>\n",
       "      <td>2.111870e+11</td>\n",
       "      <td>1.423600e+10</td>\n",
       "      <td>88.742465</td>\n",
       "      <td>53.5973</td>\n",
       "      <td>-0.0103</td>\n",
       "      <td>2019</td>\n",
       "    </tr>\n",
       "    <tr>\n",
       "      <th>90</th>\n",
       "      <td>WALMART</td>\n",
       "      <td>0.000000e+00</td>\n",
       "      <td>0.000000e+00</td>\n",
       "      <td>29.898017</td>\n",
       "      <td>167.0594</td>\n",
       "      <td>0.0120</td>\n",
       "      <td>2019</td>\n",
       "    </tr>\n",
       "    <tr>\n",
       "      <th>172</th>\n",
       "      <td>AMAZON</td>\n",
       "      <td>9.500000e+09</td>\n",
       "      <td>2.883700e+10</td>\n",
       "      <td>20.057432</td>\n",
       "      <td>478.2074</td>\n",
       "      <td>0.3396</td>\n",
       "      <td>2019</td>\n",
       "    </tr>\n",
       "    <tr>\n",
       "      <th>362</th>\n",
       "      <td>GOOGLE</td>\n",
       "      <td>1.062980e+11</td>\n",
       "      <td>2.141900e+10</td>\n",
       "      <td>26.994913</td>\n",
       "      <td>196.7300</td>\n",
       "      <td>0.0108</td>\n",
       "      <td>2019</td>\n",
       "    </tr>\n",
       "  </tbody>\n",
       "</table>\n",
       "</div>"
      ],
      "text/plain": [
       "      Company   Investments  R&D Expenses   PRICE_VAR  Revenue per Share  \\\n",
       "7     WALMART  0.000000e+00  0.000000e+00  -26.653702           145.7002   \n",
       "3234    APPLE  1.413950e+11  6.041000e+09   -2.082268            30.0374   \n",
       "3264   AMAZON  2.859000e+09  9.275000e+09  119.074951           192.6147   \n",
       "3286   GOOGLE  4.912700e+10  9.832000e+09   46.919087            97.6440   \n",
       "7     WALMART  0.000000e+00  0.000000e+00   15.729121           150.3563   \n",
       "3516    APPLE  1.845460e+11  8.067000e+09   12.384342            40.6219   \n",
       "3546   AMAZON  3.918000e+09  1.254000e+10   17.720844           229.1349   \n",
       "3567   GOOGLE  6.170000e+10  1.228200e+10    4.346625           109.0392   \n",
       "7     WALMART  0.000000e+00  0.000000e+00   47.542643           150.3368   \n",
       "4156    APPLE  2.171010e+11  1.004500e+10   48.042508            39.4162   \n",
       "4188   AMAZON  6.647000e+09  1.608500e+10   55.170034           286.8924   \n",
       "4212   GOOGLE  7.929300e+10  1.394800e+10   30.369675           130.9735   \n",
       "7     WALMART  0.000000e+00  0.000000e+00   -3.275250           156.6827   \n",
       "4297    APPLE  2.486060e+11  1.158100e+10   -7.054338            43.9378   \n",
       "4330   AMAZON  1.046400e+10  2.262000e+10   26.321054           370.5542   \n",
       "4354   GOOGLE  9.896900e+10  1.662500e+10   -2.632290           159.5490   \n",
       "6       APPLE  2.111870e+11  1.423600e+10   88.742465            53.5973   \n",
       "90    WALMART  0.000000e+00  0.000000e+00   29.898017           167.0594   \n",
       "172    AMAZON  9.500000e+09  2.883700e+10   20.057432           478.2074   \n",
       "362    GOOGLE  1.062980e+11  2.141900e+10   26.994913           196.7300   \n",
       "\n",
       "      Debt Growth  Year  \n",
       "7          0.0463  2015  \n",
       "3234       1.0811  2015  \n",
       "3264       1.5901  2015  \n",
       "3286      -0.0015  2015  \n",
       "7         -0.1143  2016  \n",
       "3516       0.8226  2016  \n",
       "3546      -0.0046  2016  \n",
       "3567      -0.0032  2016  \n",
       "7         -0.0026  2017  \n",
       "4156       0.3529  2017  \n",
       "4188      -0.0648  2017  \n",
       "4212      -0.2462  2017  \n",
       "7         -0.0819  2018  \n",
       "4297       0.3292  2018  \n",
       "4330       2.2159  2018  \n",
       "4354       0.0086  2018  \n",
       "6         -0.0103  2019  \n",
       "90         0.0120  2019  \n",
       "172        0.3396  2019  \n",
       "362        0.0108  2019  "
      ]
     },
     "execution_count": 247,
     "metadata": {},
     "output_type": "execute_result"
    }
   ],
   "source": [
    "DAT"
   ]
  },
  {
   "cell_type": "code",
   "execution_count": 213,
   "id": "17c57c8c",
   "metadata": {},
   "outputs": [],
   "source": [
    "#AAPL=DAT[DAT['Unnamed: 0']=='AAPL']"
   ]
  },
  {
   "cell_type": "code",
   "execution_count": 250,
   "id": "8616b69a",
   "metadata": {},
   "outputs": [
    {
     "data": {
      "application/vnd.plotly.v1+json": {
       "config": {
        "plotlyServerURL": "https://plot.ly"
       },
       "data": [
        {
         "hovertemplate": "Company=WALMART<br>Year=%{x}<br>PRICE_VAR=%{y}<extra></extra>",
         "legendgroup": "WALMART",
         "line": {
          "color": "#636efa",
          "dash": "solid"
         },
         "mode": "lines",
         "name": "WALMART",
         "orientation": "v",
         "showlegend": true,
         "type": "scatter",
         "x": [
          2015,
          2016,
          2017,
          2018,
          2019
         ],
         "xaxis": "x3",
         "y": [
          -26.65370178517993,
          15.72912116448004,
          47.54264341996496,
          -3.2752502280311164,
          29.898016946139087
         ],
         "yaxis": "y3"
        },
        {
         "hovertemplate": "Company=APPLE<br>Year=%{x}<br>PRICE_VAR=%{y}<extra></extra>",
         "legendgroup": "APPLE",
         "line": {
          "color": "#EF553B",
          "dash": "solid"
         },
         "mode": "lines",
         "name": "APPLE",
         "orientation": "v",
         "showlegend": true,
         "type": "scatter",
         "x": [
          2015,
          2016,
          2017,
          2018,
          2019
         ],
         "xaxis": "x4",
         "y": [
          -2.0822684663317723,
          12.384342354071732,
          48.0425080310413,
          -7.054338116735654,
          88.74246462864862
         ],
         "yaxis": "y4"
        },
        {
         "hovertemplate": "Company=AMAZON<br>Year=%{x}<br>PRICE_VAR=%{y}<extra></extra>",
         "legendgroup": "AMAZON",
         "line": {
          "color": "#00cc96",
          "dash": "solid"
         },
         "mode": "lines",
         "name": "AMAZON",
         "orientation": "v",
         "showlegend": true,
         "type": "scatter",
         "x": [
          2015,
          2016,
          2017,
          2018,
          2019
         ],
         "xaxis": "x",
         "y": [
          119.07495096484196,
          17.720844379560702,
          55.17003426187078,
          26.321053512340907,
          20.057432442882227
         ],
         "yaxis": "y"
        },
        {
         "hovertemplate": "Company=GOOGLE<br>Year=%{x}<br>PRICE_VAR=%{y}<extra></extra>",
         "legendgroup": "GOOGLE",
         "line": {
          "color": "#ab63fa",
          "dash": "solid"
         },
         "mode": "lines",
         "name": "GOOGLE",
         "orientation": "v",
         "showlegend": true,
         "type": "scatter",
         "x": [
          2015,
          2016,
          2017,
          2018,
          2019
         ],
         "xaxis": "x2",
         "y": [
          46.91908747050967,
          4.34662510000872,
          30.369675088507428,
          -2.632290141560211,
          26.99491281130573
         ],
         "yaxis": "y2"
        }
       ],
       "layout": {
        "annotations": [
         {
          "font": {},
          "showarrow": false,
          "text": "Company=AMAZON",
          "x": 0.245,
          "xanchor": "center",
          "xref": "paper",
          "y": 0.46499999999999997,
          "yanchor": "bottom",
          "yref": "paper"
         },
         {
          "font": {},
          "showarrow": false,
          "text": "Company=GOOGLE",
          "x": 0.755,
          "xanchor": "center",
          "xref": "paper",
          "y": 0.46499999999999997,
          "yanchor": "bottom",
          "yref": "paper"
         },
         {
          "font": {},
          "showarrow": false,
          "text": "Company=WALMART",
          "x": 0.245,
          "xanchor": "center",
          "xref": "paper",
          "y": 0.9999999999999999,
          "yanchor": "bottom",
          "yref": "paper"
         },
         {
          "font": {},
          "showarrow": false,
          "text": "Company=APPLE",
          "x": 0.755,
          "xanchor": "center",
          "xref": "paper",
          "y": 0.9999999999999999,
          "yanchor": "bottom",
          "yref": "paper"
         }
        ],
        "legend": {
         "title": {
          "text": "Company"
         },
         "tracegroupgap": 0
        },
        "margin": {
         "t": 60
        },
        "template": {
         "data": {
          "bar": [
           {
            "error_x": {
             "color": "#2a3f5f"
            },
            "error_y": {
             "color": "#2a3f5f"
            },
            "marker": {
             "line": {
              "color": "#E5ECF6",
              "width": 0.5
             },
             "pattern": {
              "fillmode": "overlay",
              "size": 10,
              "solidity": 0.2
             }
            },
            "type": "bar"
           }
          ],
          "barpolar": [
           {
            "marker": {
             "line": {
              "color": "#E5ECF6",
              "width": 0.5
             },
             "pattern": {
              "fillmode": "overlay",
              "size": 10,
              "solidity": 0.2
             }
            },
            "type": "barpolar"
           }
          ],
          "carpet": [
           {
            "aaxis": {
             "endlinecolor": "#2a3f5f",
             "gridcolor": "white",
             "linecolor": "white",
             "minorgridcolor": "white",
             "startlinecolor": "#2a3f5f"
            },
            "baxis": {
             "endlinecolor": "#2a3f5f",
             "gridcolor": "white",
             "linecolor": "white",
             "minorgridcolor": "white",
             "startlinecolor": "#2a3f5f"
            },
            "type": "carpet"
           }
          ],
          "choropleth": [
           {
            "colorbar": {
             "outlinewidth": 0,
             "ticks": ""
            },
            "type": "choropleth"
           }
          ],
          "contour": [
           {
            "colorbar": {
             "outlinewidth": 0,
             "ticks": ""
            },
            "colorscale": [
             [
              0,
              "#0d0887"
             ],
             [
              0.1111111111111111,
              "#46039f"
             ],
             [
              0.2222222222222222,
              "#7201a8"
             ],
             [
              0.3333333333333333,
              "#9c179e"
             ],
             [
              0.4444444444444444,
              "#bd3786"
             ],
             [
              0.5555555555555556,
              "#d8576b"
             ],
             [
              0.6666666666666666,
              "#ed7953"
             ],
             [
              0.7777777777777778,
              "#fb9f3a"
             ],
             [
              0.8888888888888888,
              "#fdca26"
             ],
             [
              1,
              "#f0f921"
             ]
            ],
            "type": "contour"
           }
          ],
          "contourcarpet": [
           {
            "colorbar": {
             "outlinewidth": 0,
             "ticks": ""
            },
            "type": "contourcarpet"
           }
          ],
          "heatmap": [
           {
            "colorbar": {
             "outlinewidth": 0,
             "ticks": ""
            },
            "colorscale": [
             [
              0,
              "#0d0887"
             ],
             [
              0.1111111111111111,
              "#46039f"
             ],
             [
              0.2222222222222222,
              "#7201a8"
             ],
             [
              0.3333333333333333,
              "#9c179e"
             ],
             [
              0.4444444444444444,
              "#bd3786"
             ],
             [
              0.5555555555555556,
              "#d8576b"
             ],
             [
              0.6666666666666666,
              "#ed7953"
             ],
             [
              0.7777777777777778,
              "#fb9f3a"
             ],
             [
              0.8888888888888888,
              "#fdca26"
             ],
             [
              1,
              "#f0f921"
             ]
            ],
            "type": "heatmap"
           }
          ],
          "heatmapgl": [
           {
            "colorbar": {
             "outlinewidth": 0,
             "ticks": ""
            },
            "colorscale": [
             [
              0,
              "#0d0887"
             ],
             [
              0.1111111111111111,
              "#46039f"
             ],
             [
              0.2222222222222222,
              "#7201a8"
             ],
             [
              0.3333333333333333,
              "#9c179e"
             ],
             [
              0.4444444444444444,
              "#bd3786"
             ],
             [
              0.5555555555555556,
              "#d8576b"
             ],
             [
              0.6666666666666666,
              "#ed7953"
             ],
             [
              0.7777777777777778,
              "#fb9f3a"
             ],
             [
              0.8888888888888888,
              "#fdca26"
             ],
             [
              1,
              "#f0f921"
             ]
            ],
            "type": "heatmapgl"
           }
          ],
          "histogram": [
           {
            "marker": {
             "pattern": {
              "fillmode": "overlay",
              "size": 10,
              "solidity": 0.2
             }
            },
            "type": "histogram"
           }
          ],
          "histogram2d": [
           {
            "colorbar": {
             "outlinewidth": 0,
             "ticks": ""
            },
            "colorscale": [
             [
              0,
              "#0d0887"
             ],
             [
              0.1111111111111111,
              "#46039f"
             ],
             [
              0.2222222222222222,
              "#7201a8"
             ],
             [
              0.3333333333333333,
              "#9c179e"
             ],
             [
              0.4444444444444444,
              "#bd3786"
             ],
             [
              0.5555555555555556,
              "#d8576b"
             ],
             [
              0.6666666666666666,
              "#ed7953"
             ],
             [
              0.7777777777777778,
              "#fb9f3a"
             ],
             [
              0.8888888888888888,
              "#fdca26"
             ],
             [
              1,
              "#f0f921"
             ]
            ],
            "type": "histogram2d"
           }
          ],
          "histogram2dcontour": [
           {
            "colorbar": {
             "outlinewidth": 0,
             "ticks": ""
            },
            "colorscale": [
             [
              0,
              "#0d0887"
             ],
             [
              0.1111111111111111,
              "#46039f"
             ],
             [
              0.2222222222222222,
              "#7201a8"
             ],
             [
              0.3333333333333333,
              "#9c179e"
             ],
             [
              0.4444444444444444,
              "#bd3786"
             ],
             [
              0.5555555555555556,
              "#d8576b"
             ],
             [
              0.6666666666666666,
              "#ed7953"
             ],
             [
              0.7777777777777778,
              "#fb9f3a"
             ],
             [
              0.8888888888888888,
              "#fdca26"
             ],
             [
              1,
              "#f0f921"
             ]
            ],
            "type": "histogram2dcontour"
           }
          ],
          "mesh3d": [
           {
            "colorbar": {
             "outlinewidth": 0,
             "ticks": ""
            },
            "type": "mesh3d"
           }
          ],
          "parcoords": [
           {
            "line": {
             "colorbar": {
              "outlinewidth": 0,
              "ticks": ""
             }
            },
            "type": "parcoords"
           }
          ],
          "pie": [
           {
            "automargin": true,
            "type": "pie"
           }
          ],
          "scatter": [
           {
            "marker": {
             "colorbar": {
              "outlinewidth": 0,
              "ticks": ""
             }
            },
            "type": "scatter"
           }
          ],
          "scatter3d": [
           {
            "line": {
             "colorbar": {
              "outlinewidth": 0,
              "ticks": ""
             }
            },
            "marker": {
             "colorbar": {
              "outlinewidth": 0,
              "ticks": ""
             }
            },
            "type": "scatter3d"
           }
          ],
          "scattercarpet": [
           {
            "marker": {
             "colorbar": {
              "outlinewidth": 0,
              "ticks": ""
             }
            },
            "type": "scattercarpet"
           }
          ],
          "scattergeo": [
           {
            "marker": {
             "colorbar": {
              "outlinewidth": 0,
              "ticks": ""
             }
            },
            "type": "scattergeo"
           }
          ],
          "scattergl": [
           {
            "marker": {
             "colorbar": {
              "outlinewidth": 0,
              "ticks": ""
             }
            },
            "type": "scattergl"
           }
          ],
          "scattermapbox": [
           {
            "marker": {
             "colorbar": {
              "outlinewidth": 0,
              "ticks": ""
             }
            },
            "type": "scattermapbox"
           }
          ],
          "scatterpolar": [
           {
            "marker": {
             "colorbar": {
              "outlinewidth": 0,
              "ticks": ""
             }
            },
            "type": "scatterpolar"
           }
          ],
          "scatterpolargl": [
           {
            "marker": {
             "colorbar": {
              "outlinewidth": 0,
              "ticks": ""
             }
            },
            "type": "scatterpolargl"
           }
          ],
          "scatterternary": [
           {
            "marker": {
             "colorbar": {
              "outlinewidth": 0,
              "ticks": ""
             }
            },
            "type": "scatterternary"
           }
          ],
          "surface": [
           {
            "colorbar": {
             "outlinewidth": 0,
             "ticks": ""
            },
            "colorscale": [
             [
              0,
              "#0d0887"
             ],
             [
              0.1111111111111111,
              "#46039f"
             ],
             [
              0.2222222222222222,
              "#7201a8"
             ],
             [
              0.3333333333333333,
              "#9c179e"
             ],
             [
              0.4444444444444444,
              "#bd3786"
             ],
             [
              0.5555555555555556,
              "#d8576b"
             ],
             [
              0.6666666666666666,
              "#ed7953"
             ],
             [
              0.7777777777777778,
              "#fb9f3a"
             ],
             [
              0.8888888888888888,
              "#fdca26"
             ],
             [
              1,
              "#f0f921"
             ]
            ],
            "type": "surface"
           }
          ],
          "table": [
           {
            "cells": {
             "fill": {
              "color": "#EBF0F8"
             },
             "line": {
              "color": "white"
             }
            },
            "header": {
             "fill": {
              "color": "#C8D4E3"
             },
             "line": {
              "color": "white"
             }
            },
            "type": "table"
           }
          ]
         },
         "layout": {
          "annotationdefaults": {
           "arrowcolor": "#2a3f5f",
           "arrowhead": 0,
           "arrowwidth": 1
          },
          "autotypenumbers": "strict",
          "coloraxis": {
           "colorbar": {
            "outlinewidth": 0,
            "ticks": ""
           }
          },
          "colorscale": {
           "diverging": [
            [
             0,
             "#8e0152"
            ],
            [
             0.1,
             "#c51b7d"
            ],
            [
             0.2,
             "#de77ae"
            ],
            [
             0.3,
             "#f1b6da"
            ],
            [
             0.4,
             "#fde0ef"
            ],
            [
             0.5,
             "#f7f7f7"
            ],
            [
             0.6,
             "#e6f5d0"
            ],
            [
             0.7,
             "#b8e186"
            ],
            [
             0.8,
             "#7fbc41"
            ],
            [
             0.9,
             "#4d9221"
            ],
            [
             1,
             "#276419"
            ]
           ],
           "sequential": [
            [
             0,
             "#0d0887"
            ],
            [
             0.1111111111111111,
             "#46039f"
            ],
            [
             0.2222222222222222,
             "#7201a8"
            ],
            [
             0.3333333333333333,
             "#9c179e"
            ],
            [
             0.4444444444444444,
             "#bd3786"
            ],
            [
             0.5555555555555556,
             "#d8576b"
            ],
            [
             0.6666666666666666,
             "#ed7953"
            ],
            [
             0.7777777777777778,
             "#fb9f3a"
            ],
            [
             0.8888888888888888,
             "#fdca26"
            ],
            [
             1,
             "#f0f921"
            ]
           ],
           "sequentialminus": [
            [
             0,
             "#0d0887"
            ],
            [
             0.1111111111111111,
             "#46039f"
            ],
            [
             0.2222222222222222,
             "#7201a8"
            ],
            [
             0.3333333333333333,
             "#9c179e"
            ],
            [
             0.4444444444444444,
             "#bd3786"
            ],
            [
             0.5555555555555556,
             "#d8576b"
            ],
            [
             0.6666666666666666,
             "#ed7953"
            ],
            [
             0.7777777777777778,
             "#fb9f3a"
            ],
            [
             0.8888888888888888,
             "#fdca26"
            ],
            [
             1,
             "#f0f921"
            ]
           ]
          },
          "colorway": [
           "#636efa",
           "#EF553B",
           "#00cc96",
           "#ab63fa",
           "#FFA15A",
           "#19d3f3",
           "#FF6692",
           "#B6E880",
           "#FF97FF",
           "#FECB52"
          ],
          "font": {
           "color": "#2a3f5f"
          },
          "geo": {
           "bgcolor": "white",
           "lakecolor": "white",
           "landcolor": "#E5ECF6",
           "showlakes": true,
           "showland": true,
           "subunitcolor": "white"
          },
          "hoverlabel": {
           "align": "left"
          },
          "hovermode": "closest",
          "mapbox": {
           "style": "light"
          },
          "paper_bgcolor": "white",
          "plot_bgcolor": "#E5ECF6",
          "polar": {
           "angularaxis": {
            "gridcolor": "white",
            "linecolor": "white",
            "ticks": ""
           },
           "bgcolor": "#E5ECF6",
           "radialaxis": {
            "gridcolor": "white",
            "linecolor": "white",
            "ticks": ""
           }
          },
          "scene": {
           "xaxis": {
            "backgroundcolor": "#E5ECF6",
            "gridcolor": "white",
            "gridwidth": 2,
            "linecolor": "white",
            "showbackground": true,
            "ticks": "",
            "zerolinecolor": "white"
           },
           "yaxis": {
            "backgroundcolor": "#E5ECF6",
            "gridcolor": "white",
            "gridwidth": 2,
            "linecolor": "white",
            "showbackground": true,
            "ticks": "",
            "zerolinecolor": "white"
           },
           "zaxis": {
            "backgroundcolor": "#E5ECF6",
            "gridcolor": "white",
            "gridwidth": 2,
            "linecolor": "white",
            "showbackground": true,
            "ticks": "",
            "zerolinecolor": "white"
           }
          },
          "shapedefaults": {
           "line": {
            "color": "#2a3f5f"
           }
          },
          "ternary": {
           "aaxis": {
            "gridcolor": "white",
            "linecolor": "white",
            "ticks": ""
           },
           "baxis": {
            "gridcolor": "white",
            "linecolor": "white",
            "ticks": ""
           },
           "bgcolor": "#E5ECF6",
           "caxis": {
            "gridcolor": "white",
            "linecolor": "white",
            "ticks": ""
           }
          },
          "title": {
           "x": 0.05
          },
          "xaxis": {
           "automargin": true,
           "gridcolor": "white",
           "linecolor": "white",
           "ticks": "",
           "title": {
            "standoff": 15
           },
           "zerolinecolor": "white",
           "zerolinewidth": 2
          },
          "yaxis": {
           "automargin": true,
           "gridcolor": "white",
           "linecolor": "white",
           "ticks": "",
           "title": {
            "standoff": 15
           },
           "zerolinecolor": "white",
           "zerolinewidth": 2
          }
         }
        },
        "xaxis": {
         "anchor": "y",
         "domain": [
          0,
          0.49
         ],
         "title": {
          "text": "Year"
         }
        },
        "xaxis2": {
         "anchor": "y2",
         "domain": [
          0.51,
          1
         ],
         "matches": "x",
         "title": {
          "text": "Year"
         }
        },
        "xaxis3": {
         "anchor": "y3",
         "domain": [
          0,
          0.49
         ],
         "matches": "x",
         "showticklabels": false
        },
        "xaxis4": {
         "anchor": "y4",
         "domain": [
          0.51,
          1
         ],
         "matches": "x",
         "showticklabels": false
        },
        "yaxis": {
         "anchor": "x",
         "domain": [
          0,
          0.46499999999999997
         ],
         "title": {
          "text": "PRICE_VAR"
         }
        },
        "yaxis2": {
         "anchor": "x2",
         "domain": [
          0,
          0.46499999999999997
         ],
         "matches": "y",
         "showticklabels": false
        },
        "yaxis3": {
         "anchor": "x3",
         "domain": [
          0.5349999999999999,
          0.9999999999999999
         ],
         "matches": "y",
         "title": {
          "text": "PRICE_VAR"
         }
        },
        "yaxis4": {
         "anchor": "x4",
         "domain": [
          0.5349999999999999,
          0.9999999999999999
         ],
         "matches": "y",
         "showticklabels": false
        }
       }
      },
      "text/html": [
       "<div>                            <div id=\"9b30189b-0ad7-4e50-ae89-465f9cdb69a7\" class=\"plotly-graph-div\" style=\"height:525px; width:100%;\"></div>            <script type=\"text/javascript\">                require([\"plotly\"], function(Plotly) {                    window.PLOTLYENV=window.PLOTLYENV || {};                                    if (document.getElementById(\"9b30189b-0ad7-4e50-ae89-465f9cdb69a7\")) {                    Plotly.newPlot(                        \"9b30189b-0ad7-4e50-ae89-465f9cdb69a7\",                        [{\"hovertemplate\":\"Company=WALMART<br>Year=%{x}<br>PRICE_VAR=%{y}<extra></extra>\",\"legendgroup\":\"WALMART\",\"line\":{\"color\":\"#636efa\",\"dash\":\"solid\"},\"mode\":\"lines\",\"name\":\"WALMART\",\"orientation\":\"v\",\"showlegend\":true,\"type\":\"scatter\",\"x\":[2015,2016,2017,2018,2019],\"xaxis\":\"x3\",\"y\":[-26.65370178517993,15.72912116448004,47.54264341996496,-3.2752502280311164,29.898016946139087],\"yaxis\":\"y3\"},{\"hovertemplate\":\"Company=APPLE<br>Year=%{x}<br>PRICE_VAR=%{y}<extra></extra>\",\"legendgroup\":\"APPLE\",\"line\":{\"color\":\"#EF553B\",\"dash\":\"solid\"},\"mode\":\"lines\",\"name\":\"APPLE\",\"orientation\":\"v\",\"showlegend\":true,\"type\":\"scatter\",\"x\":[2015,2016,2017,2018,2019],\"xaxis\":\"x4\",\"y\":[-2.0822684663317723,12.384342354071732,48.0425080310413,-7.054338116735654,88.74246462864862],\"yaxis\":\"y4\"},{\"hovertemplate\":\"Company=AMAZON<br>Year=%{x}<br>PRICE_VAR=%{y}<extra></extra>\",\"legendgroup\":\"AMAZON\",\"line\":{\"color\":\"#00cc96\",\"dash\":\"solid\"},\"mode\":\"lines\",\"name\":\"AMAZON\",\"orientation\":\"v\",\"showlegend\":true,\"type\":\"scatter\",\"x\":[2015,2016,2017,2018,2019],\"xaxis\":\"x\",\"y\":[119.07495096484196,17.720844379560702,55.17003426187078,26.321053512340907,20.057432442882227],\"yaxis\":\"y\"},{\"hovertemplate\":\"Company=GOOGLE<br>Year=%{x}<br>PRICE_VAR=%{y}<extra></extra>\",\"legendgroup\":\"GOOGLE\",\"line\":{\"color\":\"#ab63fa\",\"dash\":\"solid\"},\"mode\":\"lines\",\"name\":\"GOOGLE\",\"orientation\":\"v\",\"showlegend\":true,\"type\":\"scatter\",\"x\":[2015,2016,2017,2018,2019],\"xaxis\":\"x2\",\"y\":[46.91908747050967,4.34662510000872,30.369675088507428,-2.632290141560211,26.99491281130573],\"yaxis\":\"y2\"}],                        {\"annotations\":[{\"font\":{},\"showarrow\":false,\"text\":\"Company=AMAZON\",\"x\":0.245,\"xanchor\":\"center\",\"xref\":\"paper\",\"y\":0.46499999999999997,\"yanchor\":\"bottom\",\"yref\":\"paper\"},{\"font\":{},\"showarrow\":false,\"text\":\"Company=GOOGLE\",\"x\":0.755,\"xanchor\":\"center\",\"xref\":\"paper\",\"y\":0.46499999999999997,\"yanchor\":\"bottom\",\"yref\":\"paper\"},{\"font\":{},\"showarrow\":false,\"text\":\"Company=WALMART\",\"x\":0.245,\"xanchor\":\"center\",\"xref\":\"paper\",\"y\":0.9999999999999999,\"yanchor\":\"bottom\",\"yref\":\"paper\"},{\"font\":{},\"showarrow\":false,\"text\":\"Company=APPLE\",\"x\":0.755,\"xanchor\":\"center\",\"xref\":\"paper\",\"y\":0.9999999999999999,\"yanchor\":\"bottom\",\"yref\":\"paper\"}],\"legend\":{\"title\":{\"text\":\"Company\"},\"tracegroupgap\":0},\"margin\":{\"t\":60},\"template\":{\"data\":{\"bar\":[{\"error_x\":{\"color\":\"#2a3f5f\"},\"error_y\":{\"color\":\"#2a3f5f\"},\"marker\":{\"line\":{\"color\":\"#E5ECF6\",\"width\":0.5},\"pattern\":{\"fillmode\":\"overlay\",\"size\":10,\"solidity\":0.2}},\"type\":\"bar\"}],\"barpolar\":[{\"marker\":{\"line\":{\"color\":\"#E5ECF6\",\"width\":0.5},\"pattern\":{\"fillmode\":\"overlay\",\"size\":10,\"solidity\":0.2}},\"type\":\"barpolar\"}],\"carpet\":[{\"aaxis\":{\"endlinecolor\":\"#2a3f5f\",\"gridcolor\":\"white\",\"linecolor\":\"white\",\"minorgridcolor\":\"white\",\"startlinecolor\":\"#2a3f5f\"},\"baxis\":{\"endlinecolor\":\"#2a3f5f\",\"gridcolor\":\"white\",\"linecolor\":\"white\",\"minorgridcolor\":\"white\",\"startlinecolor\":\"#2a3f5f\"},\"type\":\"carpet\"}],\"choropleth\":[{\"colorbar\":{\"outlinewidth\":0,\"ticks\":\"\"},\"type\":\"choropleth\"}],\"contour\":[{\"colorbar\":{\"outlinewidth\":0,\"ticks\":\"\"},\"colorscale\":[[0.0,\"#0d0887\"],[0.1111111111111111,\"#46039f\"],[0.2222222222222222,\"#7201a8\"],[0.3333333333333333,\"#9c179e\"],[0.4444444444444444,\"#bd3786\"],[0.5555555555555556,\"#d8576b\"],[0.6666666666666666,\"#ed7953\"],[0.7777777777777778,\"#fb9f3a\"],[0.8888888888888888,\"#fdca26\"],[1.0,\"#f0f921\"]],\"type\":\"contour\"}],\"contourcarpet\":[{\"colorbar\":{\"outlinewidth\":0,\"ticks\":\"\"},\"type\":\"contourcarpet\"}],\"heatmap\":[{\"colorbar\":{\"outlinewidth\":0,\"ticks\":\"\"},\"colorscale\":[[0.0,\"#0d0887\"],[0.1111111111111111,\"#46039f\"],[0.2222222222222222,\"#7201a8\"],[0.3333333333333333,\"#9c179e\"],[0.4444444444444444,\"#bd3786\"],[0.5555555555555556,\"#d8576b\"],[0.6666666666666666,\"#ed7953\"],[0.7777777777777778,\"#fb9f3a\"],[0.8888888888888888,\"#fdca26\"],[1.0,\"#f0f921\"]],\"type\":\"heatmap\"}],\"heatmapgl\":[{\"colorbar\":{\"outlinewidth\":0,\"ticks\":\"\"},\"colorscale\":[[0.0,\"#0d0887\"],[0.1111111111111111,\"#46039f\"],[0.2222222222222222,\"#7201a8\"],[0.3333333333333333,\"#9c179e\"],[0.4444444444444444,\"#bd3786\"],[0.5555555555555556,\"#d8576b\"],[0.6666666666666666,\"#ed7953\"],[0.7777777777777778,\"#fb9f3a\"],[0.8888888888888888,\"#fdca26\"],[1.0,\"#f0f921\"]],\"type\":\"heatmapgl\"}],\"histogram\":[{\"marker\":{\"pattern\":{\"fillmode\":\"overlay\",\"size\":10,\"solidity\":0.2}},\"type\":\"histogram\"}],\"histogram2d\":[{\"colorbar\":{\"outlinewidth\":0,\"ticks\":\"\"},\"colorscale\":[[0.0,\"#0d0887\"],[0.1111111111111111,\"#46039f\"],[0.2222222222222222,\"#7201a8\"],[0.3333333333333333,\"#9c179e\"],[0.4444444444444444,\"#bd3786\"],[0.5555555555555556,\"#d8576b\"],[0.6666666666666666,\"#ed7953\"],[0.7777777777777778,\"#fb9f3a\"],[0.8888888888888888,\"#fdca26\"],[1.0,\"#f0f921\"]],\"type\":\"histogram2d\"}],\"histogram2dcontour\":[{\"colorbar\":{\"outlinewidth\":0,\"ticks\":\"\"},\"colorscale\":[[0.0,\"#0d0887\"],[0.1111111111111111,\"#46039f\"],[0.2222222222222222,\"#7201a8\"],[0.3333333333333333,\"#9c179e\"],[0.4444444444444444,\"#bd3786\"],[0.5555555555555556,\"#d8576b\"],[0.6666666666666666,\"#ed7953\"],[0.7777777777777778,\"#fb9f3a\"],[0.8888888888888888,\"#fdca26\"],[1.0,\"#f0f921\"]],\"type\":\"histogram2dcontour\"}],\"mesh3d\":[{\"colorbar\":{\"outlinewidth\":0,\"ticks\":\"\"},\"type\":\"mesh3d\"}],\"parcoords\":[{\"line\":{\"colorbar\":{\"outlinewidth\":0,\"ticks\":\"\"}},\"type\":\"parcoords\"}],\"pie\":[{\"automargin\":true,\"type\":\"pie\"}],\"scatter\":[{\"marker\":{\"colorbar\":{\"outlinewidth\":0,\"ticks\":\"\"}},\"type\":\"scatter\"}],\"scatter3d\":[{\"line\":{\"colorbar\":{\"outlinewidth\":0,\"ticks\":\"\"}},\"marker\":{\"colorbar\":{\"outlinewidth\":0,\"ticks\":\"\"}},\"type\":\"scatter3d\"}],\"scattercarpet\":[{\"marker\":{\"colorbar\":{\"outlinewidth\":0,\"ticks\":\"\"}},\"type\":\"scattercarpet\"}],\"scattergeo\":[{\"marker\":{\"colorbar\":{\"outlinewidth\":0,\"ticks\":\"\"}},\"type\":\"scattergeo\"}],\"scattergl\":[{\"marker\":{\"colorbar\":{\"outlinewidth\":0,\"ticks\":\"\"}},\"type\":\"scattergl\"}],\"scattermapbox\":[{\"marker\":{\"colorbar\":{\"outlinewidth\":0,\"ticks\":\"\"}},\"type\":\"scattermapbox\"}],\"scatterpolar\":[{\"marker\":{\"colorbar\":{\"outlinewidth\":0,\"ticks\":\"\"}},\"type\":\"scatterpolar\"}],\"scatterpolargl\":[{\"marker\":{\"colorbar\":{\"outlinewidth\":0,\"ticks\":\"\"}},\"type\":\"scatterpolargl\"}],\"scatterternary\":[{\"marker\":{\"colorbar\":{\"outlinewidth\":0,\"ticks\":\"\"}},\"type\":\"scatterternary\"}],\"surface\":[{\"colorbar\":{\"outlinewidth\":0,\"ticks\":\"\"},\"colorscale\":[[0.0,\"#0d0887\"],[0.1111111111111111,\"#46039f\"],[0.2222222222222222,\"#7201a8\"],[0.3333333333333333,\"#9c179e\"],[0.4444444444444444,\"#bd3786\"],[0.5555555555555556,\"#d8576b\"],[0.6666666666666666,\"#ed7953\"],[0.7777777777777778,\"#fb9f3a\"],[0.8888888888888888,\"#fdca26\"],[1.0,\"#f0f921\"]],\"type\":\"surface\"}],\"table\":[{\"cells\":{\"fill\":{\"color\":\"#EBF0F8\"},\"line\":{\"color\":\"white\"}},\"header\":{\"fill\":{\"color\":\"#C8D4E3\"},\"line\":{\"color\":\"white\"}},\"type\":\"table\"}]},\"layout\":{\"annotationdefaults\":{\"arrowcolor\":\"#2a3f5f\",\"arrowhead\":0,\"arrowwidth\":1},\"autotypenumbers\":\"strict\",\"coloraxis\":{\"colorbar\":{\"outlinewidth\":0,\"ticks\":\"\"}},\"colorscale\":{\"diverging\":[[0,\"#8e0152\"],[0.1,\"#c51b7d\"],[0.2,\"#de77ae\"],[0.3,\"#f1b6da\"],[0.4,\"#fde0ef\"],[0.5,\"#f7f7f7\"],[0.6,\"#e6f5d0\"],[0.7,\"#b8e186\"],[0.8,\"#7fbc41\"],[0.9,\"#4d9221\"],[1,\"#276419\"]],\"sequential\":[[0.0,\"#0d0887\"],[0.1111111111111111,\"#46039f\"],[0.2222222222222222,\"#7201a8\"],[0.3333333333333333,\"#9c179e\"],[0.4444444444444444,\"#bd3786\"],[0.5555555555555556,\"#d8576b\"],[0.6666666666666666,\"#ed7953\"],[0.7777777777777778,\"#fb9f3a\"],[0.8888888888888888,\"#fdca26\"],[1.0,\"#f0f921\"]],\"sequentialminus\":[[0.0,\"#0d0887\"],[0.1111111111111111,\"#46039f\"],[0.2222222222222222,\"#7201a8\"],[0.3333333333333333,\"#9c179e\"],[0.4444444444444444,\"#bd3786\"],[0.5555555555555556,\"#d8576b\"],[0.6666666666666666,\"#ed7953\"],[0.7777777777777778,\"#fb9f3a\"],[0.8888888888888888,\"#fdca26\"],[1.0,\"#f0f921\"]]},\"colorway\":[\"#636efa\",\"#EF553B\",\"#00cc96\",\"#ab63fa\",\"#FFA15A\",\"#19d3f3\",\"#FF6692\",\"#B6E880\",\"#FF97FF\",\"#FECB52\"],\"font\":{\"color\":\"#2a3f5f\"},\"geo\":{\"bgcolor\":\"white\",\"lakecolor\":\"white\",\"landcolor\":\"#E5ECF6\",\"showlakes\":true,\"showland\":true,\"subunitcolor\":\"white\"},\"hoverlabel\":{\"align\":\"left\"},\"hovermode\":\"closest\",\"mapbox\":{\"style\":\"light\"},\"paper_bgcolor\":\"white\",\"plot_bgcolor\":\"#E5ECF6\",\"polar\":{\"angularaxis\":{\"gridcolor\":\"white\",\"linecolor\":\"white\",\"ticks\":\"\"},\"bgcolor\":\"#E5ECF6\",\"radialaxis\":{\"gridcolor\":\"white\",\"linecolor\":\"white\",\"ticks\":\"\"}},\"scene\":{\"xaxis\":{\"backgroundcolor\":\"#E5ECF6\",\"gridcolor\":\"white\",\"gridwidth\":2,\"linecolor\":\"white\",\"showbackground\":true,\"ticks\":\"\",\"zerolinecolor\":\"white\"},\"yaxis\":{\"backgroundcolor\":\"#E5ECF6\",\"gridcolor\":\"white\",\"gridwidth\":2,\"linecolor\":\"white\",\"showbackground\":true,\"ticks\":\"\",\"zerolinecolor\":\"white\"},\"zaxis\":{\"backgroundcolor\":\"#E5ECF6\",\"gridcolor\":\"white\",\"gridwidth\":2,\"linecolor\":\"white\",\"showbackground\":true,\"ticks\":\"\",\"zerolinecolor\":\"white\"}},\"shapedefaults\":{\"line\":{\"color\":\"#2a3f5f\"}},\"ternary\":{\"aaxis\":{\"gridcolor\":\"white\",\"linecolor\":\"white\",\"ticks\":\"\"},\"baxis\":{\"gridcolor\":\"white\",\"linecolor\":\"white\",\"ticks\":\"\"},\"bgcolor\":\"#E5ECF6\",\"caxis\":{\"gridcolor\":\"white\",\"linecolor\":\"white\",\"ticks\":\"\"}},\"title\":{\"x\":0.05},\"xaxis\":{\"automargin\":true,\"gridcolor\":\"white\",\"linecolor\":\"white\",\"ticks\":\"\",\"title\":{\"standoff\":15},\"zerolinecolor\":\"white\",\"zerolinewidth\":2},\"yaxis\":{\"automargin\":true,\"gridcolor\":\"white\",\"linecolor\":\"white\",\"ticks\":\"\",\"title\":{\"standoff\":15},\"zerolinecolor\":\"white\",\"zerolinewidth\":2}}},\"xaxis\":{\"anchor\":\"y\",\"domain\":[0.0,0.49],\"title\":{\"text\":\"Year\"}},\"xaxis2\":{\"anchor\":\"y2\",\"domain\":[0.51,1.0],\"matches\":\"x\",\"title\":{\"text\":\"Year\"}},\"xaxis3\":{\"anchor\":\"y3\",\"domain\":[0.0,0.49],\"matches\":\"x\",\"showticklabels\":false},\"xaxis4\":{\"anchor\":\"y4\",\"domain\":[0.51,1.0],\"matches\":\"x\",\"showticklabels\":false},\"yaxis\":{\"anchor\":\"x\",\"domain\":[0.0,0.46499999999999997],\"title\":{\"text\":\"PRICE_VAR\"}},\"yaxis2\":{\"anchor\":\"x2\",\"domain\":[0.0,0.46499999999999997],\"matches\":\"y\",\"showticklabels\":false},\"yaxis3\":{\"anchor\":\"x3\",\"domain\":[0.5349999999999999,0.9999999999999999],\"matches\":\"y\",\"title\":{\"text\":\"PRICE_VAR\"}},\"yaxis4\":{\"anchor\":\"x4\",\"domain\":[0.5349999999999999,0.9999999999999999],\"matches\":\"y\",\"showticklabels\":false}},                        {\"responsive\": true}                    ).then(function(){\n",
       "                            \n",
       "var gd = document.getElementById('9b30189b-0ad7-4e50-ae89-465f9cdb69a7');\n",
       "var x = new MutationObserver(function (mutations, observer) {{\n",
       "        var display = window.getComputedStyle(gd).display;\n",
       "        if (!display || display === 'none') {{\n",
       "            console.log([gd, 'removed!']);\n",
       "            Plotly.purge(gd);\n",
       "            observer.disconnect();\n",
       "        }}\n",
       "}});\n",
       "\n",
       "// Listen for the removal of the full notebook cells\n",
       "var notebookContainer = gd.closest('#notebook-container');\n",
       "if (notebookContainer) {{\n",
       "    x.observe(notebookContainer, {childList: true});\n",
       "}}\n",
       "\n",
       "// Listen for the clearing of the current output cell\n",
       "var outputEl = gd.closest('.output');\n",
       "if (outputEl) {{\n",
       "    x.observe(outputEl, {childList: true});\n",
       "}}\n",
       "\n",
       "                        })                };                });            </script>        </div>"
      ]
     },
     "metadata": {},
     "output_type": "display_data"
    }
   ],
   "source": [
    "fig = px.line(DAT,x='Year',y='PRICE_VAR', facet_col=\"Company\", facet_col_wrap=2,color='Company')\n",
    "fig.show()"
   ]
  },
  {
   "cell_type": "code",
   "execution_count": 101,
   "id": "cc0acce8",
   "metadata": {
    "scrolled": false
   },
   "outputs": [
    {
     "data": {
      "application/vnd.plotly.v1+json": {
       "config": {
        "plotlyServerURL": "https://plot.ly"
       },
       "data": [
        {
         "hovertemplate": "Year=%{x}<br>Gross Profit=%{y}<extra></extra>",
         "legendgroup": "",
         "line": {
          "color": "#636efa",
          "dash": "solid"
         },
         "mode": "lines",
         "name": "",
         "orientation": "v",
         "showlegend": false,
         "type": "scatter",
         "x": [
          2014,
          2015,
          2016,
          2017,
          2018
         ],
         "xaxis": "x",
         "y": [
          70537000000,
          93626000000,
          84263000000,
          88186000000,
          101839000000
         ],
         "yaxis": "y"
        }
       ],
       "layout": {
        "legend": {
         "tracegroupgap": 0
        },
        "margin": {
         "t": 60
        },
        "template": {
         "data": {
          "bar": [
           {
            "error_x": {
             "color": "#2a3f5f"
            },
            "error_y": {
             "color": "#2a3f5f"
            },
            "marker": {
             "line": {
              "color": "#E5ECF6",
              "width": 0.5
             },
             "pattern": {
              "fillmode": "overlay",
              "size": 10,
              "solidity": 0.2
             }
            },
            "type": "bar"
           }
          ],
          "barpolar": [
           {
            "marker": {
             "line": {
              "color": "#E5ECF6",
              "width": 0.5
             },
             "pattern": {
              "fillmode": "overlay",
              "size": 10,
              "solidity": 0.2
             }
            },
            "type": "barpolar"
           }
          ],
          "carpet": [
           {
            "aaxis": {
             "endlinecolor": "#2a3f5f",
             "gridcolor": "white",
             "linecolor": "white",
             "minorgridcolor": "white",
             "startlinecolor": "#2a3f5f"
            },
            "baxis": {
             "endlinecolor": "#2a3f5f",
             "gridcolor": "white",
             "linecolor": "white",
             "minorgridcolor": "white",
             "startlinecolor": "#2a3f5f"
            },
            "type": "carpet"
           }
          ],
          "choropleth": [
           {
            "colorbar": {
             "outlinewidth": 0,
             "ticks": ""
            },
            "type": "choropleth"
           }
          ],
          "contour": [
           {
            "colorbar": {
             "outlinewidth": 0,
             "ticks": ""
            },
            "colorscale": [
             [
              0,
              "#0d0887"
             ],
             [
              0.1111111111111111,
              "#46039f"
             ],
             [
              0.2222222222222222,
              "#7201a8"
             ],
             [
              0.3333333333333333,
              "#9c179e"
             ],
             [
              0.4444444444444444,
              "#bd3786"
             ],
             [
              0.5555555555555556,
              "#d8576b"
             ],
             [
              0.6666666666666666,
              "#ed7953"
             ],
             [
              0.7777777777777778,
              "#fb9f3a"
             ],
             [
              0.8888888888888888,
              "#fdca26"
             ],
             [
              1,
              "#f0f921"
             ]
            ],
            "type": "contour"
           }
          ],
          "contourcarpet": [
           {
            "colorbar": {
             "outlinewidth": 0,
             "ticks": ""
            },
            "type": "contourcarpet"
           }
          ],
          "heatmap": [
           {
            "colorbar": {
             "outlinewidth": 0,
             "ticks": ""
            },
            "colorscale": [
             [
              0,
              "#0d0887"
             ],
             [
              0.1111111111111111,
              "#46039f"
             ],
             [
              0.2222222222222222,
              "#7201a8"
             ],
             [
              0.3333333333333333,
              "#9c179e"
             ],
             [
              0.4444444444444444,
              "#bd3786"
             ],
             [
              0.5555555555555556,
              "#d8576b"
             ],
             [
              0.6666666666666666,
              "#ed7953"
             ],
             [
              0.7777777777777778,
              "#fb9f3a"
             ],
             [
              0.8888888888888888,
              "#fdca26"
             ],
             [
              1,
              "#f0f921"
             ]
            ],
            "type": "heatmap"
           }
          ],
          "heatmapgl": [
           {
            "colorbar": {
             "outlinewidth": 0,
             "ticks": ""
            },
            "colorscale": [
             [
              0,
              "#0d0887"
             ],
             [
              0.1111111111111111,
              "#46039f"
             ],
             [
              0.2222222222222222,
              "#7201a8"
             ],
             [
              0.3333333333333333,
              "#9c179e"
             ],
             [
              0.4444444444444444,
              "#bd3786"
             ],
             [
              0.5555555555555556,
              "#d8576b"
             ],
             [
              0.6666666666666666,
              "#ed7953"
             ],
             [
              0.7777777777777778,
              "#fb9f3a"
             ],
             [
              0.8888888888888888,
              "#fdca26"
             ],
             [
              1,
              "#f0f921"
             ]
            ],
            "type": "heatmapgl"
           }
          ],
          "histogram": [
           {
            "marker": {
             "pattern": {
              "fillmode": "overlay",
              "size": 10,
              "solidity": 0.2
             }
            },
            "type": "histogram"
           }
          ],
          "histogram2d": [
           {
            "colorbar": {
             "outlinewidth": 0,
             "ticks": ""
            },
            "colorscale": [
             [
              0,
              "#0d0887"
             ],
             [
              0.1111111111111111,
              "#46039f"
             ],
             [
              0.2222222222222222,
              "#7201a8"
             ],
             [
              0.3333333333333333,
              "#9c179e"
             ],
             [
              0.4444444444444444,
              "#bd3786"
             ],
             [
              0.5555555555555556,
              "#d8576b"
             ],
             [
              0.6666666666666666,
              "#ed7953"
             ],
             [
              0.7777777777777778,
              "#fb9f3a"
             ],
             [
              0.8888888888888888,
              "#fdca26"
             ],
             [
              1,
              "#f0f921"
             ]
            ],
            "type": "histogram2d"
           }
          ],
          "histogram2dcontour": [
           {
            "colorbar": {
             "outlinewidth": 0,
             "ticks": ""
            },
            "colorscale": [
             [
              0,
              "#0d0887"
             ],
             [
              0.1111111111111111,
              "#46039f"
             ],
             [
              0.2222222222222222,
              "#7201a8"
             ],
             [
              0.3333333333333333,
              "#9c179e"
             ],
             [
              0.4444444444444444,
              "#bd3786"
             ],
             [
              0.5555555555555556,
              "#d8576b"
             ],
             [
              0.6666666666666666,
              "#ed7953"
             ],
             [
              0.7777777777777778,
              "#fb9f3a"
             ],
             [
              0.8888888888888888,
              "#fdca26"
             ],
             [
              1,
              "#f0f921"
             ]
            ],
            "type": "histogram2dcontour"
           }
          ],
          "mesh3d": [
           {
            "colorbar": {
             "outlinewidth": 0,
             "ticks": ""
            },
            "type": "mesh3d"
           }
          ],
          "parcoords": [
           {
            "line": {
             "colorbar": {
              "outlinewidth": 0,
              "ticks": ""
             }
            },
            "type": "parcoords"
           }
          ],
          "pie": [
           {
            "automargin": true,
            "type": "pie"
           }
          ],
          "scatter": [
           {
            "marker": {
             "colorbar": {
              "outlinewidth": 0,
              "ticks": ""
             }
            },
            "type": "scatter"
           }
          ],
          "scatter3d": [
           {
            "line": {
             "colorbar": {
              "outlinewidth": 0,
              "ticks": ""
             }
            },
            "marker": {
             "colorbar": {
              "outlinewidth": 0,
              "ticks": ""
             }
            },
            "type": "scatter3d"
           }
          ],
          "scattercarpet": [
           {
            "marker": {
             "colorbar": {
              "outlinewidth": 0,
              "ticks": ""
             }
            },
            "type": "scattercarpet"
           }
          ],
          "scattergeo": [
           {
            "marker": {
             "colorbar": {
              "outlinewidth": 0,
              "ticks": ""
             }
            },
            "type": "scattergeo"
           }
          ],
          "scattergl": [
           {
            "marker": {
             "colorbar": {
              "outlinewidth": 0,
              "ticks": ""
             }
            },
            "type": "scattergl"
           }
          ],
          "scattermapbox": [
           {
            "marker": {
             "colorbar": {
              "outlinewidth": 0,
              "ticks": ""
             }
            },
            "type": "scattermapbox"
           }
          ],
          "scatterpolar": [
           {
            "marker": {
             "colorbar": {
              "outlinewidth": 0,
              "ticks": ""
             }
            },
            "type": "scatterpolar"
           }
          ],
          "scatterpolargl": [
           {
            "marker": {
             "colorbar": {
              "outlinewidth": 0,
              "ticks": ""
             }
            },
            "type": "scatterpolargl"
           }
          ],
          "scatterternary": [
           {
            "marker": {
             "colorbar": {
              "outlinewidth": 0,
              "ticks": ""
             }
            },
            "type": "scatterternary"
           }
          ],
          "surface": [
           {
            "colorbar": {
             "outlinewidth": 0,
             "ticks": ""
            },
            "colorscale": [
             [
              0,
              "#0d0887"
             ],
             [
              0.1111111111111111,
              "#46039f"
             ],
             [
              0.2222222222222222,
              "#7201a8"
             ],
             [
              0.3333333333333333,
              "#9c179e"
             ],
             [
              0.4444444444444444,
              "#bd3786"
             ],
             [
              0.5555555555555556,
              "#d8576b"
             ],
             [
              0.6666666666666666,
              "#ed7953"
             ],
             [
              0.7777777777777778,
              "#fb9f3a"
             ],
             [
              0.8888888888888888,
              "#fdca26"
             ],
             [
              1,
              "#f0f921"
             ]
            ],
            "type": "surface"
           }
          ],
          "table": [
           {
            "cells": {
             "fill": {
              "color": "#EBF0F8"
             },
             "line": {
              "color": "white"
             }
            },
            "header": {
             "fill": {
              "color": "#C8D4E3"
             },
             "line": {
              "color": "white"
             }
            },
            "type": "table"
           }
          ]
         },
         "layout": {
          "annotationdefaults": {
           "arrowcolor": "#2a3f5f",
           "arrowhead": 0,
           "arrowwidth": 1
          },
          "autotypenumbers": "strict",
          "coloraxis": {
           "colorbar": {
            "outlinewidth": 0,
            "ticks": ""
           }
          },
          "colorscale": {
           "diverging": [
            [
             0,
             "#8e0152"
            ],
            [
             0.1,
             "#c51b7d"
            ],
            [
             0.2,
             "#de77ae"
            ],
            [
             0.3,
             "#f1b6da"
            ],
            [
             0.4,
             "#fde0ef"
            ],
            [
             0.5,
             "#f7f7f7"
            ],
            [
             0.6,
             "#e6f5d0"
            ],
            [
             0.7,
             "#b8e186"
            ],
            [
             0.8,
             "#7fbc41"
            ],
            [
             0.9,
             "#4d9221"
            ],
            [
             1,
             "#276419"
            ]
           ],
           "sequential": [
            [
             0,
             "#0d0887"
            ],
            [
             0.1111111111111111,
             "#46039f"
            ],
            [
             0.2222222222222222,
             "#7201a8"
            ],
            [
             0.3333333333333333,
             "#9c179e"
            ],
            [
             0.4444444444444444,
             "#bd3786"
            ],
            [
             0.5555555555555556,
             "#d8576b"
            ],
            [
             0.6666666666666666,
             "#ed7953"
            ],
            [
             0.7777777777777778,
             "#fb9f3a"
            ],
            [
             0.8888888888888888,
             "#fdca26"
            ],
            [
             1,
             "#f0f921"
            ]
           ],
           "sequentialminus": [
            [
             0,
             "#0d0887"
            ],
            [
             0.1111111111111111,
             "#46039f"
            ],
            [
             0.2222222222222222,
             "#7201a8"
            ],
            [
             0.3333333333333333,
             "#9c179e"
            ],
            [
             0.4444444444444444,
             "#bd3786"
            ],
            [
             0.5555555555555556,
             "#d8576b"
            ],
            [
             0.6666666666666666,
             "#ed7953"
            ],
            [
             0.7777777777777778,
             "#fb9f3a"
            ],
            [
             0.8888888888888888,
             "#fdca26"
            ],
            [
             1,
             "#f0f921"
            ]
           ]
          },
          "colorway": [
           "#636efa",
           "#EF553B",
           "#00cc96",
           "#ab63fa",
           "#FFA15A",
           "#19d3f3",
           "#FF6692",
           "#B6E880",
           "#FF97FF",
           "#FECB52"
          ],
          "font": {
           "color": "#2a3f5f"
          },
          "geo": {
           "bgcolor": "white",
           "lakecolor": "white",
           "landcolor": "#E5ECF6",
           "showlakes": true,
           "showland": true,
           "subunitcolor": "white"
          },
          "hoverlabel": {
           "align": "left"
          },
          "hovermode": "closest",
          "mapbox": {
           "style": "light"
          },
          "paper_bgcolor": "white",
          "plot_bgcolor": "#E5ECF6",
          "polar": {
           "angularaxis": {
            "gridcolor": "white",
            "linecolor": "white",
            "ticks": ""
           },
           "bgcolor": "#E5ECF6",
           "radialaxis": {
            "gridcolor": "white",
            "linecolor": "white",
            "ticks": ""
           }
          },
          "scene": {
           "xaxis": {
            "backgroundcolor": "#E5ECF6",
            "gridcolor": "white",
            "gridwidth": 2,
            "linecolor": "white",
            "showbackground": true,
            "ticks": "",
            "zerolinecolor": "white"
           },
           "yaxis": {
            "backgroundcolor": "#E5ECF6",
            "gridcolor": "white",
            "gridwidth": 2,
            "linecolor": "white",
            "showbackground": true,
            "ticks": "",
            "zerolinecolor": "white"
           },
           "zaxis": {
            "backgroundcolor": "#E5ECF6",
            "gridcolor": "white",
            "gridwidth": 2,
            "linecolor": "white",
            "showbackground": true,
            "ticks": "",
            "zerolinecolor": "white"
           }
          },
          "shapedefaults": {
           "line": {
            "color": "#2a3f5f"
           }
          },
          "ternary": {
           "aaxis": {
            "gridcolor": "white",
            "linecolor": "white",
            "ticks": ""
           },
           "baxis": {
            "gridcolor": "white",
            "linecolor": "white",
            "ticks": ""
           },
           "bgcolor": "#E5ECF6",
           "caxis": {
            "gridcolor": "white",
            "linecolor": "white",
            "ticks": ""
           }
          },
          "title": {
           "x": 0.05
          },
          "xaxis": {
           "automargin": true,
           "gridcolor": "white",
           "linecolor": "white",
           "ticks": "",
           "title": {
            "standoff": 15
           },
           "zerolinecolor": "white",
           "zerolinewidth": 2
          },
          "yaxis": {
           "automargin": true,
           "gridcolor": "white",
           "linecolor": "white",
           "ticks": "",
           "title": {
            "standoff": 15
           },
           "zerolinecolor": "white",
           "zerolinewidth": 2
          }
         }
        },
        "xaxis": {
         "anchor": "y",
         "domain": [
          0,
          1
         ],
         "range": [
          "2014",
          "2018"
         ],
         "title": {
          "text": "Year"
         }
        },
        "yaxis": {
         "anchor": "x",
         "domain": [
          0,
          1
         ],
         "title": {
          "text": "Gross Profit"
         }
        }
       }
      },
      "text/html": [
       "<div>                            <div id=\"cc959919-62bd-4c31-a892-b2d6ac31f437\" class=\"plotly-graph-div\" style=\"height:525px; width:100%;\"></div>            <script type=\"text/javascript\">                require([\"plotly\"], function(Plotly) {                    window.PLOTLYENV=window.PLOTLYENV || {};                                    if (document.getElementById(\"cc959919-62bd-4c31-a892-b2d6ac31f437\")) {                    Plotly.newPlot(                        \"cc959919-62bd-4c31-a892-b2d6ac31f437\",                        [{\"hovertemplate\":\"Year=%{x}<br>Gross Profit=%{y}<extra></extra>\",\"legendgroup\":\"\",\"line\":{\"color\":\"#636efa\",\"dash\":\"solid\"},\"mode\":\"lines\",\"name\":\"\",\"orientation\":\"v\",\"showlegend\":false,\"type\":\"scatter\",\"x\":[2014,2015,2016,2017,2018],\"xaxis\":\"x\",\"y\":[70537000000.0,93626000000.0,84263000000.0,88186000000.0,101839000000.0],\"yaxis\":\"y\"}],                        {\"legend\":{\"tracegroupgap\":0},\"margin\":{\"t\":60},\"template\":{\"data\":{\"bar\":[{\"error_x\":{\"color\":\"#2a3f5f\"},\"error_y\":{\"color\":\"#2a3f5f\"},\"marker\":{\"line\":{\"color\":\"#E5ECF6\",\"width\":0.5},\"pattern\":{\"fillmode\":\"overlay\",\"size\":10,\"solidity\":0.2}},\"type\":\"bar\"}],\"barpolar\":[{\"marker\":{\"line\":{\"color\":\"#E5ECF6\",\"width\":0.5},\"pattern\":{\"fillmode\":\"overlay\",\"size\":10,\"solidity\":0.2}},\"type\":\"barpolar\"}],\"carpet\":[{\"aaxis\":{\"endlinecolor\":\"#2a3f5f\",\"gridcolor\":\"white\",\"linecolor\":\"white\",\"minorgridcolor\":\"white\",\"startlinecolor\":\"#2a3f5f\"},\"baxis\":{\"endlinecolor\":\"#2a3f5f\",\"gridcolor\":\"white\",\"linecolor\":\"white\",\"minorgridcolor\":\"white\",\"startlinecolor\":\"#2a3f5f\"},\"type\":\"carpet\"}],\"choropleth\":[{\"colorbar\":{\"outlinewidth\":0,\"ticks\":\"\"},\"type\":\"choropleth\"}],\"contour\":[{\"colorbar\":{\"outlinewidth\":0,\"ticks\":\"\"},\"colorscale\":[[0.0,\"#0d0887\"],[0.1111111111111111,\"#46039f\"],[0.2222222222222222,\"#7201a8\"],[0.3333333333333333,\"#9c179e\"],[0.4444444444444444,\"#bd3786\"],[0.5555555555555556,\"#d8576b\"],[0.6666666666666666,\"#ed7953\"],[0.7777777777777778,\"#fb9f3a\"],[0.8888888888888888,\"#fdca26\"],[1.0,\"#f0f921\"]],\"type\":\"contour\"}],\"contourcarpet\":[{\"colorbar\":{\"outlinewidth\":0,\"ticks\":\"\"},\"type\":\"contourcarpet\"}],\"heatmap\":[{\"colorbar\":{\"outlinewidth\":0,\"ticks\":\"\"},\"colorscale\":[[0.0,\"#0d0887\"],[0.1111111111111111,\"#46039f\"],[0.2222222222222222,\"#7201a8\"],[0.3333333333333333,\"#9c179e\"],[0.4444444444444444,\"#bd3786\"],[0.5555555555555556,\"#d8576b\"],[0.6666666666666666,\"#ed7953\"],[0.7777777777777778,\"#fb9f3a\"],[0.8888888888888888,\"#fdca26\"],[1.0,\"#f0f921\"]],\"type\":\"heatmap\"}],\"heatmapgl\":[{\"colorbar\":{\"outlinewidth\":0,\"ticks\":\"\"},\"colorscale\":[[0.0,\"#0d0887\"],[0.1111111111111111,\"#46039f\"],[0.2222222222222222,\"#7201a8\"],[0.3333333333333333,\"#9c179e\"],[0.4444444444444444,\"#bd3786\"],[0.5555555555555556,\"#d8576b\"],[0.6666666666666666,\"#ed7953\"],[0.7777777777777778,\"#fb9f3a\"],[0.8888888888888888,\"#fdca26\"],[1.0,\"#f0f921\"]],\"type\":\"heatmapgl\"}],\"histogram\":[{\"marker\":{\"pattern\":{\"fillmode\":\"overlay\",\"size\":10,\"solidity\":0.2}},\"type\":\"histogram\"}],\"histogram2d\":[{\"colorbar\":{\"outlinewidth\":0,\"ticks\":\"\"},\"colorscale\":[[0.0,\"#0d0887\"],[0.1111111111111111,\"#46039f\"],[0.2222222222222222,\"#7201a8\"],[0.3333333333333333,\"#9c179e\"],[0.4444444444444444,\"#bd3786\"],[0.5555555555555556,\"#d8576b\"],[0.6666666666666666,\"#ed7953\"],[0.7777777777777778,\"#fb9f3a\"],[0.8888888888888888,\"#fdca26\"],[1.0,\"#f0f921\"]],\"type\":\"histogram2d\"}],\"histogram2dcontour\":[{\"colorbar\":{\"outlinewidth\":0,\"ticks\":\"\"},\"colorscale\":[[0.0,\"#0d0887\"],[0.1111111111111111,\"#46039f\"],[0.2222222222222222,\"#7201a8\"],[0.3333333333333333,\"#9c179e\"],[0.4444444444444444,\"#bd3786\"],[0.5555555555555556,\"#d8576b\"],[0.6666666666666666,\"#ed7953\"],[0.7777777777777778,\"#fb9f3a\"],[0.8888888888888888,\"#fdca26\"],[1.0,\"#f0f921\"]],\"type\":\"histogram2dcontour\"}],\"mesh3d\":[{\"colorbar\":{\"outlinewidth\":0,\"ticks\":\"\"},\"type\":\"mesh3d\"}],\"parcoords\":[{\"line\":{\"colorbar\":{\"outlinewidth\":0,\"ticks\":\"\"}},\"type\":\"parcoords\"}],\"pie\":[{\"automargin\":true,\"type\":\"pie\"}],\"scatter\":[{\"marker\":{\"colorbar\":{\"outlinewidth\":0,\"ticks\":\"\"}},\"type\":\"scatter\"}],\"scatter3d\":[{\"line\":{\"colorbar\":{\"outlinewidth\":0,\"ticks\":\"\"}},\"marker\":{\"colorbar\":{\"outlinewidth\":0,\"ticks\":\"\"}},\"type\":\"scatter3d\"}],\"scattercarpet\":[{\"marker\":{\"colorbar\":{\"outlinewidth\":0,\"ticks\":\"\"}},\"type\":\"scattercarpet\"}],\"scattergeo\":[{\"marker\":{\"colorbar\":{\"outlinewidth\":0,\"ticks\":\"\"}},\"type\":\"scattergeo\"}],\"scattergl\":[{\"marker\":{\"colorbar\":{\"outlinewidth\":0,\"ticks\":\"\"}},\"type\":\"scattergl\"}],\"scattermapbox\":[{\"marker\":{\"colorbar\":{\"outlinewidth\":0,\"ticks\":\"\"}},\"type\":\"scattermapbox\"}],\"scatterpolar\":[{\"marker\":{\"colorbar\":{\"outlinewidth\":0,\"ticks\":\"\"}},\"type\":\"scatterpolar\"}],\"scatterpolargl\":[{\"marker\":{\"colorbar\":{\"outlinewidth\":0,\"ticks\":\"\"}},\"type\":\"scatterpolargl\"}],\"scatterternary\":[{\"marker\":{\"colorbar\":{\"outlinewidth\":0,\"ticks\":\"\"}},\"type\":\"scatterternary\"}],\"surface\":[{\"colorbar\":{\"outlinewidth\":0,\"ticks\":\"\"},\"colorscale\":[[0.0,\"#0d0887\"],[0.1111111111111111,\"#46039f\"],[0.2222222222222222,\"#7201a8\"],[0.3333333333333333,\"#9c179e\"],[0.4444444444444444,\"#bd3786\"],[0.5555555555555556,\"#d8576b\"],[0.6666666666666666,\"#ed7953\"],[0.7777777777777778,\"#fb9f3a\"],[0.8888888888888888,\"#fdca26\"],[1.0,\"#f0f921\"]],\"type\":\"surface\"}],\"table\":[{\"cells\":{\"fill\":{\"color\":\"#EBF0F8\"},\"line\":{\"color\":\"white\"}},\"header\":{\"fill\":{\"color\":\"#C8D4E3\"},\"line\":{\"color\":\"white\"}},\"type\":\"table\"}]},\"layout\":{\"annotationdefaults\":{\"arrowcolor\":\"#2a3f5f\",\"arrowhead\":0,\"arrowwidth\":1},\"autotypenumbers\":\"strict\",\"coloraxis\":{\"colorbar\":{\"outlinewidth\":0,\"ticks\":\"\"}},\"colorscale\":{\"diverging\":[[0,\"#8e0152\"],[0.1,\"#c51b7d\"],[0.2,\"#de77ae\"],[0.3,\"#f1b6da\"],[0.4,\"#fde0ef\"],[0.5,\"#f7f7f7\"],[0.6,\"#e6f5d0\"],[0.7,\"#b8e186\"],[0.8,\"#7fbc41\"],[0.9,\"#4d9221\"],[1,\"#276419\"]],\"sequential\":[[0.0,\"#0d0887\"],[0.1111111111111111,\"#46039f\"],[0.2222222222222222,\"#7201a8\"],[0.3333333333333333,\"#9c179e\"],[0.4444444444444444,\"#bd3786\"],[0.5555555555555556,\"#d8576b\"],[0.6666666666666666,\"#ed7953\"],[0.7777777777777778,\"#fb9f3a\"],[0.8888888888888888,\"#fdca26\"],[1.0,\"#f0f921\"]],\"sequentialminus\":[[0.0,\"#0d0887\"],[0.1111111111111111,\"#46039f\"],[0.2222222222222222,\"#7201a8\"],[0.3333333333333333,\"#9c179e\"],[0.4444444444444444,\"#bd3786\"],[0.5555555555555556,\"#d8576b\"],[0.6666666666666666,\"#ed7953\"],[0.7777777777777778,\"#fb9f3a\"],[0.8888888888888888,\"#fdca26\"],[1.0,\"#f0f921\"]]},\"colorway\":[\"#636efa\",\"#EF553B\",\"#00cc96\",\"#ab63fa\",\"#FFA15A\",\"#19d3f3\",\"#FF6692\",\"#B6E880\",\"#FF97FF\",\"#FECB52\"],\"font\":{\"color\":\"#2a3f5f\"},\"geo\":{\"bgcolor\":\"white\",\"lakecolor\":\"white\",\"landcolor\":\"#E5ECF6\",\"showlakes\":true,\"showland\":true,\"subunitcolor\":\"white\"},\"hoverlabel\":{\"align\":\"left\"},\"hovermode\":\"closest\",\"mapbox\":{\"style\":\"light\"},\"paper_bgcolor\":\"white\",\"plot_bgcolor\":\"#E5ECF6\",\"polar\":{\"angularaxis\":{\"gridcolor\":\"white\",\"linecolor\":\"white\",\"ticks\":\"\"},\"bgcolor\":\"#E5ECF6\",\"radialaxis\":{\"gridcolor\":\"white\",\"linecolor\":\"white\",\"ticks\":\"\"}},\"scene\":{\"xaxis\":{\"backgroundcolor\":\"#E5ECF6\",\"gridcolor\":\"white\",\"gridwidth\":2,\"linecolor\":\"white\",\"showbackground\":true,\"ticks\":\"\",\"zerolinecolor\":\"white\"},\"yaxis\":{\"backgroundcolor\":\"#E5ECF6\",\"gridcolor\":\"white\",\"gridwidth\":2,\"linecolor\":\"white\",\"showbackground\":true,\"ticks\":\"\",\"zerolinecolor\":\"white\"},\"zaxis\":{\"backgroundcolor\":\"#E5ECF6\",\"gridcolor\":\"white\",\"gridwidth\":2,\"linecolor\":\"white\",\"showbackground\":true,\"ticks\":\"\",\"zerolinecolor\":\"white\"}},\"shapedefaults\":{\"line\":{\"color\":\"#2a3f5f\"}},\"ternary\":{\"aaxis\":{\"gridcolor\":\"white\",\"linecolor\":\"white\",\"ticks\":\"\"},\"baxis\":{\"gridcolor\":\"white\",\"linecolor\":\"white\",\"ticks\":\"\"},\"bgcolor\":\"#E5ECF6\",\"caxis\":{\"gridcolor\":\"white\",\"linecolor\":\"white\",\"ticks\":\"\"}},\"title\":{\"x\":0.05},\"xaxis\":{\"automargin\":true,\"gridcolor\":\"white\",\"linecolor\":\"white\",\"ticks\":\"\",\"title\":{\"standoff\":15},\"zerolinecolor\":\"white\",\"zerolinewidth\":2},\"yaxis\":{\"automargin\":true,\"gridcolor\":\"white\",\"linecolor\":\"white\",\"ticks\":\"\",\"title\":{\"standoff\":15},\"zerolinecolor\":\"white\",\"zerolinewidth\":2}}},\"xaxis\":{\"anchor\":\"y\",\"domain\":[0.0,1.0],\"range\":[\"2014\",\"2018\"],\"title\":{\"text\":\"Year\"}},\"yaxis\":{\"anchor\":\"x\",\"domain\":[0.0,1.0],\"title\":{\"text\":\"Gross Profit\"}}},                        {\"responsive\": true}                    ).then(function(){\n",
       "                            \n",
       "var gd = document.getElementById('cc959919-62bd-4c31-a892-b2d6ac31f437');\n",
       "var x = new MutationObserver(function (mutations, observer) {{\n",
       "        var display = window.getComputedStyle(gd).display;\n",
       "        if (!display || display === 'none') {{\n",
       "            console.log([gd, 'removed!']);\n",
       "            Plotly.purge(gd);\n",
       "            observer.disconnect();\n",
       "        }}\n",
       "}});\n",
       "\n",
       "// Listen for the removal of the full notebook cells\n",
       "var notebookContainer = gd.closest('#notebook-container');\n",
       "if (notebookContainer) {{\n",
       "    x.observe(notebookContainer, {childList: true});\n",
       "}}\n",
       "\n",
       "// Listen for the clearing of the current output cell\n",
       "var outputEl = gd.closest('.output');\n",
       "if (outputEl) {{\n",
       "    x.observe(outputEl, {childList: true});\n",
       "}}\n",
       "\n",
       "                        })                };                });            </script>        </div>"
      ]
     },
     "metadata": {},
     "output_type": "display_data"
    },
    {
     "data": {
      "application/vnd.plotly.v1+json": {
       "config": {
        "plotlyServerURL": "https://plot.ly"
       },
       "data": [
        {
         "hovertemplate": "Year=%{x}<br>Investments=%{y}<extra></extra>",
         "legendgroup": "",
         "line": {
          "color": "#636efa",
          "dash": "solid"
         },
         "mode": "lines",
         "name": "",
         "orientation": "v",
         "showlegend": false,
         "type": "scatter",
         "x": [
          2014,
          2015,
          2016,
          2017,
          2018
         ],
         "xaxis": "x",
         "y": [
          141395000000,
          184546000000,
          217101000000,
          248606000000,
          211187000000
         ],
         "yaxis": "y"
        }
       ],
       "layout": {
        "legend": {
         "tracegroupgap": 0
        },
        "margin": {
         "t": 60
        },
        "template": {
         "data": {
          "bar": [
           {
            "error_x": {
             "color": "#2a3f5f"
            },
            "error_y": {
             "color": "#2a3f5f"
            },
            "marker": {
             "line": {
              "color": "#E5ECF6",
              "width": 0.5
             },
             "pattern": {
              "fillmode": "overlay",
              "size": 10,
              "solidity": 0.2
             }
            },
            "type": "bar"
           }
          ],
          "barpolar": [
           {
            "marker": {
             "line": {
              "color": "#E5ECF6",
              "width": 0.5
             },
             "pattern": {
              "fillmode": "overlay",
              "size": 10,
              "solidity": 0.2
             }
            },
            "type": "barpolar"
           }
          ],
          "carpet": [
           {
            "aaxis": {
             "endlinecolor": "#2a3f5f",
             "gridcolor": "white",
             "linecolor": "white",
             "minorgridcolor": "white",
             "startlinecolor": "#2a3f5f"
            },
            "baxis": {
             "endlinecolor": "#2a3f5f",
             "gridcolor": "white",
             "linecolor": "white",
             "minorgridcolor": "white",
             "startlinecolor": "#2a3f5f"
            },
            "type": "carpet"
           }
          ],
          "choropleth": [
           {
            "colorbar": {
             "outlinewidth": 0,
             "ticks": ""
            },
            "type": "choropleth"
           }
          ],
          "contour": [
           {
            "colorbar": {
             "outlinewidth": 0,
             "ticks": ""
            },
            "colorscale": [
             [
              0,
              "#0d0887"
             ],
             [
              0.1111111111111111,
              "#46039f"
             ],
             [
              0.2222222222222222,
              "#7201a8"
             ],
             [
              0.3333333333333333,
              "#9c179e"
             ],
             [
              0.4444444444444444,
              "#bd3786"
             ],
             [
              0.5555555555555556,
              "#d8576b"
             ],
             [
              0.6666666666666666,
              "#ed7953"
             ],
             [
              0.7777777777777778,
              "#fb9f3a"
             ],
             [
              0.8888888888888888,
              "#fdca26"
             ],
             [
              1,
              "#f0f921"
             ]
            ],
            "type": "contour"
           }
          ],
          "contourcarpet": [
           {
            "colorbar": {
             "outlinewidth": 0,
             "ticks": ""
            },
            "type": "contourcarpet"
           }
          ],
          "heatmap": [
           {
            "colorbar": {
             "outlinewidth": 0,
             "ticks": ""
            },
            "colorscale": [
             [
              0,
              "#0d0887"
             ],
             [
              0.1111111111111111,
              "#46039f"
             ],
             [
              0.2222222222222222,
              "#7201a8"
             ],
             [
              0.3333333333333333,
              "#9c179e"
             ],
             [
              0.4444444444444444,
              "#bd3786"
             ],
             [
              0.5555555555555556,
              "#d8576b"
             ],
             [
              0.6666666666666666,
              "#ed7953"
             ],
             [
              0.7777777777777778,
              "#fb9f3a"
             ],
             [
              0.8888888888888888,
              "#fdca26"
             ],
             [
              1,
              "#f0f921"
             ]
            ],
            "type": "heatmap"
           }
          ],
          "heatmapgl": [
           {
            "colorbar": {
             "outlinewidth": 0,
             "ticks": ""
            },
            "colorscale": [
             [
              0,
              "#0d0887"
             ],
             [
              0.1111111111111111,
              "#46039f"
             ],
             [
              0.2222222222222222,
              "#7201a8"
             ],
             [
              0.3333333333333333,
              "#9c179e"
             ],
             [
              0.4444444444444444,
              "#bd3786"
             ],
             [
              0.5555555555555556,
              "#d8576b"
             ],
             [
              0.6666666666666666,
              "#ed7953"
             ],
             [
              0.7777777777777778,
              "#fb9f3a"
             ],
             [
              0.8888888888888888,
              "#fdca26"
             ],
             [
              1,
              "#f0f921"
             ]
            ],
            "type": "heatmapgl"
           }
          ],
          "histogram": [
           {
            "marker": {
             "pattern": {
              "fillmode": "overlay",
              "size": 10,
              "solidity": 0.2
             }
            },
            "type": "histogram"
           }
          ],
          "histogram2d": [
           {
            "colorbar": {
             "outlinewidth": 0,
             "ticks": ""
            },
            "colorscale": [
             [
              0,
              "#0d0887"
             ],
             [
              0.1111111111111111,
              "#46039f"
             ],
             [
              0.2222222222222222,
              "#7201a8"
             ],
             [
              0.3333333333333333,
              "#9c179e"
             ],
             [
              0.4444444444444444,
              "#bd3786"
             ],
             [
              0.5555555555555556,
              "#d8576b"
             ],
             [
              0.6666666666666666,
              "#ed7953"
             ],
             [
              0.7777777777777778,
              "#fb9f3a"
             ],
             [
              0.8888888888888888,
              "#fdca26"
             ],
             [
              1,
              "#f0f921"
             ]
            ],
            "type": "histogram2d"
           }
          ],
          "histogram2dcontour": [
           {
            "colorbar": {
             "outlinewidth": 0,
             "ticks": ""
            },
            "colorscale": [
             [
              0,
              "#0d0887"
             ],
             [
              0.1111111111111111,
              "#46039f"
             ],
             [
              0.2222222222222222,
              "#7201a8"
             ],
             [
              0.3333333333333333,
              "#9c179e"
             ],
             [
              0.4444444444444444,
              "#bd3786"
             ],
             [
              0.5555555555555556,
              "#d8576b"
             ],
             [
              0.6666666666666666,
              "#ed7953"
             ],
             [
              0.7777777777777778,
              "#fb9f3a"
             ],
             [
              0.8888888888888888,
              "#fdca26"
             ],
             [
              1,
              "#f0f921"
             ]
            ],
            "type": "histogram2dcontour"
           }
          ],
          "mesh3d": [
           {
            "colorbar": {
             "outlinewidth": 0,
             "ticks": ""
            },
            "type": "mesh3d"
           }
          ],
          "parcoords": [
           {
            "line": {
             "colorbar": {
              "outlinewidth": 0,
              "ticks": ""
             }
            },
            "type": "parcoords"
           }
          ],
          "pie": [
           {
            "automargin": true,
            "type": "pie"
           }
          ],
          "scatter": [
           {
            "marker": {
             "colorbar": {
              "outlinewidth": 0,
              "ticks": ""
             }
            },
            "type": "scatter"
           }
          ],
          "scatter3d": [
           {
            "line": {
             "colorbar": {
              "outlinewidth": 0,
              "ticks": ""
             }
            },
            "marker": {
             "colorbar": {
              "outlinewidth": 0,
              "ticks": ""
             }
            },
            "type": "scatter3d"
           }
          ],
          "scattercarpet": [
           {
            "marker": {
             "colorbar": {
              "outlinewidth": 0,
              "ticks": ""
             }
            },
            "type": "scattercarpet"
           }
          ],
          "scattergeo": [
           {
            "marker": {
             "colorbar": {
              "outlinewidth": 0,
              "ticks": ""
             }
            },
            "type": "scattergeo"
           }
          ],
          "scattergl": [
           {
            "marker": {
             "colorbar": {
              "outlinewidth": 0,
              "ticks": ""
             }
            },
            "type": "scattergl"
           }
          ],
          "scattermapbox": [
           {
            "marker": {
             "colorbar": {
              "outlinewidth": 0,
              "ticks": ""
             }
            },
            "type": "scattermapbox"
           }
          ],
          "scatterpolar": [
           {
            "marker": {
             "colorbar": {
              "outlinewidth": 0,
              "ticks": ""
             }
            },
            "type": "scatterpolar"
           }
          ],
          "scatterpolargl": [
           {
            "marker": {
             "colorbar": {
              "outlinewidth": 0,
              "ticks": ""
             }
            },
            "type": "scatterpolargl"
           }
          ],
          "scatterternary": [
           {
            "marker": {
             "colorbar": {
              "outlinewidth": 0,
              "ticks": ""
             }
            },
            "type": "scatterternary"
           }
          ],
          "surface": [
           {
            "colorbar": {
             "outlinewidth": 0,
             "ticks": ""
            },
            "colorscale": [
             [
              0,
              "#0d0887"
             ],
             [
              0.1111111111111111,
              "#46039f"
             ],
             [
              0.2222222222222222,
              "#7201a8"
             ],
             [
              0.3333333333333333,
              "#9c179e"
             ],
             [
              0.4444444444444444,
              "#bd3786"
             ],
             [
              0.5555555555555556,
              "#d8576b"
             ],
             [
              0.6666666666666666,
              "#ed7953"
             ],
             [
              0.7777777777777778,
              "#fb9f3a"
             ],
             [
              0.8888888888888888,
              "#fdca26"
             ],
             [
              1,
              "#f0f921"
             ]
            ],
            "type": "surface"
           }
          ],
          "table": [
           {
            "cells": {
             "fill": {
              "color": "#EBF0F8"
             },
             "line": {
              "color": "white"
             }
            },
            "header": {
             "fill": {
              "color": "#C8D4E3"
             },
             "line": {
              "color": "white"
             }
            },
            "type": "table"
           }
          ]
         },
         "layout": {
          "annotationdefaults": {
           "arrowcolor": "#2a3f5f",
           "arrowhead": 0,
           "arrowwidth": 1
          },
          "autotypenumbers": "strict",
          "coloraxis": {
           "colorbar": {
            "outlinewidth": 0,
            "ticks": ""
           }
          },
          "colorscale": {
           "diverging": [
            [
             0,
             "#8e0152"
            ],
            [
             0.1,
             "#c51b7d"
            ],
            [
             0.2,
             "#de77ae"
            ],
            [
             0.3,
             "#f1b6da"
            ],
            [
             0.4,
             "#fde0ef"
            ],
            [
             0.5,
             "#f7f7f7"
            ],
            [
             0.6,
             "#e6f5d0"
            ],
            [
             0.7,
             "#b8e186"
            ],
            [
             0.8,
             "#7fbc41"
            ],
            [
             0.9,
             "#4d9221"
            ],
            [
             1,
             "#276419"
            ]
           ],
           "sequential": [
            [
             0,
             "#0d0887"
            ],
            [
             0.1111111111111111,
             "#46039f"
            ],
            [
             0.2222222222222222,
             "#7201a8"
            ],
            [
             0.3333333333333333,
             "#9c179e"
            ],
            [
             0.4444444444444444,
             "#bd3786"
            ],
            [
             0.5555555555555556,
             "#d8576b"
            ],
            [
             0.6666666666666666,
             "#ed7953"
            ],
            [
             0.7777777777777778,
             "#fb9f3a"
            ],
            [
             0.8888888888888888,
             "#fdca26"
            ],
            [
             1,
             "#f0f921"
            ]
           ],
           "sequentialminus": [
            [
             0,
             "#0d0887"
            ],
            [
             0.1111111111111111,
             "#46039f"
            ],
            [
             0.2222222222222222,
             "#7201a8"
            ],
            [
             0.3333333333333333,
             "#9c179e"
            ],
            [
             0.4444444444444444,
             "#bd3786"
            ],
            [
             0.5555555555555556,
             "#d8576b"
            ],
            [
             0.6666666666666666,
             "#ed7953"
            ],
            [
             0.7777777777777778,
             "#fb9f3a"
            ],
            [
             0.8888888888888888,
             "#fdca26"
            ],
            [
             1,
             "#f0f921"
            ]
           ]
          },
          "colorway": [
           "#636efa",
           "#EF553B",
           "#00cc96",
           "#ab63fa",
           "#FFA15A",
           "#19d3f3",
           "#FF6692",
           "#B6E880",
           "#FF97FF",
           "#FECB52"
          ],
          "font": {
           "color": "#2a3f5f"
          },
          "geo": {
           "bgcolor": "white",
           "lakecolor": "white",
           "landcolor": "#E5ECF6",
           "showlakes": true,
           "showland": true,
           "subunitcolor": "white"
          },
          "hoverlabel": {
           "align": "left"
          },
          "hovermode": "closest",
          "mapbox": {
           "style": "light"
          },
          "paper_bgcolor": "white",
          "plot_bgcolor": "#E5ECF6",
          "polar": {
           "angularaxis": {
            "gridcolor": "white",
            "linecolor": "white",
            "ticks": ""
           },
           "bgcolor": "#E5ECF6",
           "radialaxis": {
            "gridcolor": "white",
            "linecolor": "white",
            "ticks": ""
           }
          },
          "scene": {
           "xaxis": {
            "backgroundcolor": "#E5ECF6",
            "gridcolor": "white",
            "gridwidth": 2,
            "linecolor": "white",
            "showbackground": true,
            "ticks": "",
            "zerolinecolor": "white"
           },
           "yaxis": {
            "backgroundcolor": "#E5ECF6",
            "gridcolor": "white",
            "gridwidth": 2,
            "linecolor": "white",
            "showbackground": true,
            "ticks": "",
            "zerolinecolor": "white"
           },
           "zaxis": {
            "backgroundcolor": "#E5ECF6",
            "gridcolor": "white",
            "gridwidth": 2,
            "linecolor": "white",
            "showbackground": true,
            "ticks": "",
            "zerolinecolor": "white"
           }
          },
          "shapedefaults": {
           "line": {
            "color": "#2a3f5f"
           }
          },
          "ternary": {
           "aaxis": {
            "gridcolor": "white",
            "linecolor": "white",
            "ticks": ""
           },
           "baxis": {
            "gridcolor": "white",
            "linecolor": "white",
            "ticks": ""
           },
           "bgcolor": "#E5ECF6",
           "caxis": {
            "gridcolor": "white",
            "linecolor": "white",
            "ticks": ""
           }
          },
          "title": {
           "x": 0.05
          },
          "xaxis": {
           "automargin": true,
           "gridcolor": "white",
           "linecolor": "white",
           "ticks": "",
           "title": {
            "standoff": 15
           },
           "zerolinecolor": "white",
           "zerolinewidth": 2
          },
          "yaxis": {
           "automargin": true,
           "gridcolor": "white",
           "linecolor": "white",
           "ticks": "",
           "title": {
            "standoff": 15
           },
           "zerolinecolor": "white",
           "zerolinewidth": 2
          }
         }
        },
        "xaxis": {
         "anchor": "y",
         "domain": [
          0,
          1
         ],
         "range": [
          "2014",
          "2018"
         ],
         "title": {
          "text": "Year"
         }
        },
        "yaxis": {
         "anchor": "x",
         "domain": [
          0,
          1
         ],
         "title": {
          "text": "Investments"
         }
        }
       }
      },
      "text/html": [
       "<div>                            <div id=\"7b2fcad2-f1fe-431d-a7bc-338cb0b2d658\" class=\"plotly-graph-div\" style=\"height:525px; width:100%;\"></div>            <script type=\"text/javascript\">                require([\"plotly\"], function(Plotly) {                    window.PLOTLYENV=window.PLOTLYENV || {};                                    if (document.getElementById(\"7b2fcad2-f1fe-431d-a7bc-338cb0b2d658\")) {                    Plotly.newPlot(                        \"7b2fcad2-f1fe-431d-a7bc-338cb0b2d658\",                        [{\"hovertemplate\":\"Year=%{x}<br>Investments=%{y}<extra></extra>\",\"legendgroup\":\"\",\"line\":{\"color\":\"#636efa\",\"dash\":\"solid\"},\"mode\":\"lines\",\"name\":\"\",\"orientation\":\"v\",\"showlegend\":false,\"type\":\"scatter\",\"x\":[2014,2015,2016,2017,2018],\"xaxis\":\"x\",\"y\":[141395000000.0,184546000000.0,217101000000.0,248606000000.0,211187000000.0],\"yaxis\":\"y\"}],                        {\"legend\":{\"tracegroupgap\":0},\"margin\":{\"t\":60},\"template\":{\"data\":{\"bar\":[{\"error_x\":{\"color\":\"#2a3f5f\"},\"error_y\":{\"color\":\"#2a3f5f\"},\"marker\":{\"line\":{\"color\":\"#E5ECF6\",\"width\":0.5},\"pattern\":{\"fillmode\":\"overlay\",\"size\":10,\"solidity\":0.2}},\"type\":\"bar\"}],\"barpolar\":[{\"marker\":{\"line\":{\"color\":\"#E5ECF6\",\"width\":0.5},\"pattern\":{\"fillmode\":\"overlay\",\"size\":10,\"solidity\":0.2}},\"type\":\"barpolar\"}],\"carpet\":[{\"aaxis\":{\"endlinecolor\":\"#2a3f5f\",\"gridcolor\":\"white\",\"linecolor\":\"white\",\"minorgridcolor\":\"white\",\"startlinecolor\":\"#2a3f5f\"},\"baxis\":{\"endlinecolor\":\"#2a3f5f\",\"gridcolor\":\"white\",\"linecolor\":\"white\",\"minorgridcolor\":\"white\",\"startlinecolor\":\"#2a3f5f\"},\"type\":\"carpet\"}],\"choropleth\":[{\"colorbar\":{\"outlinewidth\":0,\"ticks\":\"\"},\"type\":\"choropleth\"}],\"contour\":[{\"colorbar\":{\"outlinewidth\":0,\"ticks\":\"\"},\"colorscale\":[[0.0,\"#0d0887\"],[0.1111111111111111,\"#46039f\"],[0.2222222222222222,\"#7201a8\"],[0.3333333333333333,\"#9c179e\"],[0.4444444444444444,\"#bd3786\"],[0.5555555555555556,\"#d8576b\"],[0.6666666666666666,\"#ed7953\"],[0.7777777777777778,\"#fb9f3a\"],[0.8888888888888888,\"#fdca26\"],[1.0,\"#f0f921\"]],\"type\":\"contour\"}],\"contourcarpet\":[{\"colorbar\":{\"outlinewidth\":0,\"ticks\":\"\"},\"type\":\"contourcarpet\"}],\"heatmap\":[{\"colorbar\":{\"outlinewidth\":0,\"ticks\":\"\"},\"colorscale\":[[0.0,\"#0d0887\"],[0.1111111111111111,\"#46039f\"],[0.2222222222222222,\"#7201a8\"],[0.3333333333333333,\"#9c179e\"],[0.4444444444444444,\"#bd3786\"],[0.5555555555555556,\"#d8576b\"],[0.6666666666666666,\"#ed7953\"],[0.7777777777777778,\"#fb9f3a\"],[0.8888888888888888,\"#fdca26\"],[1.0,\"#f0f921\"]],\"type\":\"heatmap\"}],\"heatmapgl\":[{\"colorbar\":{\"outlinewidth\":0,\"ticks\":\"\"},\"colorscale\":[[0.0,\"#0d0887\"],[0.1111111111111111,\"#46039f\"],[0.2222222222222222,\"#7201a8\"],[0.3333333333333333,\"#9c179e\"],[0.4444444444444444,\"#bd3786\"],[0.5555555555555556,\"#d8576b\"],[0.6666666666666666,\"#ed7953\"],[0.7777777777777778,\"#fb9f3a\"],[0.8888888888888888,\"#fdca26\"],[1.0,\"#f0f921\"]],\"type\":\"heatmapgl\"}],\"histogram\":[{\"marker\":{\"pattern\":{\"fillmode\":\"overlay\",\"size\":10,\"solidity\":0.2}},\"type\":\"histogram\"}],\"histogram2d\":[{\"colorbar\":{\"outlinewidth\":0,\"ticks\":\"\"},\"colorscale\":[[0.0,\"#0d0887\"],[0.1111111111111111,\"#46039f\"],[0.2222222222222222,\"#7201a8\"],[0.3333333333333333,\"#9c179e\"],[0.4444444444444444,\"#bd3786\"],[0.5555555555555556,\"#d8576b\"],[0.6666666666666666,\"#ed7953\"],[0.7777777777777778,\"#fb9f3a\"],[0.8888888888888888,\"#fdca26\"],[1.0,\"#f0f921\"]],\"type\":\"histogram2d\"}],\"histogram2dcontour\":[{\"colorbar\":{\"outlinewidth\":0,\"ticks\":\"\"},\"colorscale\":[[0.0,\"#0d0887\"],[0.1111111111111111,\"#46039f\"],[0.2222222222222222,\"#7201a8\"],[0.3333333333333333,\"#9c179e\"],[0.4444444444444444,\"#bd3786\"],[0.5555555555555556,\"#d8576b\"],[0.6666666666666666,\"#ed7953\"],[0.7777777777777778,\"#fb9f3a\"],[0.8888888888888888,\"#fdca26\"],[1.0,\"#f0f921\"]],\"type\":\"histogram2dcontour\"}],\"mesh3d\":[{\"colorbar\":{\"outlinewidth\":0,\"ticks\":\"\"},\"type\":\"mesh3d\"}],\"parcoords\":[{\"line\":{\"colorbar\":{\"outlinewidth\":0,\"ticks\":\"\"}},\"type\":\"parcoords\"}],\"pie\":[{\"automargin\":true,\"type\":\"pie\"}],\"scatter\":[{\"marker\":{\"colorbar\":{\"outlinewidth\":0,\"ticks\":\"\"}},\"type\":\"scatter\"}],\"scatter3d\":[{\"line\":{\"colorbar\":{\"outlinewidth\":0,\"ticks\":\"\"}},\"marker\":{\"colorbar\":{\"outlinewidth\":0,\"ticks\":\"\"}},\"type\":\"scatter3d\"}],\"scattercarpet\":[{\"marker\":{\"colorbar\":{\"outlinewidth\":0,\"ticks\":\"\"}},\"type\":\"scattercarpet\"}],\"scattergeo\":[{\"marker\":{\"colorbar\":{\"outlinewidth\":0,\"ticks\":\"\"}},\"type\":\"scattergeo\"}],\"scattergl\":[{\"marker\":{\"colorbar\":{\"outlinewidth\":0,\"ticks\":\"\"}},\"type\":\"scattergl\"}],\"scattermapbox\":[{\"marker\":{\"colorbar\":{\"outlinewidth\":0,\"ticks\":\"\"}},\"type\":\"scattermapbox\"}],\"scatterpolar\":[{\"marker\":{\"colorbar\":{\"outlinewidth\":0,\"ticks\":\"\"}},\"type\":\"scatterpolar\"}],\"scatterpolargl\":[{\"marker\":{\"colorbar\":{\"outlinewidth\":0,\"ticks\":\"\"}},\"type\":\"scatterpolargl\"}],\"scatterternary\":[{\"marker\":{\"colorbar\":{\"outlinewidth\":0,\"ticks\":\"\"}},\"type\":\"scatterternary\"}],\"surface\":[{\"colorbar\":{\"outlinewidth\":0,\"ticks\":\"\"},\"colorscale\":[[0.0,\"#0d0887\"],[0.1111111111111111,\"#46039f\"],[0.2222222222222222,\"#7201a8\"],[0.3333333333333333,\"#9c179e\"],[0.4444444444444444,\"#bd3786\"],[0.5555555555555556,\"#d8576b\"],[0.6666666666666666,\"#ed7953\"],[0.7777777777777778,\"#fb9f3a\"],[0.8888888888888888,\"#fdca26\"],[1.0,\"#f0f921\"]],\"type\":\"surface\"}],\"table\":[{\"cells\":{\"fill\":{\"color\":\"#EBF0F8\"},\"line\":{\"color\":\"white\"}},\"header\":{\"fill\":{\"color\":\"#C8D4E3\"},\"line\":{\"color\":\"white\"}},\"type\":\"table\"}]},\"layout\":{\"annotationdefaults\":{\"arrowcolor\":\"#2a3f5f\",\"arrowhead\":0,\"arrowwidth\":1},\"autotypenumbers\":\"strict\",\"coloraxis\":{\"colorbar\":{\"outlinewidth\":0,\"ticks\":\"\"}},\"colorscale\":{\"diverging\":[[0,\"#8e0152\"],[0.1,\"#c51b7d\"],[0.2,\"#de77ae\"],[0.3,\"#f1b6da\"],[0.4,\"#fde0ef\"],[0.5,\"#f7f7f7\"],[0.6,\"#e6f5d0\"],[0.7,\"#b8e186\"],[0.8,\"#7fbc41\"],[0.9,\"#4d9221\"],[1,\"#276419\"]],\"sequential\":[[0.0,\"#0d0887\"],[0.1111111111111111,\"#46039f\"],[0.2222222222222222,\"#7201a8\"],[0.3333333333333333,\"#9c179e\"],[0.4444444444444444,\"#bd3786\"],[0.5555555555555556,\"#d8576b\"],[0.6666666666666666,\"#ed7953\"],[0.7777777777777778,\"#fb9f3a\"],[0.8888888888888888,\"#fdca26\"],[1.0,\"#f0f921\"]],\"sequentialminus\":[[0.0,\"#0d0887\"],[0.1111111111111111,\"#46039f\"],[0.2222222222222222,\"#7201a8\"],[0.3333333333333333,\"#9c179e\"],[0.4444444444444444,\"#bd3786\"],[0.5555555555555556,\"#d8576b\"],[0.6666666666666666,\"#ed7953\"],[0.7777777777777778,\"#fb9f3a\"],[0.8888888888888888,\"#fdca26\"],[1.0,\"#f0f921\"]]},\"colorway\":[\"#636efa\",\"#EF553B\",\"#00cc96\",\"#ab63fa\",\"#FFA15A\",\"#19d3f3\",\"#FF6692\",\"#B6E880\",\"#FF97FF\",\"#FECB52\"],\"font\":{\"color\":\"#2a3f5f\"},\"geo\":{\"bgcolor\":\"white\",\"lakecolor\":\"white\",\"landcolor\":\"#E5ECF6\",\"showlakes\":true,\"showland\":true,\"subunitcolor\":\"white\"},\"hoverlabel\":{\"align\":\"left\"},\"hovermode\":\"closest\",\"mapbox\":{\"style\":\"light\"},\"paper_bgcolor\":\"white\",\"plot_bgcolor\":\"#E5ECF6\",\"polar\":{\"angularaxis\":{\"gridcolor\":\"white\",\"linecolor\":\"white\",\"ticks\":\"\"},\"bgcolor\":\"#E5ECF6\",\"radialaxis\":{\"gridcolor\":\"white\",\"linecolor\":\"white\",\"ticks\":\"\"}},\"scene\":{\"xaxis\":{\"backgroundcolor\":\"#E5ECF6\",\"gridcolor\":\"white\",\"gridwidth\":2,\"linecolor\":\"white\",\"showbackground\":true,\"ticks\":\"\",\"zerolinecolor\":\"white\"},\"yaxis\":{\"backgroundcolor\":\"#E5ECF6\",\"gridcolor\":\"white\",\"gridwidth\":2,\"linecolor\":\"white\",\"showbackground\":true,\"ticks\":\"\",\"zerolinecolor\":\"white\"},\"zaxis\":{\"backgroundcolor\":\"#E5ECF6\",\"gridcolor\":\"white\",\"gridwidth\":2,\"linecolor\":\"white\",\"showbackground\":true,\"ticks\":\"\",\"zerolinecolor\":\"white\"}},\"shapedefaults\":{\"line\":{\"color\":\"#2a3f5f\"}},\"ternary\":{\"aaxis\":{\"gridcolor\":\"white\",\"linecolor\":\"white\",\"ticks\":\"\"},\"baxis\":{\"gridcolor\":\"white\",\"linecolor\":\"white\",\"ticks\":\"\"},\"bgcolor\":\"#E5ECF6\",\"caxis\":{\"gridcolor\":\"white\",\"linecolor\":\"white\",\"ticks\":\"\"}},\"title\":{\"x\":0.05},\"xaxis\":{\"automargin\":true,\"gridcolor\":\"white\",\"linecolor\":\"white\",\"ticks\":\"\",\"title\":{\"standoff\":15},\"zerolinecolor\":\"white\",\"zerolinewidth\":2},\"yaxis\":{\"automargin\":true,\"gridcolor\":\"white\",\"linecolor\":\"white\",\"ticks\":\"\",\"title\":{\"standoff\":15},\"zerolinecolor\":\"white\",\"zerolinewidth\":2}}},\"xaxis\":{\"anchor\":\"y\",\"domain\":[0.0,1.0],\"range\":[\"2014\",\"2018\"],\"title\":{\"text\":\"Year\"}},\"yaxis\":{\"anchor\":\"x\",\"domain\":[0.0,1.0],\"title\":{\"text\":\"Investments\"}}},                        {\"responsive\": true}                    ).then(function(){\n",
       "                            \n",
       "var gd = document.getElementById('7b2fcad2-f1fe-431d-a7bc-338cb0b2d658');\n",
       "var x = new MutationObserver(function (mutations, observer) {{\n",
       "        var display = window.getComputedStyle(gd).display;\n",
       "        if (!display || display === 'none') {{\n",
       "            console.log([gd, 'removed!']);\n",
       "            Plotly.purge(gd);\n",
       "            observer.disconnect();\n",
       "        }}\n",
       "}});\n",
       "\n",
       "// Listen for the removal of the full notebook cells\n",
       "var notebookContainer = gd.closest('#notebook-container');\n",
       "if (notebookContainer) {{\n",
       "    x.observe(notebookContainer, {childList: true});\n",
       "}}\n",
       "\n",
       "// Listen for the clearing of the current output cell\n",
       "var outputEl = gd.closest('.output');\n",
       "if (outputEl) {{\n",
       "    x.observe(outputEl, {childList: true});\n",
       "}}\n",
       "\n",
       "                        })                };                });            </script>        </div>"
      ]
     },
     "metadata": {},
     "output_type": "display_data"
    },
    {
     "data": {
      "application/vnd.plotly.v1+json": {
       "config": {
        "plotlyServerURL": "https://plot.ly"
       },
       "data": [
        {
         "hovertemplate": "Year=%{x}<br>R&D Expenses=%{y}<extra></extra>",
         "legendgroup": "",
         "line": {
          "color": "#636efa",
          "dash": "solid"
         },
         "mode": "lines",
         "name": "",
         "orientation": "v",
         "showlegend": false,
         "type": "scatter",
         "x": [
          2014,
          2015,
          2016,
          2017,
          2018
         ],
         "xaxis": "x",
         "y": [
          6041000000,
          8067000000,
          10045000000,
          11581000000,
          14236000000
         ],
         "yaxis": "y"
        }
       ],
       "layout": {
        "legend": {
         "tracegroupgap": 0
        },
        "margin": {
         "t": 60
        },
        "template": {
         "data": {
          "bar": [
           {
            "error_x": {
             "color": "#2a3f5f"
            },
            "error_y": {
             "color": "#2a3f5f"
            },
            "marker": {
             "line": {
              "color": "#E5ECF6",
              "width": 0.5
             },
             "pattern": {
              "fillmode": "overlay",
              "size": 10,
              "solidity": 0.2
             }
            },
            "type": "bar"
           }
          ],
          "barpolar": [
           {
            "marker": {
             "line": {
              "color": "#E5ECF6",
              "width": 0.5
             },
             "pattern": {
              "fillmode": "overlay",
              "size": 10,
              "solidity": 0.2
             }
            },
            "type": "barpolar"
           }
          ],
          "carpet": [
           {
            "aaxis": {
             "endlinecolor": "#2a3f5f",
             "gridcolor": "white",
             "linecolor": "white",
             "minorgridcolor": "white",
             "startlinecolor": "#2a3f5f"
            },
            "baxis": {
             "endlinecolor": "#2a3f5f",
             "gridcolor": "white",
             "linecolor": "white",
             "minorgridcolor": "white",
             "startlinecolor": "#2a3f5f"
            },
            "type": "carpet"
           }
          ],
          "choropleth": [
           {
            "colorbar": {
             "outlinewidth": 0,
             "ticks": ""
            },
            "type": "choropleth"
           }
          ],
          "contour": [
           {
            "colorbar": {
             "outlinewidth": 0,
             "ticks": ""
            },
            "colorscale": [
             [
              0,
              "#0d0887"
             ],
             [
              0.1111111111111111,
              "#46039f"
             ],
             [
              0.2222222222222222,
              "#7201a8"
             ],
             [
              0.3333333333333333,
              "#9c179e"
             ],
             [
              0.4444444444444444,
              "#bd3786"
             ],
             [
              0.5555555555555556,
              "#d8576b"
             ],
             [
              0.6666666666666666,
              "#ed7953"
             ],
             [
              0.7777777777777778,
              "#fb9f3a"
             ],
             [
              0.8888888888888888,
              "#fdca26"
             ],
             [
              1,
              "#f0f921"
             ]
            ],
            "type": "contour"
           }
          ],
          "contourcarpet": [
           {
            "colorbar": {
             "outlinewidth": 0,
             "ticks": ""
            },
            "type": "contourcarpet"
           }
          ],
          "heatmap": [
           {
            "colorbar": {
             "outlinewidth": 0,
             "ticks": ""
            },
            "colorscale": [
             [
              0,
              "#0d0887"
             ],
             [
              0.1111111111111111,
              "#46039f"
             ],
             [
              0.2222222222222222,
              "#7201a8"
             ],
             [
              0.3333333333333333,
              "#9c179e"
             ],
             [
              0.4444444444444444,
              "#bd3786"
             ],
             [
              0.5555555555555556,
              "#d8576b"
             ],
             [
              0.6666666666666666,
              "#ed7953"
             ],
             [
              0.7777777777777778,
              "#fb9f3a"
             ],
             [
              0.8888888888888888,
              "#fdca26"
             ],
             [
              1,
              "#f0f921"
             ]
            ],
            "type": "heatmap"
           }
          ],
          "heatmapgl": [
           {
            "colorbar": {
             "outlinewidth": 0,
             "ticks": ""
            },
            "colorscale": [
             [
              0,
              "#0d0887"
             ],
             [
              0.1111111111111111,
              "#46039f"
             ],
             [
              0.2222222222222222,
              "#7201a8"
             ],
             [
              0.3333333333333333,
              "#9c179e"
             ],
             [
              0.4444444444444444,
              "#bd3786"
             ],
             [
              0.5555555555555556,
              "#d8576b"
             ],
             [
              0.6666666666666666,
              "#ed7953"
             ],
             [
              0.7777777777777778,
              "#fb9f3a"
             ],
             [
              0.8888888888888888,
              "#fdca26"
             ],
             [
              1,
              "#f0f921"
             ]
            ],
            "type": "heatmapgl"
           }
          ],
          "histogram": [
           {
            "marker": {
             "pattern": {
              "fillmode": "overlay",
              "size": 10,
              "solidity": 0.2
             }
            },
            "type": "histogram"
           }
          ],
          "histogram2d": [
           {
            "colorbar": {
             "outlinewidth": 0,
             "ticks": ""
            },
            "colorscale": [
             [
              0,
              "#0d0887"
             ],
             [
              0.1111111111111111,
              "#46039f"
             ],
             [
              0.2222222222222222,
              "#7201a8"
             ],
             [
              0.3333333333333333,
              "#9c179e"
             ],
             [
              0.4444444444444444,
              "#bd3786"
             ],
             [
              0.5555555555555556,
              "#d8576b"
             ],
             [
              0.6666666666666666,
              "#ed7953"
             ],
             [
              0.7777777777777778,
              "#fb9f3a"
             ],
             [
              0.8888888888888888,
              "#fdca26"
             ],
             [
              1,
              "#f0f921"
             ]
            ],
            "type": "histogram2d"
           }
          ],
          "histogram2dcontour": [
           {
            "colorbar": {
             "outlinewidth": 0,
             "ticks": ""
            },
            "colorscale": [
             [
              0,
              "#0d0887"
             ],
             [
              0.1111111111111111,
              "#46039f"
             ],
             [
              0.2222222222222222,
              "#7201a8"
             ],
             [
              0.3333333333333333,
              "#9c179e"
             ],
             [
              0.4444444444444444,
              "#bd3786"
             ],
             [
              0.5555555555555556,
              "#d8576b"
             ],
             [
              0.6666666666666666,
              "#ed7953"
             ],
             [
              0.7777777777777778,
              "#fb9f3a"
             ],
             [
              0.8888888888888888,
              "#fdca26"
             ],
             [
              1,
              "#f0f921"
             ]
            ],
            "type": "histogram2dcontour"
           }
          ],
          "mesh3d": [
           {
            "colorbar": {
             "outlinewidth": 0,
             "ticks": ""
            },
            "type": "mesh3d"
           }
          ],
          "parcoords": [
           {
            "line": {
             "colorbar": {
              "outlinewidth": 0,
              "ticks": ""
             }
            },
            "type": "parcoords"
           }
          ],
          "pie": [
           {
            "automargin": true,
            "type": "pie"
           }
          ],
          "scatter": [
           {
            "marker": {
             "colorbar": {
              "outlinewidth": 0,
              "ticks": ""
             }
            },
            "type": "scatter"
           }
          ],
          "scatter3d": [
           {
            "line": {
             "colorbar": {
              "outlinewidth": 0,
              "ticks": ""
             }
            },
            "marker": {
             "colorbar": {
              "outlinewidth": 0,
              "ticks": ""
             }
            },
            "type": "scatter3d"
           }
          ],
          "scattercarpet": [
           {
            "marker": {
             "colorbar": {
              "outlinewidth": 0,
              "ticks": ""
             }
            },
            "type": "scattercarpet"
           }
          ],
          "scattergeo": [
           {
            "marker": {
             "colorbar": {
              "outlinewidth": 0,
              "ticks": ""
             }
            },
            "type": "scattergeo"
           }
          ],
          "scattergl": [
           {
            "marker": {
             "colorbar": {
              "outlinewidth": 0,
              "ticks": ""
             }
            },
            "type": "scattergl"
           }
          ],
          "scattermapbox": [
           {
            "marker": {
             "colorbar": {
              "outlinewidth": 0,
              "ticks": ""
             }
            },
            "type": "scattermapbox"
           }
          ],
          "scatterpolar": [
           {
            "marker": {
             "colorbar": {
              "outlinewidth": 0,
              "ticks": ""
             }
            },
            "type": "scatterpolar"
           }
          ],
          "scatterpolargl": [
           {
            "marker": {
             "colorbar": {
              "outlinewidth": 0,
              "ticks": ""
             }
            },
            "type": "scatterpolargl"
           }
          ],
          "scatterternary": [
           {
            "marker": {
             "colorbar": {
              "outlinewidth": 0,
              "ticks": ""
             }
            },
            "type": "scatterternary"
           }
          ],
          "surface": [
           {
            "colorbar": {
             "outlinewidth": 0,
             "ticks": ""
            },
            "colorscale": [
             [
              0,
              "#0d0887"
             ],
             [
              0.1111111111111111,
              "#46039f"
             ],
             [
              0.2222222222222222,
              "#7201a8"
             ],
             [
              0.3333333333333333,
              "#9c179e"
             ],
             [
              0.4444444444444444,
              "#bd3786"
             ],
             [
              0.5555555555555556,
              "#d8576b"
             ],
             [
              0.6666666666666666,
              "#ed7953"
             ],
             [
              0.7777777777777778,
              "#fb9f3a"
             ],
             [
              0.8888888888888888,
              "#fdca26"
             ],
             [
              1,
              "#f0f921"
             ]
            ],
            "type": "surface"
           }
          ],
          "table": [
           {
            "cells": {
             "fill": {
              "color": "#EBF0F8"
             },
             "line": {
              "color": "white"
             }
            },
            "header": {
             "fill": {
              "color": "#C8D4E3"
             },
             "line": {
              "color": "white"
             }
            },
            "type": "table"
           }
          ]
         },
         "layout": {
          "annotationdefaults": {
           "arrowcolor": "#2a3f5f",
           "arrowhead": 0,
           "arrowwidth": 1
          },
          "autotypenumbers": "strict",
          "coloraxis": {
           "colorbar": {
            "outlinewidth": 0,
            "ticks": ""
           }
          },
          "colorscale": {
           "diverging": [
            [
             0,
             "#8e0152"
            ],
            [
             0.1,
             "#c51b7d"
            ],
            [
             0.2,
             "#de77ae"
            ],
            [
             0.3,
             "#f1b6da"
            ],
            [
             0.4,
             "#fde0ef"
            ],
            [
             0.5,
             "#f7f7f7"
            ],
            [
             0.6,
             "#e6f5d0"
            ],
            [
             0.7,
             "#b8e186"
            ],
            [
             0.8,
             "#7fbc41"
            ],
            [
             0.9,
             "#4d9221"
            ],
            [
             1,
             "#276419"
            ]
           ],
           "sequential": [
            [
             0,
             "#0d0887"
            ],
            [
             0.1111111111111111,
             "#46039f"
            ],
            [
             0.2222222222222222,
             "#7201a8"
            ],
            [
             0.3333333333333333,
             "#9c179e"
            ],
            [
             0.4444444444444444,
             "#bd3786"
            ],
            [
             0.5555555555555556,
             "#d8576b"
            ],
            [
             0.6666666666666666,
             "#ed7953"
            ],
            [
             0.7777777777777778,
             "#fb9f3a"
            ],
            [
             0.8888888888888888,
             "#fdca26"
            ],
            [
             1,
             "#f0f921"
            ]
           ],
           "sequentialminus": [
            [
             0,
             "#0d0887"
            ],
            [
             0.1111111111111111,
             "#46039f"
            ],
            [
             0.2222222222222222,
             "#7201a8"
            ],
            [
             0.3333333333333333,
             "#9c179e"
            ],
            [
             0.4444444444444444,
             "#bd3786"
            ],
            [
             0.5555555555555556,
             "#d8576b"
            ],
            [
             0.6666666666666666,
             "#ed7953"
            ],
            [
             0.7777777777777778,
             "#fb9f3a"
            ],
            [
             0.8888888888888888,
             "#fdca26"
            ],
            [
             1,
             "#f0f921"
            ]
           ]
          },
          "colorway": [
           "#636efa",
           "#EF553B",
           "#00cc96",
           "#ab63fa",
           "#FFA15A",
           "#19d3f3",
           "#FF6692",
           "#B6E880",
           "#FF97FF",
           "#FECB52"
          ],
          "font": {
           "color": "#2a3f5f"
          },
          "geo": {
           "bgcolor": "white",
           "lakecolor": "white",
           "landcolor": "#E5ECF6",
           "showlakes": true,
           "showland": true,
           "subunitcolor": "white"
          },
          "hoverlabel": {
           "align": "left"
          },
          "hovermode": "closest",
          "mapbox": {
           "style": "light"
          },
          "paper_bgcolor": "white",
          "plot_bgcolor": "#E5ECF6",
          "polar": {
           "angularaxis": {
            "gridcolor": "white",
            "linecolor": "white",
            "ticks": ""
           },
           "bgcolor": "#E5ECF6",
           "radialaxis": {
            "gridcolor": "white",
            "linecolor": "white",
            "ticks": ""
           }
          },
          "scene": {
           "xaxis": {
            "backgroundcolor": "#E5ECF6",
            "gridcolor": "white",
            "gridwidth": 2,
            "linecolor": "white",
            "showbackground": true,
            "ticks": "",
            "zerolinecolor": "white"
           },
           "yaxis": {
            "backgroundcolor": "#E5ECF6",
            "gridcolor": "white",
            "gridwidth": 2,
            "linecolor": "white",
            "showbackground": true,
            "ticks": "",
            "zerolinecolor": "white"
           },
           "zaxis": {
            "backgroundcolor": "#E5ECF6",
            "gridcolor": "white",
            "gridwidth": 2,
            "linecolor": "white",
            "showbackground": true,
            "ticks": "",
            "zerolinecolor": "white"
           }
          },
          "shapedefaults": {
           "line": {
            "color": "#2a3f5f"
           }
          },
          "ternary": {
           "aaxis": {
            "gridcolor": "white",
            "linecolor": "white",
            "ticks": ""
           },
           "baxis": {
            "gridcolor": "white",
            "linecolor": "white",
            "ticks": ""
           },
           "bgcolor": "#E5ECF6",
           "caxis": {
            "gridcolor": "white",
            "linecolor": "white",
            "ticks": ""
           }
          },
          "title": {
           "x": 0.05
          },
          "xaxis": {
           "automargin": true,
           "gridcolor": "white",
           "linecolor": "white",
           "ticks": "",
           "title": {
            "standoff": 15
           },
           "zerolinecolor": "white",
           "zerolinewidth": 2
          },
          "yaxis": {
           "automargin": true,
           "gridcolor": "white",
           "linecolor": "white",
           "ticks": "",
           "title": {
            "standoff": 15
           },
           "zerolinecolor": "white",
           "zerolinewidth": 2
          }
         }
        },
        "xaxis": {
         "anchor": "y",
         "domain": [
          0,
          1
         ],
         "range": [
          "2014",
          "2018"
         ],
         "title": {
          "text": "Year"
         }
        },
        "yaxis": {
         "anchor": "x",
         "domain": [
          0,
          1
         ],
         "title": {
          "text": "R&D Expenses"
         }
        }
       }
      },
      "text/html": [
       "<div>                            <div id=\"a7848da5-4778-4293-be00-d56f5d267b6b\" class=\"plotly-graph-div\" style=\"height:525px; width:100%;\"></div>            <script type=\"text/javascript\">                require([\"plotly\"], function(Plotly) {                    window.PLOTLYENV=window.PLOTLYENV || {};                                    if (document.getElementById(\"a7848da5-4778-4293-be00-d56f5d267b6b\")) {                    Plotly.newPlot(                        \"a7848da5-4778-4293-be00-d56f5d267b6b\",                        [{\"hovertemplate\":\"Year=%{x}<br>R&D Expenses=%{y}<extra></extra>\",\"legendgroup\":\"\",\"line\":{\"color\":\"#636efa\",\"dash\":\"solid\"},\"mode\":\"lines\",\"name\":\"\",\"orientation\":\"v\",\"showlegend\":false,\"type\":\"scatter\",\"x\":[2014,2015,2016,2017,2018],\"xaxis\":\"x\",\"y\":[6041000000.0,8067000000.0,10045000000.0,11581000000.0,14236000000.0],\"yaxis\":\"y\"}],                        {\"legend\":{\"tracegroupgap\":0},\"margin\":{\"t\":60},\"template\":{\"data\":{\"bar\":[{\"error_x\":{\"color\":\"#2a3f5f\"},\"error_y\":{\"color\":\"#2a3f5f\"},\"marker\":{\"line\":{\"color\":\"#E5ECF6\",\"width\":0.5},\"pattern\":{\"fillmode\":\"overlay\",\"size\":10,\"solidity\":0.2}},\"type\":\"bar\"}],\"barpolar\":[{\"marker\":{\"line\":{\"color\":\"#E5ECF6\",\"width\":0.5},\"pattern\":{\"fillmode\":\"overlay\",\"size\":10,\"solidity\":0.2}},\"type\":\"barpolar\"}],\"carpet\":[{\"aaxis\":{\"endlinecolor\":\"#2a3f5f\",\"gridcolor\":\"white\",\"linecolor\":\"white\",\"minorgridcolor\":\"white\",\"startlinecolor\":\"#2a3f5f\"},\"baxis\":{\"endlinecolor\":\"#2a3f5f\",\"gridcolor\":\"white\",\"linecolor\":\"white\",\"minorgridcolor\":\"white\",\"startlinecolor\":\"#2a3f5f\"},\"type\":\"carpet\"}],\"choropleth\":[{\"colorbar\":{\"outlinewidth\":0,\"ticks\":\"\"},\"type\":\"choropleth\"}],\"contour\":[{\"colorbar\":{\"outlinewidth\":0,\"ticks\":\"\"},\"colorscale\":[[0.0,\"#0d0887\"],[0.1111111111111111,\"#46039f\"],[0.2222222222222222,\"#7201a8\"],[0.3333333333333333,\"#9c179e\"],[0.4444444444444444,\"#bd3786\"],[0.5555555555555556,\"#d8576b\"],[0.6666666666666666,\"#ed7953\"],[0.7777777777777778,\"#fb9f3a\"],[0.8888888888888888,\"#fdca26\"],[1.0,\"#f0f921\"]],\"type\":\"contour\"}],\"contourcarpet\":[{\"colorbar\":{\"outlinewidth\":0,\"ticks\":\"\"},\"type\":\"contourcarpet\"}],\"heatmap\":[{\"colorbar\":{\"outlinewidth\":0,\"ticks\":\"\"},\"colorscale\":[[0.0,\"#0d0887\"],[0.1111111111111111,\"#46039f\"],[0.2222222222222222,\"#7201a8\"],[0.3333333333333333,\"#9c179e\"],[0.4444444444444444,\"#bd3786\"],[0.5555555555555556,\"#d8576b\"],[0.6666666666666666,\"#ed7953\"],[0.7777777777777778,\"#fb9f3a\"],[0.8888888888888888,\"#fdca26\"],[1.0,\"#f0f921\"]],\"type\":\"heatmap\"}],\"heatmapgl\":[{\"colorbar\":{\"outlinewidth\":0,\"ticks\":\"\"},\"colorscale\":[[0.0,\"#0d0887\"],[0.1111111111111111,\"#46039f\"],[0.2222222222222222,\"#7201a8\"],[0.3333333333333333,\"#9c179e\"],[0.4444444444444444,\"#bd3786\"],[0.5555555555555556,\"#d8576b\"],[0.6666666666666666,\"#ed7953\"],[0.7777777777777778,\"#fb9f3a\"],[0.8888888888888888,\"#fdca26\"],[1.0,\"#f0f921\"]],\"type\":\"heatmapgl\"}],\"histogram\":[{\"marker\":{\"pattern\":{\"fillmode\":\"overlay\",\"size\":10,\"solidity\":0.2}},\"type\":\"histogram\"}],\"histogram2d\":[{\"colorbar\":{\"outlinewidth\":0,\"ticks\":\"\"},\"colorscale\":[[0.0,\"#0d0887\"],[0.1111111111111111,\"#46039f\"],[0.2222222222222222,\"#7201a8\"],[0.3333333333333333,\"#9c179e\"],[0.4444444444444444,\"#bd3786\"],[0.5555555555555556,\"#d8576b\"],[0.6666666666666666,\"#ed7953\"],[0.7777777777777778,\"#fb9f3a\"],[0.8888888888888888,\"#fdca26\"],[1.0,\"#f0f921\"]],\"type\":\"histogram2d\"}],\"histogram2dcontour\":[{\"colorbar\":{\"outlinewidth\":0,\"ticks\":\"\"},\"colorscale\":[[0.0,\"#0d0887\"],[0.1111111111111111,\"#46039f\"],[0.2222222222222222,\"#7201a8\"],[0.3333333333333333,\"#9c179e\"],[0.4444444444444444,\"#bd3786\"],[0.5555555555555556,\"#d8576b\"],[0.6666666666666666,\"#ed7953\"],[0.7777777777777778,\"#fb9f3a\"],[0.8888888888888888,\"#fdca26\"],[1.0,\"#f0f921\"]],\"type\":\"histogram2dcontour\"}],\"mesh3d\":[{\"colorbar\":{\"outlinewidth\":0,\"ticks\":\"\"},\"type\":\"mesh3d\"}],\"parcoords\":[{\"line\":{\"colorbar\":{\"outlinewidth\":0,\"ticks\":\"\"}},\"type\":\"parcoords\"}],\"pie\":[{\"automargin\":true,\"type\":\"pie\"}],\"scatter\":[{\"marker\":{\"colorbar\":{\"outlinewidth\":0,\"ticks\":\"\"}},\"type\":\"scatter\"}],\"scatter3d\":[{\"line\":{\"colorbar\":{\"outlinewidth\":0,\"ticks\":\"\"}},\"marker\":{\"colorbar\":{\"outlinewidth\":0,\"ticks\":\"\"}},\"type\":\"scatter3d\"}],\"scattercarpet\":[{\"marker\":{\"colorbar\":{\"outlinewidth\":0,\"ticks\":\"\"}},\"type\":\"scattercarpet\"}],\"scattergeo\":[{\"marker\":{\"colorbar\":{\"outlinewidth\":0,\"ticks\":\"\"}},\"type\":\"scattergeo\"}],\"scattergl\":[{\"marker\":{\"colorbar\":{\"outlinewidth\":0,\"ticks\":\"\"}},\"type\":\"scattergl\"}],\"scattermapbox\":[{\"marker\":{\"colorbar\":{\"outlinewidth\":0,\"ticks\":\"\"}},\"type\":\"scattermapbox\"}],\"scatterpolar\":[{\"marker\":{\"colorbar\":{\"outlinewidth\":0,\"ticks\":\"\"}},\"type\":\"scatterpolar\"}],\"scatterpolargl\":[{\"marker\":{\"colorbar\":{\"outlinewidth\":0,\"ticks\":\"\"}},\"type\":\"scatterpolargl\"}],\"scatterternary\":[{\"marker\":{\"colorbar\":{\"outlinewidth\":0,\"ticks\":\"\"}},\"type\":\"scatterternary\"}],\"surface\":[{\"colorbar\":{\"outlinewidth\":0,\"ticks\":\"\"},\"colorscale\":[[0.0,\"#0d0887\"],[0.1111111111111111,\"#46039f\"],[0.2222222222222222,\"#7201a8\"],[0.3333333333333333,\"#9c179e\"],[0.4444444444444444,\"#bd3786\"],[0.5555555555555556,\"#d8576b\"],[0.6666666666666666,\"#ed7953\"],[0.7777777777777778,\"#fb9f3a\"],[0.8888888888888888,\"#fdca26\"],[1.0,\"#f0f921\"]],\"type\":\"surface\"}],\"table\":[{\"cells\":{\"fill\":{\"color\":\"#EBF0F8\"},\"line\":{\"color\":\"white\"}},\"header\":{\"fill\":{\"color\":\"#C8D4E3\"},\"line\":{\"color\":\"white\"}},\"type\":\"table\"}]},\"layout\":{\"annotationdefaults\":{\"arrowcolor\":\"#2a3f5f\",\"arrowhead\":0,\"arrowwidth\":1},\"autotypenumbers\":\"strict\",\"coloraxis\":{\"colorbar\":{\"outlinewidth\":0,\"ticks\":\"\"}},\"colorscale\":{\"diverging\":[[0,\"#8e0152\"],[0.1,\"#c51b7d\"],[0.2,\"#de77ae\"],[0.3,\"#f1b6da\"],[0.4,\"#fde0ef\"],[0.5,\"#f7f7f7\"],[0.6,\"#e6f5d0\"],[0.7,\"#b8e186\"],[0.8,\"#7fbc41\"],[0.9,\"#4d9221\"],[1,\"#276419\"]],\"sequential\":[[0.0,\"#0d0887\"],[0.1111111111111111,\"#46039f\"],[0.2222222222222222,\"#7201a8\"],[0.3333333333333333,\"#9c179e\"],[0.4444444444444444,\"#bd3786\"],[0.5555555555555556,\"#d8576b\"],[0.6666666666666666,\"#ed7953\"],[0.7777777777777778,\"#fb9f3a\"],[0.8888888888888888,\"#fdca26\"],[1.0,\"#f0f921\"]],\"sequentialminus\":[[0.0,\"#0d0887\"],[0.1111111111111111,\"#46039f\"],[0.2222222222222222,\"#7201a8\"],[0.3333333333333333,\"#9c179e\"],[0.4444444444444444,\"#bd3786\"],[0.5555555555555556,\"#d8576b\"],[0.6666666666666666,\"#ed7953\"],[0.7777777777777778,\"#fb9f3a\"],[0.8888888888888888,\"#fdca26\"],[1.0,\"#f0f921\"]]},\"colorway\":[\"#636efa\",\"#EF553B\",\"#00cc96\",\"#ab63fa\",\"#FFA15A\",\"#19d3f3\",\"#FF6692\",\"#B6E880\",\"#FF97FF\",\"#FECB52\"],\"font\":{\"color\":\"#2a3f5f\"},\"geo\":{\"bgcolor\":\"white\",\"lakecolor\":\"white\",\"landcolor\":\"#E5ECF6\",\"showlakes\":true,\"showland\":true,\"subunitcolor\":\"white\"},\"hoverlabel\":{\"align\":\"left\"},\"hovermode\":\"closest\",\"mapbox\":{\"style\":\"light\"},\"paper_bgcolor\":\"white\",\"plot_bgcolor\":\"#E5ECF6\",\"polar\":{\"angularaxis\":{\"gridcolor\":\"white\",\"linecolor\":\"white\",\"ticks\":\"\"},\"bgcolor\":\"#E5ECF6\",\"radialaxis\":{\"gridcolor\":\"white\",\"linecolor\":\"white\",\"ticks\":\"\"}},\"scene\":{\"xaxis\":{\"backgroundcolor\":\"#E5ECF6\",\"gridcolor\":\"white\",\"gridwidth\":2,\"linecolor\":\"white\",\"showbackground\":true,\"ticks\":\"\",\"zerolinecolor\":\"white\"},\"yaxis\":{\"backgroundcolor\":\"#E5ECF6\",\"gridcolor\":\"white\",\"gridwidth\":2,\"linecolor\":\"white\",\"showbackground\":true,\"ticks\":\"\",\"zerolinecolor\":\"white\"},\"zaxis\":{\"backgroundcolor\":\"#E5ECF6\",\"gridcolor\":\"white\",\"gridwidth\":2,\"linecolor\":\"white\",\"showbackground\":true,\"ticks\":\"\",\"zerolinecolor\":\"white\"}},\"shapedefaults\":{\"line\":{\"color\":\"#2a3f5f\"}},\"ternary\":{\"aaxis\":{\"gridcolor\":\"white\",\"linecolor\":\"white\",\"ticks\":\"\"},\"baxis\":{\"gridcolor\":\"white\",\"linecolor\":\"white\",\"ticks\":\"\"},\"bgcolor\":\"#E5ECF6\",\"caxis\":{\"gridcolor\":\"white\",\"linecolor\":\"white\",\"ticks\":\"\"}},\"title\":{\"x\":0.05},\"xaxis\":{\"automargin\":true,\"gridcolor\":\"white\",\"linecolor\":\"white\",\"ticks\":\"\",\"title\":{\"standoff\":15},\"zerolinecolor\":\"white\",\"zerolinewidth\":2},\"yaxis\":{\"automargin\":true,\"gridcolor\":\"white\",\"linecolor\":\"white\",\"ticks\":\"\",\"title\":{\"standoff\":15},\"zerolinecolor\":\"white\",\"zerolinewidth\":2}}},\"xaxis\":{\"anchor\":\"y\",\"domain\":[0.0,1.0],\"range\":[\"2014\",\"2018\"],\"title\":{\"text\":\"Year\"}},\"yaxis\":{\"anchor\":\"x\",\"domain\":[0.0,1.0],\"title\":{\"text\":\"R&D Expenses\"}}},                        {\"responsive\": true}                    ).then(function(){\n",
       "                            \n",
       "var gd = document.getElementById('a7848da5-4778-4293-be00-d56f5d267b6b');\n",
       "var x = new MutationObserver(function (mutations, observer) {{\n",
       "        var display = window.getComputedStyle(gd).display;\n",
       "        if (!display || display === 'none') {{\n",
       "            console.log([gd, 'removed!']);\n",
       "            Plotly.purge(gd);\n",
       "            observer.disconnect();\n",
       "        }}\n",
       "}});\n",
       "\n",
       "// Listen for the removal of the full notebook cells\n",
       "var notebookContainer = gd.closest('#notebook-container');\n",
       "if (notebookContainer) {{\n",
       "    x.observe(notebookContainer, {childList: true});\n",
       "}}\n",
       "\n",
       "// Listen for the clearing of the current output cell\n",
       "var outputEl = gd.closest('.output');\n",
       "if (outputEl) {{\n",
       "    x.observe(outputEl, {childList: true});\n",
       "}}\n",
       "\n",
       "                        })                };                });            </script>        </div>"
      ]
     },
     "metadata": {},
     "output_type": "display_data"
    },
    {
     "data": {
      "application/vnd.plotly.v1+json": {
       "config": {
        "plotlyServerURL": "https://plot.ly"
       },
       "data": [
        {
         "hovertemplate": "Year=%{x}<br>PRICE_VAR=%{y}<extra></extra>",
         "legendgroup": "",
         "line": {
          "color": "#636efa",
          "dash": "solid"
         },
         "mode": "lines",
         "name": "",
         "orientation": "v",
         "showlegend": false,
         "type": "scatter",
         "x": [
          2014,
          2015,
          2016,
          2017,
          2018
         ],
         "xaxis": "x",
         "y": [
          null,
          12.384342354071732,
          48.0425080310413,
          -7.054338116735654,
          88.74246462864862
         ],
         "yaxis": "y"
        }
       ],
       "layout": {
        "legend": {
         "tracegroupgap": 0
        },
        "margin": {
         "t": 60
        },
        "template": {
         "data": {
          "bar": [
           {
            "error_x": {
             "color": "#2a3f5f"
            },
            "error_y": {
             "color": "#2a3f5f"
            },
            "marker": {
             "line": {
              "color": "#E5ECF6",
              "width": 0.5
             },
             "pattern": {
              "fillmode": "overlay",
              "size": 10,
              "solidity": 0.2
             }
            },
            "type": "bar"
           }
          ],
          "barpolar": [
           {
            "marker": {
             "line": {
              "color": "#E5ECF6",
              "width": 0.5
             },
             "pattern": {
              "fillmode": "overlay",
              "size": 10,
              "solidity": 0.2
             }
            },
            "type": "barpolar"
           }
          ],
          "carpet": [
           {
            "aaxis": {
             "endlinecolor": "#2a3f5f",
             "gridcolor": "white",
             "linecolor": "white",
             "minorgridcolor": "white",
             "startlinecolor": "#2a3f5f"
            },
            "baxis": {
             "endlinecolor": "#2a3f5f",
             "gridcolor": "white",
             "linecolor": "white",
             "minorgridcolor": "white",
             "startlinecolor": "#2a3f5f"
            },
            "type": "carpet"
           }
          ],
          "choropleth": [
           {
            "colorbar": {
             "outlinewidth": 0,
             "ticks": ""
            },
            "type": "choropleth"
           }
          ],
          "contour": [
           {
            "colorbar": {
             "outlinewidth": 0,
             "ticks": ""
            },
            "colorscale": [
             [
              0,
              "#0d0887"
             ],
             [
              0.1111111111111111,
              "#46039f"
             ],
             [
              0.2222222222222222,
              "#7201a8"
             ],
             [
              0.3333333333333333,
              "#9c179e"
             ],
             [
              0.4444444444444444,
              "#bd3786"
             ],
             [
              0.5555555555555556,
              "#d8576b"
             ],
             [
              0.6666666666666666,
              "#ed7953"
             ],
             [
              0.7777777777777778,
              "#fb9f3a"
             ],
             [
              0.8888888888888888,
              "#fdca26"
             ],
             [
              1,
              "#f0f921"
             ]
            ],
            "type": "contour"
           }
          ],
          "contourcarpet": [
           {
            "colorbar": {
             "outlinewidth": 0,
             "ticks": ""
            },
            "type": "contourcarpet"
           }
          ],
          "heatmap": [
           {
            "colorbar": {
             "outlinewidth": 0,
             "ticks": ""
            },
            "colorscale": [
             [
              0,
              "#0d0887"
             ],
             [
              0.1111111111111111,
              "#46039f"
             ],
             [
              0.2222222222222222,
              "#7201a8"
             ],
             [
              0.3333333333333333,
              "#9c179e"
             ],
             [
              0.4444444444444444,
              "#bd3786"
             ],
             [
              0.5555555555555556,
              "#d8576b"
             ],
             [
              0.6666666666666666,
              "#ed7953"
             ],
             [
              0.7777777777777778,
              "#fb9f3a"
             ],
             [
              0.8888888888888888,
              "#fdca26"
             ],
             [
              1,
              "#f0f921"
             ]
            ],
            "type": "heatmap"
           }
          ],
          "heatmapgl": [
           {
            "colorbar": {
             "outlinewidth": 0,
             "ticks": ""
            },
            "colorscale": [
             [
              0,
              "#0d0887"
             ],
             [
              0.1111111111111111,
              "#46039f"
             ],
             [
              0.2222222222222222,
              "#7201a8"
             ],
             [
              0.3333333333333333,
              "#9c179e"
             ],
             [
              0.4444444444444444,
              "#bd3786"
             ],
             [
              0.5555555555555556,
              "#d8576b"
             ],
             [
              0.6666666666666666,
              "#ed7953"
             ],
             [
              0.7777777777777778,
              "#fb9f3a"
             ],
             [
              0.8888888888888888,
              "#fdca26"
             ],
             [
              1,
              "#f0f921"
             ]
            ],
            "type": "heatmapgl"
           }
          ],
          "histogram": [
           {
            "marker": {
             "pattern": {
              "fillmode": "overlay",
              "size": 10,
              "solidity": 0.2
             }
            },
            "type": "histogram"
           }
          ],
          "histogram2d": [
           {
            "colorbar": {
             "outlinewidth": 0,
             "ticks": ""
            },
            "colorscale": [
             [
              0,
              "#0d0887"
             ],
             [
              0.1111111111111111,
              "#46039f"
             ],
             [
              0.2222222222222222,
              "#7201a8"
             ],
             [
              0.3333333333333333,
              "#9c179e"
             ],
             [
              0.4444444444444444,
              "#bd3786"
             ],
             [
              0.5555555555555556,
              "#d8576b"
             ],
             [
              0.6666666666666666,
              "#ed7953"
             ],
             [
              0.7777777777777778,
              "#fb9f3a"
             ],
             [
              0.8888888888888888,
              "#fdca26"
             ],
             [
              1,
              "#f0f921"
             ]
            ],
            "type": "histogram2d"
           }
          ],
          "histogram2dcontour": [
           {
            "colorbar": {
             "outlinewidth": 0,
             "ticks": ""
            },
            "colorscale": [
             [
              0,
              "#0d0887"
             ],
             [
              0.1111111111111111,
              "#46039f"
             ],
             [
              0.2222222222222222,
              "#7201a8"
             ],
             [
              0.3333333333333333,
              "#9c179e"
             ],
             [
              0.4444444444444444,
              "#bd3786"
             ],
             [
              0.5555555555555556,
              "#d8576b"
             ],
             [
              0.6666666666666666,
              "#ed7953"
             ],
             [
              0.7777777777777778,
              "#fb9f3a"
             ],
             [
              0.8888888888888888,
              "#fdca26"
             ],
             [
              1,
              "#f0f921"
             ]
            ],
            "type": "histogram2dcontour"
           }
          ],
          "mesh3d": [
           {
            "colorbar": {
             "outlinewidth": 0,
             "ticks": ""
            },
            "type": "mesh3d"
           }
          ],
          "parcoords": [
           {
            "line": {
             "colorbar": {
              "outlinewidth": 0,
              "ticks": ""
             }
            },
            "type": "parcoords"
           }
          ],
          "pie": [
           {
            "automargin": true,
            "type": "pie"
           }
          ],
          "scatter": [
           {
            "marker": {
             "colorbar": {
              "outlinewidth": 0,
              "ticks": ""
             }
            },
            "type": "scatter"
           }
          ],
          "scatter3d": [
           {
            "line": {
             "colorbar": {
              "outlinewidth": 0,
              "ticks": ""
             }
            },
            "marker": {
             "colorbar": {
              "outlinewidth": 0,
              "ticks": ""
             }
            },
            "type": "scatter3d"
           }
          ],
          "scattercarpet": [
           {
            "marker": {
             "colorbar": {
              "outlinewidth": 0,
              "ticks": ""
             }
            },
            "type": "scattercarpet"
           }
          ],
          "scattergeo": [
           {
            "marker": {
             "colorbar": {
              "outlinewidth": 0,
              "ticks": ""
             }
            },
            "type": "scattergeo"
           }
          ],
          "scattergl": [
           {
            "marker": {
             "colorbar": {
              "outlinewidth": 0,
              "ticks": ""
             }
            },
            "type": "scattergl"
           }
          ],
          "scattermapbox": [
           {
            "marker": {
             "colorbar": {
              "outlinewidth": 0,
              "ticks": ""
             }
            },
            "type": "scattermapbox"
           }
          ],
          "scatterpolar": [
           {
            "marker": {
             "colorbar": {
              "outlinewidth": 0,
              "ticks": ""
             }
            },
            "type": "scatterpolar"
           }
          ],
          "scatterpolargl": [
           {
            "marker": {
             "colorbar": {
              "outlinewidth": 0,
              "ticks": ""
             }
            },
            "type": "scatterpolargl"
           }
          ],
          "scatterternary": [
           {
            "marker": {
             "colorbar": {
              "outlinewidth": 0,
              "ticks": ""
             }
            },
            "type": "scatterternary"
           }
          ],
          "surface": [
           {
            "colorbar": {
             "outlinewidth": 0,
             "ticks": ""
            },
            "colorscale": [
             [
              0,
              "#0d0887"
             ],
             [
              0.1111111111111111,
              "#46039f"
             ],
             [
              0.2222222222222222,
              "#7201a8"
             ],
             [
              0.3333333333333333,
              "#9c179e"
             ],
             [
              0.4444444444444444,
              "#bd3786"
             ],
             [
              0.5555555555555556,
              "#d8576b"
             ],
             [
              0.6666666666666666,
              "#ed7953"
             ],
             [
              0.7777777777777778,
              "#fb9f3a"
             ],
             [
              0.8888888888888888,
              "#fdca26"
             ],
             [
              1,
              "#f0f921"
             ]
            ],
            "type": "surface"
           }
          ],
          "table": [
           {
            "cells": {
             "fill": {
              "color": "#EBF0F8"
             },
             "line": {
              "color": "white"
             }
            },
            "header": {
             "fill": {
              "color": "#C8D4E3"
             },
             "line": {
              "color": "white"
             }
            },
            "type": "table"
           }
          ]
         },
         "layout": {
          "annotationdefaults": {
           "arrowcolor": "#2a3f5f",
           "arrowhead": 0,
           "arrowwidth": 1
          },
          "autotypenumbers": "strict",
          "coloraxis": {
           "colorbar": {
            "outlinewidth": 0,
            "ticks": ""
           }
          },
          "colorscale": {
           "diverging": [
            [
             0,
             "#8e0152"
            ],
            [
             0.1,
             "#c51b7d"
            ],
            [
             0.2,
             "#de77ae"
            ],
            [
             0.3,
             "#f1b6da"
            ],
            [
             0.4,
             "#fde0ef"
            ],
            [
             0.5,
             "#f7f7f7"
            ],
            [
             0.6,
             "#e6f5d0"
            ],
            [
             0.7,
             "#b8e186"
            ],
            [
             0.8,
             "#7fbc41"
            ],
            [
             0.9,
             "#4d9221"
            ],
            [
             1,
             "#276419"
            ]
           ],
           "sequential": [
            [
             0,
             "#0d0887"
            ],
            [
             0.1111111111111111,
             "#46039f"
            ],
            [
             0.2222222222222222,
             "#7201a8"
            ],
            [
             0.3333333333333333,
             "#9c179e"
            ],
            [
             0.4444444444444444,
             "#bd3786"
            ],
            [
             0.5555555555555556,
             "#d8576b"
            ],
            [
             0.6666666666666666,
             "#ed7953"
            ],
            [
             0.7777777777777778,
             "#fb9f3a"
            ],
            [
             0.8888888888888888,
             "#fdca26"
            ],
            [
             1,
             "#f0f921"
            ]
           ],
           "sequentialminus": [
            [
             0,
             "#0d0887"
            ],
            [
             0.1111111111111111,
             "#46039f"
            ],
            [
             0.2222222222222222,
             "#7201a8"
            ],
            [
             0.3333333333333333,
             "#9c179e"
            ],
            [
             0.4444444444444444,
             "#bd3786"
            ],
            [
             0.5555555555555556,
             "#d8576b"
            ],
            [
             0.6666666666666666,
             "#ed7953"
            ],
            [
             0.7777777777777778,
             "#fb9f3a"
            ],
            [
             0.8888888888888888,
             "#fdca26"
            ],
            [
             1,
             "#f0f921"
            ]
           ]
          },
          "colorway": [
           "#636efa",
           "#EF553B",
           "#00cc96",
           "#ab63fa",
           "#FFA15A",
           "#19d3f3",
           "#FF6692",
           "#B6E880",
           "#FF97FF",
           "#FECB52"
          ],
          "font": {
           "color": "#2a3f5f"
          },
          "geo": {
           "bgcolor": "white",
           "lakecolor": "white",
           "landcolor": "#E5ECF6",
           "showlakes": true,
           "showland": true,
           "subunitcolor": "white"
          },
          "hoverlabel": {
           "align": "left"
          },
          "hovermode": "closest",
          "mapbox": {
           "style": "light"
          },
          "paper_bgcolor": "white",
          "plot_bgcolor": "#E5ECF6",
          "polar": {
           "angularaxis": {
            "gridcolor": "white",
            "linecolor": "white",
            "ticks": ""
           },
           "bgcolor": "#E5ECF6",
           "radialaxis": {
            "gridcolor": "white",
            "linecolor": "white",
            "ticks": ""
           }
          },
          "scene": {
           "xaxis": {
            "backgroundcolor": "#E5ECF6",
            "gridcolor": "white",
            "gridwidth": 2,
            "linecolor": "white",
            "showbackground": true,
            "ticks": "",
            "zerolinecolor": "white"
           },
           "yaxis": {
            "backgroundcolor": "#E5ECF6",
            "gridcolor": "white",
            "gridwidth": 2,
            "linecolor": "white",
            "showbackground": true,
            "ticks": "",
            "zerolinecolor": "white"
           },
           "zaxis": {
            "backgroundcolor": "#E5ECF6",
            "gridcolor": "white",
            "gridwidth": 2,
            "linecolor": "white",
            "showbackground": true,
            "ticks": "",
            "zerolinecolor": "white"
           }
          },
          "shapedefaults": {
           "line": {
            "color": "#2a3f5f"
           }
          },
          "ternary": {
           "aaxis": {
            "gridcolor": "white",
            "linecolor": "white",
            "ticks": ""
           },
           "baxis": {
            "gridcolor": "white",
            "linecolor": "white",
            "ticks": ""
           },
           "bgcolor": "#E5ECF6",
           "caxis": {
            "gridcolor": "white",
            "linecolor": "white",
            "ticks": ""
           }
          },
          "title": {
           "x": 0.05
          },
          "xaxis": {
           "automargin": true,
           "gridcolor": "white",
           "linecolor": "white",
           "ticks": "",
           "title": {
            "standoff": 15
           },
           "zerolinecolor": "white",
           "zerolinewidth": 2
          },
          "yaxis": {
           "automargin": true,
           "gridcolor": "white",
           "linecolor": "white",
           "ticks": "",
           "title": {
            "standoff": 15
           },
           "zerolinecolor": "white",
           "zerolinewidth": 2
          }
         }
        },
        "xaxis": {
         "anchor": "y",
         "domain": [
          0,
          1
         ],
         "range": [
          "2014",
          "2018"
         ],
         "title": {
          "text": "Year"
         }
        },
        "yaxis": {
         "anchor": "x",
         "domain": [
          0,
          1
         ],
         "title": {
          "text": "PRICE_VAR"
         }
        }
       }
      },
      "text/html": [
       "<div>                            <div id=\"0ba54f8e-60a2-4214-a42a-c786438c14f8\" class=\"plotly-graph-div\" style=\"height:525px; width:100%;\"></div>            <script type=\"text/javascript\">                require([\"plotly\"], function(Plotly) {                    window.PLOTLYENV=window.PLOTLYENV || {};                                    if (document.getElementById(\"0ba54f8e-60a2-4214-a42a-c786438c14f8\")) {                    Plotly.newPlot(                        \"0ba54f8e-60a2-4214-a42a-c786438c14f8\",                        [{\"hovertemplate\":\"Year=%{x}<br>PRICE_VAR=%{y}<extra></extra>\",\"legendgroup\":\"\",\"line\":{\"color\":\"#636efa\",\"dash\":\"solid\"},\"mode\":\"lines\",\"name\":\"\",\"orientation\":\"v\",\"showlegend\":false,\"type\":\"scatter\",\"x\":[2014,2015,2016,2017,2018],\"xaxis\":\"x\",\"y\":[null,12.384342354071732,48.0425080310413,-7.054338116735654,88.74246462864862],\"yaxis\":\"y\"}],                        {\"legend\":{\"tracegroupgap\":0},\"margin\":{\"t\":60},\"template\":{\"data\":{\"bar\":[{\"error_x\":{\"color\":\"#2a3f5f\"},\"error_y\":{\"color\":\"#2a3f5f\"},\"marker\":{\"line\":{\"color\":\"#E5ECF6\",\"width\":0.5},\"pattern\":{\"fillmode\":\"overlay\",\"size\":10,\"solidity\":0.2}},\"type\":\"bar\"}],\"barpolar\":[{\"marker\":{\"line\":{\"color\":\"#E5ECF6\",\"width\":0.5},\"pattern\":{\"fillmode\":\"overlay\",\"size\":10,\"solidity\":0.2}},\"type\":\"barpolar\"}],\"carpet\":[{\"aaxis\":{\"endlinecolor\":\"#2a3f5f\",\"gridcolor\":\"white\",\"linecolor\":\"white\",\"minorgridcolor\":\"white\",\"startlinecolor\":\"#2a3f5f\"},\"baxis\":{\"endlinecolor\":\"#2a3f5f\",\"gridcolor\":\"white\",\"linecolor\":\"white\",\"minorgridcolor\":\"white\",\"startlinecolor\":\"#2a3f5f\"},\"type\":\"carpet\"}],\"choropleth\":[{\"colorbar\":{\"outlinewidth\":0,\"ticks\":\"\"},\"type\":\"choropleth\"}],\"contour\":[{\"colorbar\":{\"outlinewidth\":0,\"ticks\":\"\"},\"colorscale\":[[0.0,\"#0d0887\"],[0.1111111111111111,\"#46039f\"],[0.2222222222222222,\"#7201a8\"],[0.3333333333333333,\"#9c179e\"],[0.4444444444444444,\"#bd3786\"],[0.5555555555555556,\"#d8576b\"],[0.6666666666666666,\"#ed7953\"],[0.7777777777777778,\"#fb9f3a\"],[0.8888888888888888,\"#fdca26\"],[1.0,\"#f0f921\"]],\"type\":\"contour\"}],\"contourcarpet\":[{\"colorbar\":{\"outlinewidth\":0,\"ticks\":\"\"},\"type\":\"contourcarpet\"}],\"heatmap\":[{\"colorbar\":{\"outlinewidth\":0,\"ticks\":\"\"},\"colorscale\":[[0.0,\"#0d0887\"],[0.1111111111111111,\"#46039f\"],[0.2222222222222222,\"#7201a8\"],[0.3333333333333333,\"#9c179e\"],[0.4444444444444444,\"#bd3786\"],[0.5555555555555556,\"#d8576b\"],[0.6666666666666666,\"#ed7953\"],[0.7777777777777778,\"#fb9f3a\"],[0.8888888888888888,\"#fdca26\"],[1.0,\"#f0f921\"]],\"type\":\"heatmap\"}],\"heatmapgl\":[{\"colorbar\":{\"outlinewidth\":0,\"ticks\":\"\"},\"colorscale\":[[0.0,\"#0d0887\"],[0.1111111111111111,\"#46039f\"],[0.2222222222222222,\"#7201a8\"],[0.3333333333333333,\"#9c179e\"],[0.4444444444444444,\"#bd3786\"],[0.5555555555555556,\"#d8576b\"],[0.6666666666666666,\"#ed7953\"],[0.7777777777777778,\"#fb9f3a\"],[0.8888888888888888,\"#fdca26\"],[1.0,\"#f0f921\"]],\"type\":\"heatmapgl\"}],\"histogram\":[{\"marker\":{\"pattern\":{\"fillmode\":\"overlay\",\"size\":10,\"solidity\":0.2}},\"type\":\"histogram\"}],\"histogram2d\":[{\"colorbar\":{\"outlinewidth\":0,\"ticks\":\"\"},\"colorscale\":[[0.0,\"#0d0887\"],[0.1111111111111111,\"#46039f\"],[0.2222222222222222,\"#7201a8\"],[0.3333333333333333,\"#9c179e\"],[0.4444444444444444,\"#bd3786\"],[0.5555555555555556,\"#d8576b\"],[0.6666666666666666,\"#ed7953\"],[0.7777777777777778,\"#fb9f3a\"],[0.8888888888888888,\"#fdca26\"],[1.0,\"#f0f921\"]],\"type\":\"histogram2d\"}],\"histogram2dcontour\":[{\"colorbar\":{\"outlinewidth\":0,\"ticks\":\"\"},\"colorscale\":[[0.0,\"#0d0887\"],[0.1111111111111111,\"#46039f\"],[0.2222222222222222,\"#7201a8\"],[0.3333333333333333,\"#9c179e\"],[0.4444444444444444,\"#bd3786\"],[0.5555555555555556,\"#d8576b\"],[0.6666666666666666,\"#ed7953\"],[0.7777777777777778,\"#fb9f3a\"],[0.8888888888888888,\"#fdca26\"],[1.0,\"#f0f921\"]],\"type\":\"histogram2dcontour\"}],\"mesh3d\":[{\"colorbar\":{\"outlinewidth\":0,\"ticks\":\"\"},\"type\":\"mesh3d\"}],\"parcoords\":[{\"line\":{\"colorbar\":{\"outlinewidth\":0,\"ticks\":\"\"}},\"type\":\"parcoords\"}],\"pie\":[{\"automargin\":true,\"type\":\"pie\"}],\"scatter\":[{\"marker\":{\"colorbar\":{\"outlinewidth\":0,\"ticks\":\"\"}},\"type\":\"scatter\"}],\"scatter3d\":[{\"line\":{\"colorbar\":{\"outlinewidth\":0,\"ticks\":\"\"}},\"marker\":{\"colorbar\":{\"outlinewidth\":0,\"ticks\":\"\"}},\"type\":\"scatter3d\"}],\"scattercarpet\":[{\"marker\":{\"colorbar\":{\"outlinewidth\":0,\"ticks\":\"\"}},\"type\":\"scattercarpet\"}],\"scattergeo\":[{\"marker\":{\"colorbar\":{\"outlinewidth\":0,\"ticks\":\"\"}},\"type\":\"scattergeo\"}],\"scattergl\":[{\"marker\":{\"colorbar\":{\"outlinewidth\":0,\"ticks\":\"\"}},\"type\":\"scattergl\"}],\"scattermapbox\":[{\"marker\":{\"colorbar\":{\"outlinewidth\":0,\"ticks\":\"\"}},\"type\":\"scattermapbox\"}],\"scatterpolar\":[{\"marker\":{\"colorbar\":{\"outlinewidth\":0,\"ticks\":\"\"}},\"type\":\"scatterpolar\"}],\"scatterpolargl\":[{\"marker\":{\"colorbar\":{\"outlinewidth\":0,\"ticks\":\"\"}},\"type\":\"scatterpolargl\"}],\"scatterternary\":[{\"marker\":{\"colorbar\":{\"outlinewidth\":0,\"ticks\":\"\"}},\"type\":\"scatterternary\"}],\"surface\":[{\"colorbar\":{\"outlinewidth\":0,\"ticks\":\"\"},\"colorscale\":[[0.0,\"#0d0887\"],[0.1111111111111111,\"#46039f\"],[0.2222222222222222,\"#7201a8\"],[0.3333333333333333,\"#9c179e\"],[0.4444444444444444,\"#bd3786\"],[0.5555555555555556,\"#d8576b\"],[0.6666666666666666,\"#ed7953\"],[0.7777777777777778,\"#fb9f3a\"],[0.8888888888888888,\"#fdca26\"],[1.0,\"#f0f921\"]],\"type\":\"surface\"}],\"table\":[{\"cells\":{\"fill\":{\"color\":\"#EBF0F8\"},\"line\":{\"color\":\"white\"}},\"header\":{\"fill\":{\"color\":\"#C8D4E3\"},\"line\":{\"color\":\"white\"}},\"type\":\"table\"}]},\"layout\":{\"annotationdefaults\":{\"arrowcolor\":\"#2a3f5f\",\"arrowhead\":0,\"arrowwidth\":1},\"autotypenumbers\":\"strict\",\"coloraxis\":{\"colorbar\":{\"outlinewidth\":0,\"ticks\":\"\"}},\"colorscale\":{\"diverging\":[[0,\"#8e0152\"],[0.1,\"#c51b7d\"],[0.2,\"#de77ae\"],[0.3,\"#f1b6da\"],[0.4,\"#fde0ef\"],[0.5,\"#f7f7f7\"],[0.6,\"#e6f5d0\"],[0.7,\"#b8e186\"],[0.8,\"#7fbc41\"],[0.9,\"#4d9221\"],[1,\"#276419\"]],\"sequential\":[[0.0,\"#0d0887\"],[0.1111111111111111,\"#46039f\"],[0.2222222222222222,\"#7201a8\"],[0.3333333333333333,\"#9c179e\"],[0.4444444444444444,\"#bd3786\"],[0.5555555555555556,\"#d8576b\"],[0.6666666666666666,\"#ed7953\"],[0.7777777777777778,\"#fb9f3a\"],[0.8888888888888888,\"#fdca26\"],[1.0,\"#f0f921\"]],\"sequentialminus\":[[0.0,\"#0d0887\"],[0.1111111111111111,\"#46039f\"],[0.2222222222222222,\"#7201a8\"],[0.3333333333333333,\"#9c179e\"],[0.4444444444444444,\"#bd3786\"],[0.5555555555555556,\"#d8576b\"],[0.6666666666666666,\"#ed7953\"],[0.7777777777777778,\"#fb9f3a\"],[0.8888888888888888,\"#fdca26\"],[1.0,\"#f0f921\"]]},\"colorway\":[\"#636efa\",\"#EF553B\",\"#00cc96\",\"#ab63fa\",\"#FFA15A\",\"#19d3f3\",\"#FF6692\",\"#B6E880\",\"#FF97FF\",\"#FECB52\"],\"font\":{\"color\":\"#2a3f5f\"},\"geo\":{\"bgcolor\":\"white\",\"lakecolor\":\"white\",\"landcolor\":\"#E5ECF6\",\"showlakes\":true,\"showland\":true,\"subunitcolor\":\"white\"},\"hoverlabel\":{\"align\":\"left\"},\"hovermode\":\"closest\",\"mapbox\":{\"style\":\"light\"},\"paper_bgcolor\":\"white\",\"plot_bgcolor\":\"#E5ECF6\",\"polar\":{\"angularaxis\":{\"gridcolor\":\"white\",\"linecolor\":\"white\",\"ticks\":\"\"},\"bgcolor\":\"#E5ECF6\",\"radialaxis\":{\"gridcolor\":\"white\",\"linecolor\":\"white\",\"ticks\":\"\"}},\"scene\":{\"xaxis\":{\"backgroundcolor\":\"#E5ECF6\",\"gridcolor\":\"white\",\"gridwidth\":2,\"linecolor\":\"white\",\"showbackground\":true,\"ticks\":\"\",\"zerolinecolor\":\"white\"},\"yaxis\":{\"backgroundcolor\":\"#E5ECF6\",\"gridcolor\":\"white\",\"gridwidth\":2,\"linecolor\":\"white\",\"showbackground\":true,\"ticks\":\"\",\"zerolinecolor\":\"white\"},\"zaxis\":{\"backgroundcolor\":\"#E5ECF6\",\"gridcolor\":\"white\",\"gridwidth\":2,\"linecolor\":\"white\",\"showbackground\":true,\"ticks\":\"\",\"zerolinecolor\":\"white\"}},\"shapedefaults\":{\"line\":{\"color\":\"#2a3f5f\"}},\"ternary\":{\"aaxis\":{\"gridcolor\":\"white\",\"linecolor\":\"white\",\"ticks\":\"\"},\"baxis\":{\"gridcolor\":\"white\",\"linecolor\":\"white\",\"ticks\":\"\"},\"bgcolor\":\"#E5ECF6\",\"caxis\":{\"gridcolor\":\"white\",\"linecolor\":\"white\",\"ticks\":\"\"}},\"title\":{\"x\":0.05},\"xaxis\":{\"automargin\":true,\"gridcolor\":\"white\",\"linecolor\":\"white\",\"ticks\":\"\",\"title\":{\"standoff\":15},\"zerolinecolor\":\"white\",\"zerolinewidth\":2},\"yaxis\":{\"automargin\":true,\"gridcolor\":\"white\",\"linecolor\":\"white\",\"ticks\":\"\",\"title\":{\"standoff\":15},\"zerolinecolor\":\"white\",\"zerolinewidth\":2}}},\"xaxis\":{\"anchor\":\"y\",\"domain\":[0.0,1.0],\"range\":[\"2014\",\"2018\"],\"title\":{\"text\":\"Year\"}},\"yaxis\":{\"anchor\":\"x\",\"domain\":[0.0,1.0],\"title\":{\"text\":\"PRICE_VAR\"}}},                        {\"responsive\": true}                    ).then(function(){\n",
       "                            \n",
       "var gd = document.getElementById('0ba54f8e-60a2-4214-a42a-c786438c14f8');\n",
       "var x = new MutationObserver(function (mutations, observer) {{\n",
       "        var display = window.getComputedStyle(gd).display;\n",
       "        if (!display || display === 'none') {{\n",
       "            console.log([gd, 'removed!']);\n",
       "            Plotly.purge(gd);\n",
       "            observer.disconnect();\n",
       "        }}\n",
       "}});\n",
       "\n",
       "// Listen for the removal of the full notebook cells\n",
       "var notebookContainer = gd.closest('#notebook-container');\n",
       "if (notebookContainer) {{\n",
       "    x.observe(notebookContainer, {childList: true});\n",
       "}}\n",
       "\n",
       "// Listen for the clearing of the current output cell\n",
       "var outputEl = gd.closest('.output');\n",
       "if (outputEl) {{\n",
       "    x.observe(outputEl, {childList: true});\n",
       "}}\n",
       "\n",
       "                        })                };                });            </script>        </div>"
      ]
     },
     "metadata": {},
     "output_type": "display_data"
    },
    {
     "data": {
      "application/vnd.plotly.v1+json": {
       "config": {
        "plotlyServerURL": "https://plot.ly"
       },
       "data": [
        {
         "hovertemplate": "Year=%{x}<br>Revenue per Share=%{y}<extra></extra>",
         "legendgroup": "",
         "line": {
          "color": "#636efa",
          "dash": "solid"
         },
         "mode": "lines",
         "name": "",
         "orientation": "v",
         "showlegend": false,
         "type": "scatter",
         "x": [
          2014,
          2015,
          2016,
          2017,
          2018
         ],
         "xaxis": "x",
         "y": [
          30.0374,
          40.6219,
          39.4162,
          43.9378,
          53.5973
         ],
         "yaxis": "y"
        }
       ],
       "layout": {
        "legend": {
         "tracegroupgap": 0
        },
        "margin": {
         "t": 60
        },
        "template": {
         "data": {
          "bar": [
           {
            "error_x": {
             "color": "#2a3f5f"
            },
            "error_y": {
             "color": "#2a3f5f"
            },
            "marker": {
             "line": {
              "color": "#E5ECF6",
              "width": 0.5
             },
             "pattern": {
              "fillmode": "overlay",
              "size": 10,
              "solidity": 0.2
             }
            },
            "type": "bar"
           }
          ],
          "barpolar": [
           {
            "marker": {
             "line": {
              "color": "#E5ECF6",
              "width": 0.5
             },
             "pattern": {
              "fillmode": "overlay",
              "size": 10,
              "solidity": 0.2
             }
            },
            "type": "barpolar"
           }
          ],
          "carpet": [
           {
            "aaxis": {
             "endlinecolor": "#2a3f5f",
             "gridcolor": "white",
             "linecolor": "white",
             "minorgridcolor": "white",
             "startlinecolor": "#2a3f5f"
            },
            "baxis": {
             "endlinecolor": "#2a3f5f",
             "gridcolor": "white",
             "linecolor": "white",
             "minorgridcolor": "white",
             "startlinecolor": "#2a3f5f"
            },
            "type": "carpet"
           }
          ],
          "choropleth": [
           {
            "colorbar": {
             "outlinewidth": 0,
             "ticks": ""
            },
            "type": "choropleth"
           }
          ],
          "contour": [
           {
            "colorbar": {
             "outlinewidth": 0,
             "ticks": ""
            },
            "colorscale": [
             [
              0,
              "#0d0887"
             ],
             [
              0.1111111111111111,
              "#46039f"
             ],
             [
              0.2222222222222222,
              "#7201a8"
             ],
             [
              0.3333333333333333,
              "#9c179e"
             ],
             [
              0.4444444444444444,
              "#bd3786"
             ],
             [
              0.5555555555555556,
              "#d8576b"
             ],
             [
              0.6666666666666666,
              "#ed7953"
             ],
             [
              0.7777777777777778,
              "#fb9f3a"
             ],
             [
              0.8888888888888888,
              "#fdca26"
             ],
             [
              1,
              "#f0f921"
             ]
            ],
            "type": "contour"
           }
          ],
          "contourcarpet": [
           {
            "colorbar": {
             "outlinewidth": 0,
             "ticks": ""
            },
            "type": "contourcarpet"
           }
          ],
          "heatmap": [
           {
            "colorbar": {
             "outlinewidth": 0,
             "ticks": ""
            },
            "colorscale": [
             [
              0,
              "#0d0887"
             ],
             [
              0.1111111111111111,
              "#46039f"
             ],
             [
              0.2222222222222222,
              "#7201a8"
             ],
             [
              0.3333333333333333,
              "#9c179e"
             ],
             [
              0.4444444444444444,
              "#bd3786"
             ],
             [
              0.5555555555555556,
              "#d8576b"
             ],
             [
              0.6666666666666666,
              "#ed7953"
             ],
             [
              0.7777777777777778,
              "#fb9f3a"
             ],
             [
              0.8888888888888888,
              "#fdca26"
             ],
             [
              1,
              "#f0f921"
             ]
            ],
            "type": "heatmap"
           }
          ],
          "heatmapgl": [
           {
            "colorbar": {
             "outlinewidth": 0,
             "ticks": ""
            },
            "colorscale": [
             [
              0,
              "#0d0887"
             ],
             [
              0.1111111111111111,
              "#46039f"
             ],
             [
              0.2222222222222222,
              "#7201a8"
             ],
             [
              0.3333333333333333,
              "#9c179e"
             ],
             [
              0.4444444444444444,
              "#bd3786"
             ],
             [
              0.5555555555555556,
              "#d8576b"
             ],
             [
              0.6666666666666666,
              "#ed7953"
             ],
             [
              0.7777777777777778,
              "#fb9f3a"
             ],
             [
              0.8888888888888888,
              "#fdca26"
             ],
             [
              1,
              "#f0f921"
             ]
            ],
            "type": "heatmapgl"
           }
          ],
          "histogram": [
           {
            "marker": {
             "pattern": {
              "fillmode": "overlay",
              "size": 10,
              "solidity": 0.2
             }
            },
            "type": "histogram"
           }
          ],
          "histogram2d": [
           {
            "colorbar": {
             "outlinewidth": 0,
             "ticks": ""
            },
            "colorscale": [
             [
              0,
              "#0d0887"
             ],
             [
              0.1111111111111111,
              "#46039f"
             ],
             [
              0.2222222222222222,
              "#7201a8"
             ],
             [
              0.3333333333333333,
              "#9c179e"
             ],
             [
              0.4444444444444444,
              "#bd3786"
             ],
             [
              0.5555555555555556,
              "#d8576b"
             ],
             [
              0.6666666666666666,
              "#ed7953"
             ],
             [
              0.7777777777777778,
              "#fb9f3a"
             ],
             [
              0.8888888888888888,
              "#fdca26"
             ],
             [
              1,
              "#f0f921"
             ]
            ],
            "type": "histogram2d"
           }
          ],
          "histogram2dcontour": [
           {
            "colorbar": {
             "outlinewidth": 0,
             "ticks": ""
            },
            "colorscale": [
             [
              0,
              "#0d0887"
             ],
             [
              0.1111111111111111,
              "#46039f"
             ],
             [
              0.2222222222222222,
              "#7201a8"
             ],
             [
              0.3333333333333333,
              "#9c179e"
             ],
             [
              0.4444444444444444,
              "#bd3786"
             ],
             [
              0.5555555555555556,
              "#d8576b"
             ],
             [
              0.6666666666666666,
              "#ed7953"
             ],
             [
              0.7777777777777778,
              "#fb9f3a"
             ],
             [
              0.8888888888888888,
              "#fdca26"
             ],
             [
              1,
              "#f0f921"
             ]
            ],
            "type": "histogram2dcontour"
           }
          ],
          "mesh3d": [
           {
            "colorbar": {
             "outlinewidth": 0,
             "ticks": ""
            },
            "type": "mesh3d"
           }
          ],
          "parcoords": [
           {
            "line": {
             "colorbar": {
              "outlinewidth": 0,
              "ticks": ""
             }
            },
            "type": "parcoords"
           }
          ],
          "pie": [
           {
            "automargin": true,
            "type": "pie"
           }
          ],
          "scatter": [
           {
            "marker": {
             "colorbar": {
              "outlinewidth": 0,
              "ticks": ""
             }
            },
            "type": "scatter"
           }
          ],
          "scatter3d": [
           {
            "line": {
             "colorbar": {
              "outlinewidth": 0,
              "ticks": ""
             }
            },
            "marker": {
             "colorbar": {
              "outlinewidth": 0,
              "ticks": ""
             }
            },
            "type": "scatter3d"
           }
          ],
          "scattercarpet": [
           {
            "marker": {
             "colorbar": {
              "outlinewidth": 0,
              "ticks": ""
             }
            },
            "type": "scattercarpet"
           }
          ],
          "scattergeo": [
           {
            "marker": {
             "colorbar": {
              "outlinewidth": 0,
              "ticks": ""
             }
            },
            "type": "scattergeo"
           }
          ],
          "scattergl": [
           {
            "marker": {
             "colorbar": {
              "outlinewidth": 0,
              "ticks": ""
             }
            },
            "type": "scattergl"
           }
          ],
          "scattermapbox": [
           {
            "marker": {
             "colorbar": {
              "outlinewidth": 0,
              "ticks": ""
             }
            },
            "type": "scattermapbox"
           }
          ],
          "scatterpolar": [
           {
            "marker": {
             "colorbar": {
              "outlinewidth": 0,
              "ticks": ""
             }
            },
            "type": "scatterpolar"
           }
          ],
          "scatterpolargl": [
           {
            "marker": {
             "colorbar": {
              "outlinewidth": 0,
              "ticks": ""
             }
            },
            "type": "scatterpolargl"
           }
          ],
          "scatterternary": [
           {
            "marker": {
             "colorbar": {
              "outlinewidth": 0,
              "ticks": ""
             }
            },
            "type": "scatterternary"
           }
          ],
          "surface": [
           {
            "colorbar": {
             "outlinewidth": 0,
             "ticks": ""
            },
            "colorscale": [
             [
              0,
              "#0d0887"
             ],
             [
              0.1111111111111111,
              "#46039f"
             ],
             [
              0.2222222222222222,
              "#7201a8"
             ],
             [
              0.3333333333333333,
              "#9c179e"
             ],
             [
              0.4444444444444444,
              "#bd3786"
             ],
             [
              0.5555555555555556,
              "#d8576b"
             ],
             [
              0.6666666666666666,
              "#ed7953"
             ],
             [
              0.7777777777777778,
              "#fb9f3a"
             ],
             [
              0.8888888888888888,
              "#fdca26"
             ],
             [
              1,
              "#f0f921"
             ]
            ],
            "type": "surface"
           }
          ],
          "table": [
           {
            "cells": {
             "fill": {
              "color": "#EBF0F8"
             },
             "line": {
              "color": "white"
             }
            },
            "header": {
             "fill": {
              "color": "#C8D4E3"
             },
             "line": {
              "color": "white"
             }
            },
            "type": "table"
           }
          ]
         },
         "layout": {
          "annotationdefaults": {
           "arrowcolor": "#2a3f5f",
           "arrowhead": 0,
           "arrowwidth": 1
          },
          "autotypenumbers": "strict",
          "coloraxis": {
           "colorbar": {
            "outlinewidth": 0,
            "ticks": ""
           }
          },
          "colorscale": {
           "diverging": [
            [
             0,
             "#8e0152"
            ],
            [
             0.1,
             "#c51b7d"
            ],
            [
             0.2,
             "#de77ae"
            ],
            [
             0.3,
             "#f1b6da"
            ],
            [
             0.4,
             "#fde0ef"
            ],
            [
             0.5,
             "#f7f7f7"
            ],
            [
             0.6,
             "#e6f5d0"
            ],
            [
             0.7,
             "#b8e186"
            ],
            [
             0.8,
             "#7fbc41"
            ],
            [
             0.9,
             "#4d9221"
            ],
            [
             1,
             "#276419"
            ]
           ],
           "sequential": [
            [
             0,
             "#0d0887"
            ],
            [
             0.1111111111111111,
             "#46039f"
            ],
            [
             0.2222222222222222,
             "#7201a8"
            ],
            [
             0.3333333333333333,
             "#9c179e"
            ],
            [
             0.4444444444444444,
             "#bd3786"
            ],
            [
             0.5555555555555556,
             "#d8576b"
            ],
            [
             0.6666666666666666,
             "#ed7953"
            ],
            [
             0.7777777777777778,
             "#fb9f3a"
            ],
            [
             0.8888888888888888,
             "#fdca26"
            ],
            [
             1,
             "#f0f921"
            ]
           ],
           "sequentialminus": [
            [
             0,
             "#0d0887"
            ],
            [
             0.1111111111111111,
             "#46039f"
            ],
            [
             0.2222222222222222,
             "#7201a8"
            ],
            [
             0.3333333333333333,
             "#9c179e"
            ],
            [
             0.4444444444444444,
             "#bd3786"
            ],
            [
             0.5555555555555556,
             "#d8576b"
            ],
            [
             0.6666666666666666,
             "#ed7953"
            ],
            [
             0.7777777777777778,
             "#fb9f3a"
            ],
            [
             0.8888888888888888,
             "#fdca26"
            ],
            [
             1,
             "#f0f921"
            ]
           ]
          },
          "colorway": [
           "#636efa",
           "#EF553B",
           "#00cc96",
           "#ab63fa",
           "#FFA15A",
           "#19d3f3",
           "#FF6692",
           "#B6E880",
           "#FF97FF",
           "#FECB52"
          ],
          "font": {
           "color": "#2a3f5f"
          },
          "geo": {
           "bgcolor": "white",
           "lakecolor": "white",
           "landcolor": "#E5ECF6",
           "showlakes": true,
           "showland": true,
           "subunitcolor": "white"
          },
          "hoverlabel": {
           "align": "left"
          },
          "hovermode": "closest",
          "mapbox": {
           "style": "light"
          },
          "paper_bgcolor": "white",
          "plot_bgcolor": "#E5ECF6",
          "polar": {
           "angularaxis": {
            "gridcolor": "white",
            "linecolor": "white",
            "ticks": ""
           },
           "bgcolor": "#E5ECF6",
           "radialaxis": {
            "gridcolor": "white",
            "linecolor": "white",
            "ticks": ""
           }
          },
          "scene": {
           "xaxis": {
            "backgroundcolor": "#E5ECF6",
            "gridcolor": "white",
            "gridwidth": 2,
            "linecolor": "white",
            "showbackground": true,
            "ticks": "",
            "zerolinecolor": "white"
           },
           "yaxis": {
            "backgroundcolor": "#E5ECF6",
            "gridcolor": "white",
            "gridwidth": 2,
            "linecolor": "white",
            "showbackground": true,
            "ticks": "",
            "zerolinecolor": "white"
           },
           "zaxis": {
            "backgroundcolor": "#E5ECF6",
            "gridcolor": "white",
            "gridwidth": 2,
            "linecolor": "white",
            "showbackground": true,
            "ticks": "",
            "zerolinecolor": "white"
           }
          },
          "shapedefaults": {
           "line": {
            "color": "#2a3f5f"
           }
          },
          "ternary": {
           "aaxis": {
            "gridcolor": "white",
            "linecolor": "white",
            "ticks": ""
           },
           "baxis": {
            "gridcolor": "white",
            "linecolor": "white",
            "ticks": ""
           },
           "bgcolor": "#E5ECF6",
           "caxis": {
            "gridcolor": "white",
            "linecolor": "white",
            "ticks": ""
           }
          },
          "title": {
           "x": 0.05
          },
          "xaxis": {
           "automargin": true,
           "gridcolor": "white",
           "linecolor": "white",
           "ticks": "",
           "title": {
            "standoff": 15
           },
           "zerolinecolor": "white",
           "zerolinewidth": 2
          },
          "yaxis": {
           "automargin": true,
           "gridcolor": "white",
           "linecolor": "white",
           "ticks": "",
           "title": {
            "standoff": 15
           },
           "zerolinecolor": "white",
           "zerolinewidth": 2
          }
         }
        },
        "xaxis": {
         "anchor": "y",
         "domain": [
          0,
          1
         ],
         "range": [
          "2014",
          "2018"
         ],
         "title": {
          "text": "Year"
         }
        },
        "yaxis": {
         "anchor": "x",
         "domain": [
          0,
          1
         ],
         "title": {
          "text": "Revenue per Share"
         }
        }
       }
      },
      "text/html": [
       "<div>                            <div id=\"7ea65981-6a77-4ee7-a0db-1fa0fea9456c\" class=\"plotly-graph-div\" style=\"height:525px; width:100%;\"></div>            <script type=\"text/javascript\">                require([\"plotly\"], function(Plotly) {                    window.PLOTLYENV=window.PLOTLYENV || {};                                    if (document.getElementById(\"7ea65981-6a77-4ee7-a0db-1fa0fea9456c\")) {                    Plotly.newPlot(                        \"7ea65981-6a77-4ee7-a0db-1fa0fea9456c\",                        [{\"hovertemplate\":\"Year=%{x}<br>Revenue per Share=%{y}<extra></extra>\",\"legendgroup\":\"\",\"line\":{\"color\":\"#636efa\",\"dash\":\"solid\"},\"mode\":\"lines\",\"name\":\"\",\"orientation\":\"v\",\"showlegend\":false,\"type\":\"scatter\",\"x\":[2014,2015,2016,2017,2018],\"xaxis\":\"x\",\"y\":[30.0374,40.6219,39.4162,43.9378,53.5973],\"yaxis\":\"y\"}],                        {\"legend\":{\"tracegroupgap\":0},\"margin\":{\"t\":60},\"template\":{\"data\":{\"bar\":[{\"error_x\":{\"color\":\"#2a3f5f\"},\"error_y\":{\"color\":\"#2a3f5f\"},\"marker\":{\"line\":{\"color\":\"#E5ECF6\",\"width\":0.5},\"pattern\":{\"fillmode\":\"overlay\",\"size\":10,\"solidity\":0.2}},\"type\":\"bar\"}],\"barpolar\":[{\"marker\":{\"line\":{\"color\":\"#E5ECF6\",\"width\":0.5},\"pattern\":{\"fillmode\":\"overlay\",\"size\":10,\"solidity\":0.2}},\"type\":\"barpolar\"}],\"carpet\":[{\"aaxis\":{\"endlinecolor\":\"#2a3f5f\",\"gridcolor\":\"white\",\"linecolor\":\"white\",\"minorgridcolor\":\"white\",\"startlinecolor\":\"#2a3f5f\"},\"baxis\":{\"endlinecolor\":\"#2a3f5f\",\"gridcolor\":\"white\",\"linecolor\":\"white\",\"minorgridcolor\":\"white\",\"startlinecolor\":\"#2a3f5f\"},\"type\":\"carpet\"}],\"choropleth\":[{\"colorbar\":{\"outlinewidth\":0,\"ticks\":\"\"},\"type\":\"choropleth\"}],\"contour\":[{\"colorbar\":{\"outlinewidth\":0,\"ticks\":\"\"},\"colorscale\":[[0.0,\"#0d0887\"],[0.1111111111111111,\"#46039f\"],[0.2222222222222222,\"#7201a8\"],[0.3333333333333333,\"#9c179e\"],[0.4444444444444444,\"#bd3786\"],[0.5555555555555556,\"#d8576b\"],[0.6666666666666666,\"#ed7953\"],[0.7777777777777778,\"#fb9f3a\"],[0.8888888888888888,\"#fdca26\"],[1.0,\"#f0f921\"]],\"type\":\"contour\"}],\"contourcarpet\":[{\"colorbar\":{\"outlinewidth\":0,\"ticks\":\"\"},\"type\":\"contourcarpet\"}],\"heatmap\":[{\"colorbar\":{\"outlinewidth\":0,\"ticks\":\"\"},\"colorscale\":[[0.0,\"#0d0887\"],[0.1111111111111111,\"#46039f\"],[0.2222222222222222,\"#7201a8\"],[0.3333333333333333,\"#9c179e\"],[0.4444444444444444,\"#bd3786\"],[0.5555555555555556,\"#d8576b\"],[0.6666666666666666,\"#ed7953\"],[0.7777777777777778,\"#fb9f3a\"],[0.8888888888888888,\"#fdca26\"],[1.0,\"#f0f921\"]],\"type\":\"heatmap\"}],\"heatmapgl\":[{\"colorbar\":{\"outlinewidth\":0,\"ticks\":\"\"},\"colorscale\":[[0.0,\"#0d0887\"],[0.1111111111111111,\"#46039f\"],[0.2222222222222222,\"#7201a8\"],[0.3333333333333333,\"#9c179e\"],[0.4444444444444444,\"#bd3786\"],[0.5555555555555556,\"#d8576b\"],[0.6666666666666666,\"#ed7953\"],[0.7777777777777778,\"#fb9f3a\"],[0.8888888888888888,\"#fdca26\"],[1.0,\"#f0f921\"]],\"type\":\"heatmapgl\"}],\"histogram\":[{\"marker\":{\"pattern\":{\"fillmode\":\"overlay\",\"size\":10,\"solidity\":0.2}},\"type\":\"histogram\"}],\"histogram2d\":[{\"colorbar\":{\"outlinewidth\":0,\"ticks\":\"\"},\"colorscale\":[[0.0,\"#0d0887\"],[0.1111111111111111,\"#46039f\"],[0.2222222222222222,\"#7201a8\"],[0.3333333333333333,\"#9c179e\"],[0.4444444444444444,\"#bd3786\"],[0.5555555555555556,\"#d8576b\"],[0.6666666666666666,\"#ed7953\"],[0.7777777777777778,\"#fb9f3a\"],[0.8888888888888888,\"#fdca26\"],[1.0,\"#f0f921\"]],\"type\":\"histogram2d\"}],\"histogram2dcontour\":[{\"colorbar\":{\"outlinewidth\":0,\"ticks\":\"\"},\"colorscale\":[[0.0,\"#0d0887\"],[0.1111111111111111,\"#46039f\"],[0.2222222222222222,\"#7201a8\"],[0.3333333333333333,\"#9c179e\"],[0.4444444444444444,\"#bd3786\"],[0.5555555555555556,\"#d8576b\"],[0.6666666666666666,\"#ed7953\"],[0.7777777777777778,\"#fb9f3a\"],[0.8888888888888888,\"#fdca26\"],[1.0,\"#f0f921\"]],\"type\":\"histogram2dcontour\"}],\"mesh3d\":[{\"colorbar\":{\"outlinewidth\":0,\"ticks\":\"\"},\"type\":\"mesh3d\"}],\"parcoords\":[{\"line\":{\"colorbar\":{\"outlinewidth\":0,\"ticks\":\"\"}},\"type\":\"parcoords\"}],\"pie\":[{\"automargin\":true,\"type\":\"pie\"}],\"scatter\":[{\"marker\":{\"colorbar\":{\"outlinewidth\":0,\"ticks\":\"\"}},\"type\":\"scatter\"}],\"scatter3d\":[{\"line\":{\"colorbar\":{\"outlinewidth\":0,\"ticks\":\"\"}},\"marker\":{\"colorbar\":{\"outlinewidth\":0,\"ticks\":\"\"}},\"type\":\"scatter3d\"}],\"scattercarpet\":[{\"marker\":{\"colorbar\":{\"outlinewidth\":0,\"ticks\":\"\"}},\"type\":\"scattercarpet\"}],\"scattergeo\":[{\"marker\":{\"colorbar\":{\"outlinewidth\":0,\"ticks\":\"\"}},\"type\":\"scattergeo\"}],\"scattergl\":[{\"marker\":{\"colorbar\":{\"outlinewidth\":0,\"ticks\":\"\"}},\"type\":\"scattergl\"}],\"scattermapbox\":[{\"marker\":{\"colorbar\":{\"outlinewidth\":0,\"ticks\":\"\"}},\"type\":\"scattermapbox\"}],\"scatterpolar\":[{\"marker\":{\"colorbar\":{\"outlinewidth\":0,\"ticks\":\"\"}},\"type\":\"scatterpolar\"}],\"scatterpolargl\":[{\"marker\":{\"colorbar\":{\"outlinewidth\":0,\"ticks\":\"\"}},\"type\":\"scatterpolargl\"}],\"scatterternary\":[{\"marker\":{\"colorbar\":{\"outlinewidth\":0,\"ticks\":\"\"}},\"type\":\"scatterternary\"}],\"surface\":[{\"colorbar\":{\"outlinewidth\":0,\"ticks\":\"\"},\"colorscale\":[[0.0,\"#0d0887\"],[0.1111111111111111,\"#46039f\"],[0.2222222222222222,\"#7201a8\"],[0.3333333333333333,\"#9c179e\"],[0.4444444444444444,\"#bd3786\"],[0.5555555555555556,\"#d8576b\"],[0.6666666666666666,\"#ed7953\"],[0.7777777777777778,\"#fb9f3a\"],[0.8888888888888888,\"#fdca26\"],[1.0,\"#f0f921\"]],\"type\":\"surface\"}],\"table\":[{\"cells\":{\"fill\":{\"color\":\"#EBF0F8\"},\"line\":{\"color\":\"white\"}},\"header\":{\"fill\":{\"color\":\"#C8D4E3\"},\"line\":{\"color\":\"white\"}},\"type\":\"table\"}]},\"layout\":{\"annotationdefaults\":{\"arrowcolor\":\"#2a3f5f\",\"arrowhead\":0,\"arrowwidth\":1},\"autotypenumbers\":\"strict\",\"coloraxis\":{\"colorbar\":{\"outlinewidth\":0,\"ticks\":\"\"}},\"colorscale\":{\"diverging\":[[0,\"#8e0152\"],[0.1,\"#c51b7d\"],[0.2,\"#de77ae\"],[0.3,\"#f1b6da\"],[0.4,\"#fde0ef\"],[0.5,\"#f7f7f7\"],[0.6,\"#e6f5d0\"],[0.7,\"#b8e186\"],[0.8,\"#7fbc41\"],[0.9,\"#4d9221\"],[1,\"#276419\"]],\"sequential\":[[0.0,\"#0d0887\"],[0.1111111111111111,\"#46039f\"],[0.2222222222222222,\"#7201a8\"],[0.3333333333333333,\"#9c179e\"],[0.4444444444444444,\"#bd3786\"],[0.5555555555555556,\"#d8576b\"],[0.6666666666666666,\"#ed7953\"],[0.7777777777777778,\"#fb9f3a\"],[0.8888888888888888,\"#fdca26\"],[1.0,\"#f0f921\"]],\"sequentialminus\":[[0.0,\"#0d0887\"],[0.1111111111111111,\"#46039f\"],[0.2222222222222222,\"#7201a8\"],[0.3333333333333333,\"#9c179e\"],[0.4444444444444444,\"#bd3786\"],[0.5555555555555556,\"#d8576b\"],[0.6666666666666666,\"#ed7953\"],[0.7777777777777778,\"#fb9f3a\"],[0.8888888888888888,\"#fdca26\"],[1.0,\"#f0f921\"]]},\"colorway\":[\"#636efa\",\"#EF553B\",\"#00cc96\",\"#ab63fa\",\"#FFA15A\",\"#19d3f3\",\"#FF6692\",\"#B6E880\",\"#FF97FF\",\"#FECB52\"],\"font\":{\"color\":\"#2a3f5f\"},\"geo\":{\"bgcolor\":\"white\",\"lakecolor\":\"white\",\"landcolor\":\"#E5ECF6\",\"showlakes\":true,\"showland\":true,\"subunitcolor\":\"white\"},\"hoverlabel\":{\"align\":\"left\"},\"hovermode\":\"closest\",\"mapbox\":{\"style\":\"light\"},\"paper_bgcolor\":\"white\",\"plot_bgcolor\":\"#E5ECF6\",\"polar\":{\"angularaxis\":{\"gridcolor\":\"white\",\"linecolor\":\"white\",\"ticks\":\"\"},\"bgcolor\":\"#E5ECF6\",\"radialaxis\":{\"gridcolor\":\"white\",\"linecolor\":\"white\",\"ticks\":\"\"}},\"scene\":{\"xaxis\":{\"backgroundcolor\":\"#E5ECF6\",\"gridcolor\":\"white\",\"gridwidth\":2,\"linecolor\":\"white\",\"showbackground\":true,\"ticks\":\"\",\"zerolinecolor\":\"white\"},\"yaxis\":{\"backgroundcolor\":\"#E5ECF6\",\"gridcolor\":\"white\",\"gridwidth\":2,\"linecolor\":\"white\",\"showbackground\":true,\"ticks\":\"\",\"zerolinecolor\":\"white\"},\"zaxis\":{\"backgroundcolor\":\"#E5ECF6\",\"gridcolor\":\"white\",\"gridwidth\":2,\"linecolor\":\"white\",\"showbackground\":true,\"ticks\":\"\",\"zerolinecolor\":\"white\"}},\"shapedefaults\":{\"line\":{\"color\":\"#2a3f5f\"}},\"ternary\":{\"aaxis\":{\"gridcolor\":\"white\",\"linecolor\":\"white\",\"ticks\":\"\"},\"baxis\":{\"gridcolor\":\"white\",\"linecolor\":\"white\",\"ticks\":\"\"},\"bgcolor\":\"#E5ECF6\",\"caxis\":{\"gridcolor\":\"white\",\"linecolor\":\"white\",\"ticks\":\"\"}},\"title\":{\"x\":0.05},\"xaxis\":{\"automargin\":true,\"gridcolor\":\"white\",\"linecolor\":\"white\",\"ticks\":\"\",\"title\":{\"standoff\":15},\"zerolinecolor\":\"white\",\"zerolinewidth\":2},\"yaxis\":{\"automargin\":true,\"gridcolor\":\"white\",\"linecolor\":\"white\",\"ticks\":\"\",\"title\":{\"standoff\":15},\"zerolinecolor\":\"white\",\"zerolinewidth\":2}}},\"xaxis\":{\"anchor\":\"y\",\"domain\":[0.0,1.0],\"range\":[\"2014\",\"2018\"],\"title\":{\"text\":\"Year\"}},\"yaxis\":{\"anchor\":\"x\",\"domain\":[0.0,1.0],\"title\":{\"text\":\"Revenue per Share\"}}},                        {\"responsive\": true}                    ).then(function(){\n",
       "                            \n",
       "var gd = document.getElementById('7ea65981-6a77-4ee7-a0db-1fa0fea9456c');\n",
       "var x = new MutationObserver(function (mutations, observer) {{\n",
       "        var display = window.getComputedStyle(gd).display;\n",
       "        if (!display || display === 'none') {{\n",
       "            console.log([gd, 'removed!']);\n",
       "            Plotly.purge(gd);\n",
       "            observer.disconnect();\n",
       "        }}\n",
       "}});\n",
       "\n",
       "// Listen for the removal of the full notebook cells\n",
       "var notebookContainer = gd.closest('#notebook-container');\n",
       "if (notebookContainer) {{\n",
       "    x.observe(notebookContainer, {childList: true});\n",
       "}}\n",
       "\n",
       "// Listen for the clearing of the current output cell\n",
       "var outputEl = gd.closest('.output');\n",
       "if (outputEl) {{\n",
       "    x.observe(outputEl, {childList: true});\n",
       "}}\n",
       "\n",
       "                        })                };                });            </script>        </div>"
      ]
     },
     "metadata": {},
     "output_type": "display_data"
    },
    {
     "data": {
      "application/vnd.plotly.v1+json": {
       "config": {
        "plotlyServerURL": "https://plot.ly"
       },
       "data": [
        {
         "hovertemplate": "Year=%{x}<br>Revenue=%{y}<extra></extra>",
         "legendgroup": "",
         "line": {
          "color": "#636efa",
          "dash": "solid"
         },
         "mode": "lines",
         "name": "",
         "orientation": "v",
         "showlegend": false,
         "type": "scatter",
         "x": [
          2014,
          2015,
          2016,
          2017,
          2018
         ],
         "xaxis": "x",
         "y": [
          182795000000,
          233715000000,
          215639000000,
          229234000000,
          265595000000
         ],
         "yaxis": "y"
        }
       ],
       "layout": {
        "legend": {
         "tracegroupgap": 0
        },
        "margin": {
         "t": 60
        },
        "template": {
         "data": {
          "bar": [
           {
            "error_x": {
             "color": "#2a3f5f"
            },
            "error_y": {
             "color": "#2a3f5f"
            },
            "marker": {
             "line": {
              "color": "#E5ECF6",
              "width": 0.5
             },
             "pattern": {
              "fillmode": "overlay",
              "size": 10,
              "solidity": 0.2
             }
            },
            "type": "bar"
           }
          ],
          "barpolar": [
           {
            "marker": {
             "line": {
              "color": "#E5ECF6",
              "width": 0.5
             },
             "pattern": {
              "fillmode": "overlay",
              "size": 10,
              "solidity": 0.2
             }
            },
            "type": "barpolar"
           }
          ],
          "carpet": [
           {
            "aaxis": {
             "endlinecolor": "#2a3f5f",
             "gridcolor": "white",
             "linecolor": "white",
             "minorgridcolor": "white",
             "startlinecolor": "#2a3f5f"
            },
            "baxis": {
             "endlinecolor": "#2a3f5f",
             "gridcolor": "white",
             "linecolor": "white",
             "minorgridcolor": "white",
             "startlinecolor": "#2a3f5f"
            },
            "type": "carpet"
           }
          ],
          "choropleth": [
           {
            "colorbar": {
             "outlinewidth": 0,
             "ticks": ""
            },
            "type": "choropleth"
           }
          ],
          "contour": [
           {
            "colorbar": {
             "outlinewidth": 0,
             "ticks": ""
            },
            "colorscale": [
             [
              0,
              "#0d0887"
             ],
             [
              0.1111111111111111,
              "#46039f"
             ],
             [
              0.2222222222222222,
              "#7201a8"
             ],
             [
              0.3333333333333333,
              "#9c179e"
             ],
             [
              0.4444444444444444,
              "#bd3786"
             ],
             [
              0.5555555555555556,
              "#d8576b"
             ],
             [
              0.6666666666666666,
              "#ed7953"
             ],
             [
              0.7777777777777778,
              "#fb9f3a"
             ],
             [
              0.8888888888888888,
              "#fdca26"
             ],
             [
              1,
              "#f0f921"
             ]
            ],
            "type": "contour"
           }
          ],
          "contourcarpet": [
           {
            "colorbar": {
             "outlinewidth": 0,
             "ticks": ""
            },
            "type": "contourcarpet"
           }
          ],
          "heatmap": [
           {
            "colorbar": {
             "outlinewidth": 0,
             "ticks": ""
            },
            "colorscale": [
             [
              0,
              "#0d0887"
             ],
             [
              0.1111111111111111,
              "#46039f"
             ],
             [
              0.2222222222222222,
              "#7201a8"
             ],
             [
              0.3333333333333333,
              "#9c179e"
             ],
             [
              0.4444444444444444,
              "#bd3786"
             ],
             [
              0.5555555555555556,
              "#d8576b"
             ],
             [
              0.6666666666666666,
              "#ed7953"
             ],
             [
              0.7777777777777778,
              "#fb9f3a"
             ],
             [
              0.8888888888888888,
              "#fdca26"
             ],
             [
              1,
              "#f0f921"
             ]
            ],
            "type": "heatmap"
           }
          ],
          "heatmapgl": [
           {
            "colorbar": {
             "outlinewidth": 0,
             "ticks": ""
            },
            "colorscale": [
             [
              0,
              "#0d0887"
             ],
             [
              0.1111111111111111,
              "#46039f"
             ],
             [
              0.2222222222222222,
              "#7201a8"
             ],
             [
              0.3333333333333333,
              "#9c179e"
             ],
             [
              0.4444444444444444,
              "#bd3786"
             ],
             [
              0.5555555555555556,
              "#d8576b"
             ],
             [
              0.6666666666666666,
              "#ed7953"
             ],
             [
              0.7777777777777778,
              "#fb9f3a"
             ],
             [
              0.8888888888888888,
              "#fdca26"
             ],
             [
              1,
              "#f0f921"
             ]
            ],
            "type": "heatmapgl"
           }
          ],
          "histogram": [
           {
            "marker": {
             "pattern": {
              "fillmode": "overlay",
              "size": 10,
              "solidity": 0.2
             }
            },
            "type": "histogram"
           }
          ],
          "histogram2d": [
           {
            "colorbar": {
             "outlinewidth": 0,
             "ticks": ""
            },
            "colorscale": [
             [
              0,
              "#0d0887"
             ],
             [
              0.1111111111111111,
              "#46039f"
             ],
             [
              0.2222222222222222,
              "#7201a8"
             ],
             [
              0.3333333333333333,
              "#9c179e"
             ],
             [
              0.4444444444444444,
              "#bd3786"
             ],
             [
              0.5555555555555556,
              "#d8576b"
             ],
             [
              0.6666666666666666,
              "#ed7953"
             ],
             [
              0.7777777777777778,
              "#fb9f3a"
             ],
             [
              0.8888888888888888,
              "#fdca26"
             ],
             [
              1,
              "#f0f921"
             ]
            ],
            "type": "histogram2d"
           }
          ],
          "histogram2dcontour": [
           {
            "colorbar": {
             "outlinewidth": 0,
             "ticks": ""
            },
            "colorscale": [
             [
              0,
              "#0d0887"
             ],
             [
              0.1111111111111111,
              "#46039f"
             ],
             [
              0.2222222222222222,
              "#7201a8"
             ],
             [
              0.3333333333333333,
              "#9c179e"
             ],
             [
              0.4444444444444444,
              "#bd3786"
             ],
             [
              0.5555555555555556,
              "#d8576b"
             ],
             [
              0.6666666666666666,
              "#ed7953"
             ],
             [
              0.7777777777777778,
              "#fb9f3a"
             ],
             [
              0.8888888888888888,
              "#fdca26"
             ],
             [
              1,
              "#f0f921"
             ]
            ],
            "type": "histogram2dcontour"
           }
          ],
          "mesh3d": [
           {
            "colorbar": {
             "outlinewidth": 0,
             "ticks": ""
            },
            "type": "mesh3d"
           }
          ],
          "parcoords": [
           {
            "line": {
             "colorbar": {
              "outlinewidth": 0,
              "ticks": ""
             }
            },
            "type": "parcoords"
           }
          ],
          "pie": [
           {
            "automargin": true,
            "type": "pie"
           }
          ],
          "scatter": [
           {
            "marker": {
             "colorbar": {
              "outlinewidth": 0,
              "ticks": ""
             }
            },
            "type": "scatter"
           }
          ],
          "scatter3d": [
           {
            "line": {
             "colorbar": {
              "outlinewidth": 0,
              "ticks": ""
             }
            },
            "marker": {
             "colorbar": {
              "outlinewidth": 0,
              "ticks": ""
             }
            },
            "type": "scatter3d"
           }
          ],
          "scattercarpet": [
           {
            "marker": {
             "colorbar": {
              "outlinewidth": 0,
              "ticks": ""
             }
            },
            "type": "scattercarpet"
           }
          ],
          "scattergeo": [
           {
            "marker": {
             "colorbar": {
              "outlinewidth": 0,
              "ticks": ""
             }
            },
            "type": "scattergeo"
           }
          ],
          "scattergl": [
           {
            "marker": {
             "colorbar": {
              "outlinewidth": 0,
              "ticks": ""
             }
            },
            "type": "scattergl"
           }
          ],
          "scattermapbox": [
           {
            "marker": {
             "colorbar": {
              "outlinewidth": 0,
              "ticks": ""
             }
            },
            "type": "scattermapbox"
           }
          ],
          "scatterpolar": [
           {
            "marker": {
             "colorbar": {
              "outlinewidth": 0,
              "ticks": ""
             }
            },
            "type": "scatterpolar"
           }
          ],
          "scatterpolargl": [
           {
            "marker": {
             "colorbar": {
              "outlinewidth": 0,
              "ticks": ""
             }
            },
            "type": "scatterpolargl"
           }
          ],
          "scatterternary": [
           {
            "marker": {
             "colorbar": {
              "outlinewidth": 0,
              "ticks": ""
             }
            },
            "type": "scatterternary"
           }
          ],
          "surface": [
           {
            "colorbar": {
             "outlinewidth": 0,
             "ticks": ""
            },
            "colorscale": [
             [
              0,
              "#0d0887"
             ],
             [
              0.1111111111111111,
              "#46039f"
             ],
             [
              0.2222222222222222,
              "#7201a8"
             ],
             [
              0.3333333333333333,
              "#9c179e"
             ],
             [
              0.4444444444444444,
              "#bd3786"
             ],
             [
              0.5555555555555556,
              "#d8576b"
             ],
             [
              0.6666666666666666,
              "#ed7953"
             ],
             [
              0.7777777777777778,
              "#fb9f3a"
             ],
             [
              0.8888888888888888,
              "#fdca26"
             ],
             [
              1,
              "#f0f921"
             ]
            ],
            "type": "surface"
           }
          ],
          "table": [
           {
            "cells": {
             "fill": {
              "color": "#EBF0F8"
             },
             "line": {
              "color": "white"
             }
            },
            "header": {
             "fill": {
              "color": "#C8D4E3"
             },
             "line": {
              "color": "white"
             }
            },
            "type": "table"
           }
          ]
         },
         "layout": {
          "annotationdefaults": {
           "arrowcolor": "#2a3f5f",
           "arrowhead": 0,
           "arrowwidth": 1
          },
          "autotypenumbers": "strict",
          "coloraxis": {
           "colorbar": {
            "outlinewidth": 0,
            "ticks": ""
           }
          },
          "colorscale": {
           "diverging": [
            [
             0,
             "#8e0152"
            ],
            [
             0.1,
             "#c51b7d"
            ],
            [
             0.2,
             "#de77ae"
            ],
            [
             0.3,
             "#f1b6da"
            ],
            [
             0.4,
             "#fde0ef"
            ],
            [
             0.5,
             "#f7f7f7"
            ],
            [
             0.6,
             "#e6f5d0"
            ],
            [
             0.7,
             "#b8e186"
            ],
            [
             0.8,
             "#7fbc41"
            ],
            [
             0.9,
             "#4d9221"
            ],
            [
             1,
             "#276419"
            ]
           ],
           "sequential": [
            [
             0,
             "#0d0887"
            ],
            [
             0.1111111111111111,
             "#46039f"
            ],
            [
             0.2222222222222222,
             "#7201a8"
            ],
            [
             0.3333333333333333,
             "#9c179e"
            ],
            [
             0.4444444444444444,
             "#bd3786"
            ],
            [
             0.5555555555555556,
             "#d8576b"
            ],
            [
             0.6666666666666666,
             "#ed7953"
            ],
            [
             0.7777777777777778,
             "#fb9f3a"
            ],
            [
             0.8888888888888888,
             "#fdca26"
            ],
            [
             1,
             "#f0f921"
            ]
           ],
           "sequentialminus": [
            [
             0,
             "#0d0887"
            ],
            [
             0.1111111111111111,
             "#46039f"
            ],
            [
             0.2222222222222222,
             "#7201a8"
            ],
            [
             0.3333333333333333,
             "#9c179e"
            ],
            [
             0.4444444444444444,
             "#bd3786"
            ],
            [
             0.5555555555555556,
             "#d8576b"
            ],
            [
             0.6666666666666666,
             "#ed7953"
            ],
            [
             0.7777777777777778,
             "#fb9f3a"
            ],
            [
             0.8888888888888888,
             "#fdca26"
            ],
            [
             1,
             "#f0f921"
            ]
           ]
          },
          "colorway": [
           "#636efa",
           "#EF553B",
           "#00cc96",
           "#ab63fa",
           "#FFA15A",
           "#19d3f3",
           "#FF6692",
           "#B6E880",
           "#FF97FF",
           "#FECB52"
          ],
          "font": {
           "color": "#2a3f5f"
          },
          "geo": {
           "bgcolor": "white",
           "lakecolor": "white",
           "landcolor": "#E5ECF6",
           "showlakes": true,
           "showland": true,
           "subunitcolor": "white"
          },
          "hoverlabel": {
           "align": "left"
          },
          "hovermode": "closest",
          "mapbox": {
           "style": "light"
          },
          "paper_bgcolor": "white",
          "plot_bgcolor": "#E5ECF6",
          "polar": {
           "angularaxis": {
            "gridcolor": "white",
            "linecolor": "white",
            "ticks": ""
           },
           "bgcolor": "#E5ECF6",
           "radialaxis": {
            "gridcolor": "white",
            "linecolor": "white",
            "ticks": ""
           }
          },
          "scene": {
           "xaxis": {
            "backgroundcolor": "#E5ECF6",
            "gridcolor": "white",
            "gridwidth": 2,
            "linecolor": "white",
            "showbackground": true,
            "ticks": "",
            "zerolinecolor": "white"
           },
           "yaxis": {
            "backgroundcolor": "#E5ECF6",
            "gridcolor": "white",
            "gridwidth": 2,
            "linecolor": "white",
            "showbackground": true,
            "ticks": "",
            "zerolinecolor": "white"
           },
           "zaxis": {
            "backgroundcolor": "#E5ECF6",
            "gridcolor": "white",
            "gridwidth": 2,
            "linecolor": "white",
            "showbackground": true,
            "ticks": "",
            "zerolinecolor": "white"
           }
          },
          "shapedefaults": {
           "line": {
            "color": "#2a3f5f"
           }
          },
          "ternary": {
           "aaxis": {
            "gridcolor": "white",
            "linecolor": "white",
            "ticks": ""
           },
           "baxis": {
            "gridcolor": "white",
            "linecolor": "white",
            "ticks": ""
           },
           "bgcolor": "#E5ECF6",
           "caxis": {
            "gridcolor": "white",
            "linecolor": "white",
            "ticks": ""
           }
          },
          "title": {
           "x": 0.05
          },
          "xaxis": {
           "automargin": true,
           "gridcolor": "white",
           "linecolor": "white",
           "ticks": "",
           "title": {
            "standoff": 15
           },
           "zerolinecolor": "white",
           "zerolinewidth": 2
          },
          "yaxis": {
           "automargin": true,
           "gridcolor": "white",
           "linecolor": "white",
           "ticks": "",
           "title": {
            "standoff": 15
           },
           "zerolinecolor": "white",
           "zerolinewidth": 2
          }
         }
        },
        "xaxis": {
         "anchor": "y",
         "domain": [
          0,
          1
         ],
         "range": [
          "2014",
          "2018"
         ],
         "title": {
          "text": "Year"
         }
        },
        "yaxis": {
         "anchor": "x",
         "domain": [
          0,
          1
         ],
         "title": {
          "text": "Revenue"
         }
        }
       }
      },
      "text/html": [
       "<div>                            <div id=\"3704ad42-40c4-4c65-bc9c-6f52115deedc\" class=\"plotly-graph-div\" style=\"height:525px; width:100%;\"></div>            <script type=\"text/javascript\">                require([\"plotly\"], function(Plotly) {                    window.PLOTLYENV=window.PLOTLYENV || {};                                    if (document.getElementById(\"3704ad42-40c4-4c65-bc9c-6f52115deedc\")) {                    Plotly.newPlot(                        \"3704ad42-40c4-4c65-bc9c-6f52115deedc\",                        [{\"hovertemplate\":\"Year=%{x}<br>Revenue=%{y}<extra></extra>\",\"legendgroup\":\"\",\"line\":{\"color\":\"#636efa\",\"dash\":\"solid\"},\"mode\":\"lines\",\"name\":\"\",\"orientation\":\"v\",\"showlegend\":false,\"type\":\"scatter\",\"x\":[2014,2015,2016,2017,2018],\"xaxis\":\"x\",\"y\":[182795000000.0,233715000000.0,215639000000.0,229234000000.0,265595000000.0],\"yaxis\":\"y\"}],                        {\"legend\":{\"tracegroupgap\":0},\"margin\":{\"t\":60},\"template\":{\"data\":{\"bar\":[{\"error_x\":{\"color\":\"#2a3f5f\"},\"error_y\":{\"color\":\"#2a3f5f\"},\"marker\":{\"line\":{\"color\":\"#E5ECF6\",\"width\":0.5},\"pattern\":{\"fillmode\":\"overlay\",\"size\":10,\"solidity\":0.2}},\"type\":\"bar\"}],\"barpolar\":[{\"marker\":{\"line\":{\"color\":\"#E5ECF6\",\"width\":0.5},\"pattern\":{\"fillmode\":\"overlay\",\"size\":10,\"solidity\":0.2}},\"type\":\"barpolar\"}],\"carpet\":[{\"aaxis\":{\"endlinecolor\":\"#2a3f5f\",\"gridcolor\":\"white\",\"linecolor\":\"white\",\"minorgridcolor\":\"white\",\"startlinecolor\":\"#2a3f5f\"},\"baxis\":{\"endlinecolor\":\"#2a3f5f\",\"gridcolor\":\"white\",\"linecolor\":\"white\",\"minorgridcolor\":\"white\",\"startlinecolor\":\"#2a3f5f\"},\"type\":\"carpet\"}],\"choropleth\":[{\"colorbar\":{\"outlinewidth\":0,\"ticks\":\"\"},\"type\":\"choropleth\"}],\"contour\":[{\"colorbar\":{\"outlinewidth\":0,\"ticks\":\"\"},\"colorscale\":[[0.0,\"#0d0887\"],[0.1111111111111111,\"#46039f\"],[0.2222222222222222,\"#7201a8\"],[0.3333333333333333,\"#9c179e\"],[0.4444444444444444,\"#bd3786\"],[0.5555555555555556,\"#d8576b\"],[0.6666666666666666,\"#ed7953\"],[0.7777777777777778,\"#fb9f3a\"],[0.8888888888888888,\"#fdca26\"],[1.0,\"#f0f921\"]],\"type\":\"contour\"}],\"contourcarpet\":[{\"colorbar\":{\"outlinewidth\":0,\"ticks\":\"\"},\"type\":\"contourcarpet\"}],\"heatmap\":[{\"colorbar\":{\"outlinewidth\":0,\"ticks\":\"\"},\"colorscale\":[[0.0,\"#0d0887\"],[0.1111111111111111,\"#46039f\"],[0.2222222222222222,\"#7201a8\"],[0.3333333333333333,\"#9c179e\"],[0.4444444444444444,\"#bd3786\"],[0.5555555555555556,\"#d8576b\"],[0.6666666666666666,\"#ed7953\"],[0.7777777777777778,\"#fb9f3a\"],[0.8888888888888888,\"#fdca26\"],[1.0,\"#f0f921\"]],\"type\":\"heatmap\"}],\"heatmapgl\":[{\"colorbar\":{\"outlinewidth\":0,\"ticks\":\"\"},\"colorscale\":[[0.0,\"#0d0887\"],[0.1111111111111111,\"#46039f\"],[0.2222222222222222,\"#7201a8\"],[0.3333333333333333,\"#9c179e\"],[0.4444444444444444,\"#bd3786\"],[0.5555555555555556,\"#d8576b\"],[0.6666666666666666,\"#ed7953\"],[0.7777777777777778,\"#fb9f3a\"],[0.8888888888888888,\"#fdca26\"],[1.0,\"#f0f921\"]],\"type\":\"heatmapgl\"}],\"histogram\":[{\"marker\":{\"pattern\":{\"fillmode\":\"overlay\",\"size\":10,\"solidity\":0.2}},\"type\":\"histogram\"}],\"histogram2d\":[{\"colorbar\":{\"outlinewidth\":0,\"ticks\":\"\"},\"colorscale\":[[0.0,\"#0d0887\"],[0.1111111111111111,\"#46039f\"],[0.2222222222222222,\"#7201a8\"],[0.3333333333333333,\"#9c179e\"],[0.4444444444444444,\"#bd3786\"],[0.5555555555555556,\"#d8576b\"],[0.6666666666666666,\"#ed7953\"],[0.7777777777777778,\"#fb9f3a\"],[0.8888888888888888,\"#fdca26\"],[1.0,\"#f0f921\"]],\"type\":\"histogram2d\"}],\"histogram2dcontour\":[{\"colorbar\":{\"outlinewidth\":0,\"ticks\":\"\"},\"colorscale\":[[0.0,\"#0d0887\"],[0.1111111111111111,\"#46039f\"],[0.2222222222222222,\"#7201a8\"],[0.3333333333333333,\"#9c179e\"],[0.4444444444444444,\"#bd3786\"],[0.5555555555555556,\"#d8576b\"],[0.6666666666666666,\"#ed7953\"],[0.7777777777777778,\"#fb9f3a\"],[0.8888888888888888,\"#fdca26\"],[1.0,\"#f0f921\"]],\"type\":\"histogram2dcontour\"}],\"mesh3d\":[{\"colorbar\":{\"outlinewidth\":0,\"ticks\":\"\"},\"type\":\"mesh3d\"}],\"parcoords\":[{\"line\":{\"colorbar\":{\"outlinewidth\":0,\"ticks\":\"\"}},\"type\":\"parcoords\"}],\"pie\":[{\"automargin\":true,\"type\":\"pie\"}],\"scatter\":[{\"marker\":{\"colorbar\":{\"outlinewidth\":0,\"ticks\":\"\"}},\"type\":\"scatter\"}],\"scatter3d\":[{\"line\":{\"colorbar\":{\"outlinewidth\":0,\"ticks\":\"\"}},\"marker\":{\"colorbar\":{\"outlinewidth\":0,\"ticks\":\"\"}},\"type\":\"scatter3d\"}],\"scattercarpet\":[{\"marker\":{\"colorbar\":{\"outlinewidth\":0,\"ticks\":\"\"}},\"type\":\"scattercarpet\"}],\"scattergeo\":[{\"marker\":{\"colorbar\":{\"outlinewidth\":0,\"ticks\":\"\"}},\"type\":\"scattergeo\"}],\"scattergl\":[{\"marker\":{\"colorbar\":{\"outlinewidth\":0,\"ticks\":\"\"}},\"type\":\"scattergl\"}],\"scattermapbox\":[{\"marker\":{\"colorbar\":{\"outlinewidth\":0,\"ticks\":\"\"}},\"type\":\"scattermapbox\"}],\"scatterpolar\":[{\"marker\":{\"colorbar\":{\"outlinewidth\":0,\"ticks\":\"\"}},\"type\":\"scatterpolar\"}],\"scatterpolargl\":[{\"marker\":{\"colorbar\":{\"outlinewidth\":0,\"ticks\":\"\"}},\"type\":\"scatterpolargl\"}],\"scatterternary\":[{\"marker\":{\"colorbar\":{\"outlinewidth\":0,\"ticks\":\"\"}},\"type\":\"scatterternary\"}],\"surface\":[{\"colorbar\":{\"outlinewidth\":0,\"ticks\":\"\"},\"colorscale\":[[0.0,\"#0d0887\"],[0.1111111111111111,\"#46039f\"],[0.2222222222222222,\"#7201a8\"],[0.3333333333333333,\"#9c179e\"],[0.4444444444444444,\"#bd3786\"],[0.5555555555555556,\"#d8576b\"],[0.6666666666666666,\"#ed7953\"],[0.7777777777777778,\"#fb9f3a\"],[0.8888888888888888,\"#fdca26\"],[1.0,\"#f0f921\"]],\"type\":\"surface\"}],\"table\":[{\"cells\":{\"fill\":{\"color\":\"#EBF0F8\"},\"line\":{\"color\":\"white\"}},\"header\":{\"fill\":{\"color\":\"#C8D4E3\"},\"line\":{\"color\":\"white\"}},\"type\":\"table\"}]},\"layout\":{\"annotationdefaults\":{\"arrowcolor\":\"#2a3f5f\",\"arrowhead\":0,\"arrowwidth\":1},\"autotypenumbers\":\"strict\",\"coloraxis\":{\"colorbar\":{\"outlinewidth\":0,\"ticks\":\"\"}},\"colorscale\":{\"diverging\":[[0,\"#8e0152\"],[0.1,\"#c51b7d\"],[0.2,\"#de77ae\"],[0.3,\"#f1b6da\"],[0.4,\"#fde0ef\"],[0.5,\"#f7f7f7\"],[0.6,\"#e6f5d0\"],[0.7,\"#b8e186\"],[0.8,\"#7fbc41\"],[0.9,\"#4d9221\"],[1,\"#276419\"]],\"sequential\":[[0.0,\"#0d0887\"],[0.1111111111111111,\"#46039f\"],[0.2222222222222222,\"#7201a8\"],[0.3333333333333333,\"#9c179e\"],[0.4444444444444444,\"#bd3786\"],[0.5555555555555556,\"#d8576b\"],[0.6666666666666666,\"#ed7953\"],[0.7777777777777778,\"#fb9f3a\"],[0.8888888888888888,\"#fdca26\"],[1.0,\"#f0f921\"]],\"sequentialminus\":[[0.0,\"#0d0887\"],[0.1111111111111111,\"#46039f\"],[0.2222222222222222,\"#7201a8\"],[0.3333333333333333,\"#9c179e\"],[0.4444444444444444,\"#bd3786\"],[0.5555555555555556,\"#d8576b\"],[0.6666666666666666,\"#ed7953\"],[0.7777777777777778,\"#fb9f3a\"],[0.8888888888888888,\"#fdca26\"],[1.0,\"#f0f921\"]]},\"colorway\":[\"#636efa\",\"#EF553B\",\"#00cc96\",\"#ab63fa\",\"#FFA15A\",\"#19d3f3\",\"#FF6692\",\"#B6E880\",\"#FF97FF\",\"#FECB52\"],\"font\":{\"color\":\"#2a3f5f\"},\"geo\":{\"bgcolor\":\"white\",\"lakecolor\":\"white\",\"landcolor\":\"#E5ECF6\",\"showlakes\":true,\"showland\":true,\"subunitcolor\":\"white\"},\"hoverlabel\":{\"align\":\"left\"},\"hovermode\":\"closest\",\"mapbox\":{\"style\":\"light\"},\"paper_bgcolor\":\"white\",\"plot_bgcolor\":\"#E5ECF6\",\"polar\":{\"angularaxis\":{\"gridcolor\":\"white\",\"linecolor\":\"white\",\"ticks\":\"\"},\"bgcolor\":\"#E5ECF6\",\"radialaxis\":{\"gridcolor\":\"white\",\"linecolor\":\"white\",\"ticks\":\"\"}},\"scene\":{\"xaxis\":{\"backgroundcolor\":\"#E5ECF6\",\"gridcolor\":\"white\",\"gridwidth\":2,\"linecolor\":\"white\",\"showbackground\":true,\"ticks\":\"\",\"zerolinecolor\":\"white\"},\"yaxis\":{\"backgroundcolor\":\"#E5ECF6\",\"gridcolor\":\"white\",\"gridwidth\":2,\"linecolor\":\"white\",\"showbackground\":true,\"ticks\":\"\",\"zerolinecolor\":\"white\"},\"zaxis\":{\"backgroundcolor\":\"#E5ECF6\",\"gridcolor\":\"white\",\"gridwidth\":2,\"linecolor\":\"white\",\"showbackground\":true,\"ticks\":\"\",\"zerolinecolor\":\"white\"}},\"shapedefaults\":{\"line\":{\"color\":\"#2a3f5f\"}},\"ternary\":{\"aaxis\":{\"gridcolor\":\"white\",\"linecolor\":\"white\",\"ticks\":\"\"},\"baxis\":{\"gridcolor\":\"white\",\"linecolor\":\"white\",\"ticks\":\"\"},\"bgcolor\":\"#E5ECF6\",\"caxis\":{\"gridcolor\":\"white\",\"linecolor\":\"white\",\"ticks\":\"\"}},\"title\":{\"x\":0.05},\"xaxis\":{\"automargin\":true,\"gridcolor\":\"white\",\"linecolor\":\"white\",\"ticks\":\"\",\"title\":{\"standoff\":15},\"zerolinecolor\":\"white\",\"zerolinewidth\":2},\"yaxis\":{\"automargin\":true,\"gridcolor\":\"white\",\"linecolor\":\"white\",\"ticks\":\"\",\"title\":{\"standoff\":15},\"zerolinecolor\":\"white\",\"zerolinewidth\":2}}},\"xaxis\":{\"anchor\":\"y\",\"domain\":[0.0,1.0],\"range\":[\"2014\",\"2018\"],\"title\":{\"text\":\"Year\"}},\"yaxis\":{\"anchor\":\"x\",\"domain\":[0.0,1.0],\"title\":{\"text\":\"Revenue\"}}},                        {\"responsive\": true}                    ).then(function(){\n",
       "                            \n",
       "var gd = document.getElementById('3704ad42-40c4-4c65-bc9c-6f52115deedc');\n",
       "var x = new MutationObserver(function (mutations, observer) {{\n",
       "        var display = window.getComputedStyle(gd).display;\n",
       "        if (!display || display === 'none') {{\n",
       "            console.log([gd, 'removed!']);\n",
       "            Plotly.purge(gd);\n",
       "            observer.disconnect();\n",
       "        }}\n",
       "}});\n",
       "\n",
       "// Listen for the removal of the full notebook cells\n",
       "var notebookContainer = gd.closest('#notebook-container');\n",
       "if (notebookContainer) {{\n",
       "    x.observe(notebookContainer, {childList: true});\n",
       "}}\n",
       "\n",
       "// Listen for the clearing of the current output cell\n",
       "var outputEl = gd.closest('.output');\n",
       "if (outputEl) {{\n",
       "    x.observe(outputEl, {childList: true});\n",
       "}}\n",
       "\n",
       "                        })                };                });            </script>        </div>"
      ]
     },
     "metadata": {},
     "output_type": "display_data"
    },
    {
     "data": {
      "application/vnd.plotly.v1+json": {
       "config": {
        "plotlyServerURL": "https://plot.ly"
       },
       "data": [
        {
         "hovertemplate": "Year=%{x}<br>Debt Growth=%{y}<extra></extra>",
         "legendgroup": "",
         "line": {
          "color": "#636efa",
          "dash": "solid"
         },
         "mode": "lines",
         "name": "",
         "orientation": "v",
         "showlegend": false,
         "type": "scatter",
         "x": [
          2014,
          2015,
          2016,
          2017,
          2018
         ],
         "xaxis": "x",
         "y": [
          1.0811,
          0.8226,
          0.3529,
          0.3292,
          -0.0103
         ],
         "yaxis": "y"
        }
       ],
       "layout": {
        "legend": {
         "tracegroupgap": 0
        },
        "margin": {
         "t": 60
        },
        "template": {
         "data": {
          "bar": [
           {
            "error_x": {
             "color": "#2a3f5f"
            },
            "error_y": {
             "color": "#2a3f5f"
            },
            "marker": {
             "line": {
              "color": "#E5ECF6",
              "width": 0.5
             },
             "pattern": {
              "fillmode": "overlay",
              "size": 10,
              "solidity": 0.2
             }
            },
            "type": "bar"
           }
          ],
          "barpolar": [
           {
            "marker": {
             "line": {
              "color": "#E5ECF6",
              "width": 0.5
             },
             "pattern": {
              "fillmode": "overlay",
              "size": 10,
              "solidity": 0.2
             }
            },
            "type": "barpolar"
           }
          ],
          "carpet": [
           {
            "aaxis": {
             "endlinecolor": "#2a3f5f",
             "gridcolor": "white",
             "linecolor": "white",
             "minorgridcolor": "white",
             "startlinecolor": "#2a3f5f"
            },
            "baxis": {
             "endlinecolor": "#2a3f5f",
             "gridcolor": "white",
             "linecolor": "white",
             "minorgridcolor": "white",
             "startlinecolor": "#2a3f5f"
            },
            "type": "carpet"
           }
          ],
          "choropleth": [
           {
            "colorbar": {
             "outlinewidth": 0,
             "ticks": ""
            },
            "type": "choropleth"
           }
          ],
          "contour": [
           {
            "colorbar": {
             "outlinewidth": 0,
             "ticks": ""
            },
            "colorscale": [
             [
              0,
              "#0d0887"
             ],
             [
              0.1111111111111111,
              "#46039f"
             ],
             [
              0.2222222222222222,
              "#7201a8"
             ],
             [
              0.3333333333333333,
              "#9c179e"
             ],
             [
              0.4444444444444444,
              "#bd3786"
             ],
             [
              0.5555555555555556,
              "#d8576b"
             ],
             [
              0.6666666666666666,
              "#ed7953"
             ],
             [
              0.7777777777777778,
              "#fb9f3a"
             ],
             [
              0.8888888888888888,
              "#fdca26"
             ],
             [
              1,
              "#f0f921"
             ]
            ],
            "type": "contour"
           }
          ],
          "contourcarpet": [
           {
            "colorbar": {
             "outlinewidth": 0,
             "ticks": ""
            },
            "type": "contourcarpet"
           }
          ],
          "heatmap": [
           {
            "colorbar": {
             "outlinewidth": 0,
             "ticks": ""
            },
            "colorscale": [
             [
              0,
              "#0d0887"
             ],
             [
              0.1111111111111111,
              "#46039f"
             ],
             [
              0.2222222222222222,
              "#7201a8"
             ],
             [
              0.3333333333333333,
              "#9c179e"
             ],
             [
              0.4444444444444444,
              "#bd3786"
             ],
             [
              0.5555555555555556,
              "#d8576b"
             ],
             [
              0.6666666666666666,
              "#ed7953"
             ],
             [
              0.7777777777777778,
              "#fb9f3a"
             ],
             [
              0.8888888888888888,
              "#fdca26"
             ],
             [
              1,
              "#f0f921"
             ]
            ],
            "type": "heatmap"
           }
          ],
          "heatmapgl": [
           {
            "colorbar": {
             "outlinewidth": 0,
             "ticks": ""
            },
            "colorscale": [
             [
              0,
              "#0d0887"
             ],
             [
              0.1111111111111111,
              "#46039f"
             ],
             [
              0.2222222222222222,
              "#7201a8"
             ],
             [
              0.3333333333333333,
              "#9c179e"
             ],
             [
              0.4444444444444444,
              "#bd3786"
             ],
             [
              0.5555555555555556,
              "#d8576b"
             ],
             [
              0.6666666666666666,
              "#ed7953"
             ],
             [
              0.7777777777777778,
              "#fb9f3a"
             ],
             [
              0.8888888888888888,
              "#fdca26"
             ],
             [
              1,
              "#f0f921"
             ]
            ],
            "type": "heatmapgl"
           }
          ],
          "histogram": [
           {
            "marker": {
             "pattern": {
              "fillmode": "overlay",
              "size": 10,
              "solidity": 0.2
             }
            },
            "type": "histogram"
           }
          ],
          "histogram2d": [
           {
            "colorbar": {
             "outlinewidth": 0,
             "ticks": ""
            },
            "colorscale": [
             [
              0,
              "#0d0887"
             ],
             [
              0.1111111111111111,
              "#46039f"
             ],
             [
              0.2222222222222222,
              "#7201a8"
             ],
             [
              0.3333333333333333,
              "#9c179e"
             ],
             [
              0.4444444444444444,
              "#bd3786"
             ],
             [
              0.5555555555555556,
              "#d8576b"
             ],
             [
              0.6666666666666666,
              "#ed7953"
             ],
             [
              0.7777777777777778,
              "#fb9f3a"
             ],
             [
              0.8888888888888888,
              "#fdca26"
             ],
             [
              1,
              "#f0f921"
             ]
            ],
            "type": "histogram2d"
           }
          ],
          "histogram2dcontour": [
           {
            "colorbar": {
             "outlinewidth": 0,
             "ticks": ""
            },
            "colorscale": [
             [
              0,
              "#0d0887"
             ],
             [
              0.1111111111111111,
              "#46039f"
             ],
             [
              0.2222222222222222,
              "#7201a8"
             ],
             [
              0.3333333333333333,
              "#9c179e"
             ],
             [
              0.4444444444444444,
              "#bd3786"
             ],
             [
              0.5555555555555556,
              "#d8576b"
             ],
             [
              0.6666666666666666,
              "#ed7953"
             ],
             [
              0.7777777777777778,
              "#fb9f3a"
             ],
             [
              0.8888888888888888,
              "#fdca26"
             ],
             [
              1,
              "#f0f921"
             ]
            ],
            "type": "histogram2dcontour"
           }
          ],
          "mesh3d": [
           {
            "colorbar": {
             "outlinewidth": 0,
             "ticks": ""
            },
            "type": "mesh3d"
           }
          ],
          "parcoords": [
           {
            "line": {
             "colorbar": {
              "outlinewidth": 0,
              "ticks": ""
             }
            },
            "type": "parcoords"
           }
          ],
          "pie": [
           {
            "automargin": true,
            "type": "pie"
           }
          ],
          "scatter": [
           {
            "marker": {
             "colorbar": {
              "outlinewidth": 0,
              "ticks": ""
             }
            },
            "type": "scatter"
           }
          ],
          "scatter3d": [
           {
            "line": {
             "colorbar": {
              "outlinewidth": 0,
              "ticks": ""
             }
            },
            "marker": {
             "colorbar": {
              "outlinewidth": 0,
              "ticks": ""
             }
            },
            "type": "scatter3d"
           }
          ],
          "scattercarpet": [
           {
            "marker": {
             "colorbar": {
              "outlinewidth": 0,
              "ticks": ""
             }
            },
            "type": "scattercarpet"
           }
          ],
          "scattergeo": [
           {
            "marker": {
             "colorbar": {
              "outlinewidth": 0,
              "ticks": ""
             }
            },
            "type": "scattergeo"
           }
          ],
          "scattergl": [
           {
            "marker": {
             "colorbar": {
              "outlinewidth": 0,
              "ticks": ""
             }
            },
            "type": "scattergl"
           }
          ],
          "scattermapbox": [
           {
            "marker": {
             "colorbar": {
              "outlinewidth": 0,
              "ticks": ""
             }
            },
            "type": "scattermapbox"
           }
          ],
          "scatterpolar": [
           {
            "marker": {
             "colorbar": {
              "outlinewidth": 0,
              "ticks": ""
             }
            },
            "type": "scatterpolar"
           }
          ],
          "scatterpolargl": [
           {
            "marker": {
             "colorbar": {
              "outlinewidth": 0,
              "ticks": ""
             }
            },
            "type": "scatterpolargl"
           }
          ],
          "scatterternary": [
           {
            "marker": {
             "colorbar": {
              "outlinewidth": 0,
              "ticks": ""
             }
            },
            "type": "scatterternary"
           }
          ],
          "surface": [
           {
            "colorbar": {
             "outlinewidth": 0,
             "ticks": ""
            },
            "colorscale": [
             [
              0,
              "#0d0887"
             ],
             [
              0.1111111111111111,
              "#46039f"
             ],
             [
              0.2222222222222222,
              "#7201a8"
             ],
             [
              0.3333333333333333,
              "#9c179e"
             ],
             [
              0.4444444444444444,
              "#bd3786"
             ],
             [
              0.5555555555555556,
              "#d8576b"
             ],
             [
              0.6666666666666666,
              "#ed7953"
             ],
             [
              0.7777777777777778,
              "#fb9f3a"
             ],
             [
              0.8888888888888888,
              "#fdca26"
             ],
             [
              1,
              "#f0f921"
             ]
            ],
            "type": "surface"
           }
          ],
          "table": [
           {
            "cells": {
             "fill": {
              "color": "#EBF0F8"
             },
             "line": {
              "color": "white"
             }
            },
            "header": {
             "fill": {
              "color": "#C8D4E3"
             },
             "line": {
              "color": "white"
             }
            },
            "type": "table"
           }
          ]
         },
         "layout": {
          "annotationdefaults": {
           "arrowcolor": "#2a3f5f",
           "arrowhead": 0,
           "arrowwidth": 1
          },
          "autotypenumbers": "strict",
          "coloraxis": {
           "colorbar": {
            "outlinewidth": 0,
            "ticks": ""
           }
          },
          "colorscale": {
           "diverging": [
            [
             0,
             "#8e0152"
            ],
            [
             0.1,
             "#c51b7d"
            ],
            [
             0.2,
             "#de77ae"
            ],
            [
             0.3,
             "#f1b6da"
            ],
            [
             0.4,
             "#fde0ef"
            ],
            [
             0.5,
             "#f7f7f7"
            ],
            [
             0.6,
             "#e6f5d0"
            ],
            [
             0.7,
             "#b8e186"
            ],
            [
             0.8,
             "#7fbc41"
            ],
            [
             0.9,
             "#4d9221"
            ],
            [
             1,
             "#276419"
            ]
           ],
           "sequential": [
            [
             0,
             "#0d0887"
            ],
            [
             0.1111111111111111,
             "#46039f"
            ],
            [
             0.2222222222222222,
             "#7201a8"
            ],
            [
             0.3333333333333333,
             "#9c179e"
            ],
            [
             0.4444444444444444,
             "#bd3786"
            ],
            [
             0.5555555555555556,
             "#d8576b"
            ],
            [
             0.6666666666666666,
             "#ed7953"
            ],
            [
             0.7777777777777778,
             "#fb9f3a"
            ],
            [
             0.8888888888888888,
             "#fdca26"
            ],
            [
             1,
             "#f0f921"
            ]
           ],
           "sequentialminus": [
            [
             0,
             "#0d0887"
            ],
            [
             0.1111111111111111,
             "#46039f"
            ],
            [
             0.2222222222222222,
             "#7201a8"
            ],
            [
             0.3333333333333333,
             "#9c179e"
            ],
            [
             0.4444444444444444,
             "#bd3786"
            ],
            [
             0.5555555555555556,
             "#d8576b"
            ],
            [
             0.6666666666666666,
             "#ed7953"
            ],
            [
             0.7777777777777778,
             "#fb9f3a"
            ],
            [
             0.8888888888888888,
             "#fdca26"
            ],
            [
             1,
             "#f0f921"
            ]
           ]
          },
          "colorway": [
           "#636efa",
           "#EF553B",
           "#00cc96",
           "#ab63fa",
           "#FFA15A",
           "#19d3f3",
           "#FF6692",
           "#B6E880",
           "#FF97FF",
           "#FECB52"
          ],
          "font": {
           "color": "#2a3f5f"
          },
          "geo": {
           "bgcolor": "white",
           "lakecolor": "white",
           "landcolor": "#E5ECF6",
           "showlakes": true,
           "showland": true,
           "subunitcolor": "white"
          },
          "hoverlabel": {
           "align": "left"
          },
          "hovermode": "closest",
          "mapbox": {
           "style": "light"
          },
          "paper_bgcolor": "white",
          "plot_bgcolor": "#E5ECF6",
          "polar": {
           "angularaxis": {
            "gridcolor": "white",
            "linecolor": "white",
            "ticks": ""
           },
           "bgcolor": "#E5ECF6",
           "radialaxis": {
            "gridcolor": "white",
            "linecolor": "white",
            "ticks": ""
           }
          },
          "scene": {
           "xaxis": {
            "backgroundcolor": "#E5ECF6",
            "gridcolor": "white",
            "gridwidth": 2,
            "linecolor": "white",
            "showbackground": true,
            "ticks": "",
            "zerolinecolor": "white"
           },
           "yaxis": {
            "backgroundcolor": "#E5ECF6",
            "gridcolor": "white",
            "gridwidth": 2,
            "linecolor": "white",
            "showbackground": true,
            "ticks": "",
            "zerolinecolor": "white"
           },
           "zaxis": {
            "backgroundcolor": "#E5ECF6",
            "gridcolor": "white",
            "gridwidth": 2,
            "linecolor": "white",
            "showbackground": true,
            "ticks": "",
            "zerolinecolor": "white"
           }
          },
          "shapedefaults": {
           "line": {
            "color": "#2a3f5f"
           }
          },
          "ternary": {
           "aaxis": {
            "gridcolor": "white",
            "linecolor": "white",
            "ticks": ""
           },
           "baxis": {
            "gridcolor": "white",
            "linecolor": "white",
            "ticks": ""
           },
           "bgcolor": "#E5ECF6",
           "caxis": {
            "gridcolor": "white",
            "linecolor": "white",
            "ticks": ""
           }
          },
          "title": {
           "x": 0.05
          },
          "xaxis": {
           "automargin": true,
           "gridcolor": "white",
           "linecolor": "white",
           "ticks": "",
           "title": {
            "standoff": 15
           },
           "zerolinecolor": "white",
           "zerolinewidth": 2
          },
          "yaxis": {
           "automargin": true,
           "gridcolor": "white",
           "linecolor": "white",
           "ticks": "",
           "title": {
            "standoff": 15
           },
           "zerolinecolor": "white",
           "zerolinewidth": 2
          }
         }
        },
        "xaxis": {
         "anchor": "y",
         "domain": [
          0,
          1
         ],
         "range": [
          "2014",
          "2018"
         ],
         "title": {
          "text": "Year"
         }
        },
        "yaxis": {
         "anchor": "x",
         "domain": [
          0,
          1
         ],
         "title": {
          "text": "Debt Growth"
         }
        }
       }
      },
      "text/html": [
       "<div>                            <div id=\"a5b78ebb-3d27-4605-ac2a-90f82db7506c\" class=\"plotly-graph-div\" style=\"height:525px; width:100%;\"></div>            <script type=\"text/javascript\">                require([\"plotly\"], function(Plotly) {                    window.PLOTLYENV=window.PLOTLYENV || {};                                    if (document.getElementById(\"a5b78ebb-3d27-4605-ac2a-90f82db7506c\")) {                    Plotly.newPlot(                        \"a5b78ebb-3d27-4605-ac2a-90f82db7506c\",                        [{\"hovertemplate\":\"Year=%{x}<br>Debt Growth=%{y}<extra></extra>\",\"legendgroup\":\"\",\"line\":{\"color\":\"#636efa\",\"dash\":\"solid\"},\"mode\":\"lines\",\"name\":\"\",\"orientation\":\"v\",\"showlegend\":false,\"type\":\"scatter\",\"x\":[2014,2015,2016,2017,2018],\"xaxis\":\"x\",\"y\":[1.0811,0.8226,0.3529,0.3292,-0.0103],\"yaxis\":\"y\"}],                        {\"legend\":{\"tracegroupgap\":0},\"margin\":{\"t\":60},\"template\":{\"data\":{\"bar\":[{\"error_x\":{\"color\":\"#2a3f5f\"},\"error_y\":{\"color\":\"#2a3f5f\"},\"marker\":{\"line\":{\"color\":\"#E5ECF6\",\"width\":0.5},\"pattern\":{\"fillmode\":\"overlay\",\"size\":10,\"solidity\":0.2}},\"type\":\"bar\"}],\"barpolar\":[{\"marker\":{\"line\":{\"color\":\"#E5ECF6\",\"width\":0.5},\"pattern\":{\"fillmode\":\"overlay\",\"size\":10,\"solidity\":0.2}},\"type\":\"barpolar\"}],\"carpet\":[{\"aaxis\":{\"endlinecolor\":\"#2a3f5f\",\"gridcolor\":\"white\",\"linecolor\":\"white\",\"minorgridcolor\":\"white\",\"startlinecolor\":\"#2a3f5f\"},\"baxis\":{\"endlinecolor\":\"#2a3f5f\",\"gridcolor\":\"white\",\"linecolor\":\"white\",\"minorgridcolor\":\"white\",\"startlinecolor\":\"#2a3f5f\"},\"type\":\"carpet\"}],\"choropleth\":[{\"colorbar\":{\"outlinewidth\":0,\"ticks\":\"\"},\"type\":\"choropleth\"}],\"contour\":[{\"colorbar\":{\"outlinewidth\":0,\"ticks\":\"\"},\"colorscale\":[[0.0,\"#0d0887\"],[0.1111111111111111,\"#46039f\"],[0.2222222222222222,\"#7201a8\"],[0.3333333333333333,\"#9c179e\"],[0.4444444444444444,\"#bd3786\"],[0.5555555555555556,\"#d8576b\"],[0.6666666666666666,\"#ed7953\"],[0.7777777777777778,\"#fb9f3a\"],[0.8888888888888888,\"#fdca26\"],[1.0,\"#f0f921\"]],\"type\":\"contour\"}],\"contourcarpet\":[{\"colorbar\":{\"outlinewidth\":0,\"ticks\":\"\"},\"type\":\"contourcarpet\"}],\"heatmap\":[{\"colorbar\":{\"outlinewidth\":0,\"ticks\":\"\"},\"colorscale\":[[0.0,\"#0d0887\"],[0.1111111111111111,\"#46039f\"],[0.2222222222222222,\"#7201a8\"],[0.3333333333333333,\"#9c179e\"],[0.4444444444444444,\"#bd3786\"],[0.5555555555555556,\"#d8576b\"],[0.6666666666666666,\"#ed7953\"],[0.7777777777777778,\"#fb9f3a\"],[0.8888888888888888,\"#fdca26\"],[1.0,\"#f0f921\"]],\"type\":\"heatmap\"}],\"heatmapgl\":[{\"colorbar\":{\"outlinewidth\":0,\"ticks\":\"\"},\"colorscale\":[[0.0,\"#0d0887\"],[0.1111111111111111,\"#46039f\"],[0.2222222222222222,\"#7201a8\"],[0.3333333333333333,\"#9c179e\"],[0.4444444444444444,\"#bd3786\"],[0.5555555555555556,\"#d8576b\"],[0.6666666666666666,\"#ed7953\"],[0.7777777777777778,\"#fb9f3a\"],[0.8888888888888888,\"#fdca26\"],[1.0,\"#f0f921\"]],\"type\":\"heatmapgl\"}],\"histogram\":[{\"marker\":{\"pattern\":{\"fillmode\":\"overlay\",\"size\":10,\"solidity\":0.2}},\"type\":\"histogram\"}],\"histogram2d\":[{\"colorbar\":{\"outlinewidth\":0,\"ticks\":\"\"},\"colorscale\":[[0.0,\"#0d0887\"],[0.1111111111111111,\"#46039f\"],[0.2222222222222222,\"#7201a8\"],[0.3333333333333333,\"#9c179e\"],[0.4444444444444444,\"#bd3786\"],[0.5555555555555556,\"#d8576b\"],[0.6666666666666666,\"#ed7953\"],[0.7777777777777778,\"#fb9f3a\"],[0.8888888888888888,\"#fdca26\"],[1.0,\"#f0f921\"]],\"type\":\"histogram2d\"}],\"histogram2dcontour\":[{\"colorbar\":{\"outlinewidth\":0,\"ticks\":\"\"},\"colorscale\":[[0.0,\"#0d0887\"],[0.1111111111111111,\"#46039f\"],[0.2222222222222222,\"#7201a8\"],[0.3333333333333333,\"#9c179e\"],[0.4444444444444444,\"#bd3786\"],[0.5555555555555556,\"#d8576b\"],[0.6666666666666666,\"#ed7953\"],[0.7777777777777778,\"#fb9f3a\"],[0.8888888888888888,\"#fdca26\"],[1.0,\"#f0f921\"]],\"type\":\"histogram2dcontour\"}],\"mesh3d\":[{\"colorbar\":{\"outlinewidth\":0,\"ticks\":\"\"},\"type\":\"mesh3d\"}],\"parcoords\":[{\"line\":{\"colorbar\":{\"outlinewidth\":0,\"ticks\":\"\"}},\"type\":\"parcoords\"}],\"pie\":[{\"automargin\":true,\"type\":\"pie\"}],\"scatter\":[{\"marker\":{\"colorbar\":{\"outlinewidth\":0,\"ticks\":\"\"}},\"type\":\"scatter\"}],\"scatter3d\":[{\"line\":{\"colorbar\":{\"outlinewidth\":0,\"ticks\":\"\"}},\"marker\":{\"colorbar\":{\"outlinewidth\":0,\"ticks\":\"\"}},\"type\":\"scatter3d\"}],\"scattercarpet\":[{\"marker\":{\"colorbar\":{\"outlinewidth\":0,\"ticks\":\"\"}},\"type\":\"scattercarpet\"}],\"scattergeo\":[{\"marker\":{\"colorbar\":{\"outlinewidth\":0,\"ticks\":\"\"}},\"type\":\"scattergeo\"}],\"scattergl\":[{\"marker\":{\"colorbar\":{\"outlinewidth\":0,\"ticks\":\"\"}},\"type\":\"scattergl\"}],\"scattermapbox\":[{\"marker\":{\"colorbar\":{\"outlinewidth\":0,\"ticks\":\"\"}},\"type\":\"scattermapbox\"}],\"scatterpolar\":[{\"marker\":{\"colorbar\":{\"outlinewidth\":0,\"ticks\":\"\"}},\"type\":\"scatterpolar\"}],\"scatterpolargl\":[{\"marker\":{\"colorbar\":{\"outlinewidth\":0,\"ticks\":\"\"}},\"type\":\"scatterpolargl\"}],\"scatterternary\":[{\"marker\":{\"colorbar\":{\"outlinewidth\":0,\"ticks\":\"\"}},\"type\":\"scatterternary\"}],\"surface\":[{\"colorbar\":{\"outlinewidth\":0,\"ticks\":\"\"},\"colorscale\":[[0.0,\"#0d0887\"],[0.1111111111111111,\"#46039f\"],[0.2222222222222222,\"#7201a8\"],[0.3333333333333333,\"#9c179e\"],[0.4444444444444444,\"#bd3786\"],[0.5555555555555556,\"#d8576b\"],[0.6666666666666666,\"#ed7953\"],[0.7777777777777778,\"#fb9f3a\"],[0.8888888888888888,\"#fdca26\"],[1.0,\"#f0f921\"]],\"type\":\"surface\"}],\"table\":[{\"cells\":{\"fill\":{\"color\":\"#EBF0F8\"},\"line\":{\"color\":\"white\"}},\"header\":{\"fill\":{\"color\":\"#C8D4E3\"},\"line\":{\"color\":\"white\"}},\"type\":\"table\"}]},\"layout\":{\"annotationdefaults\":{\"arrowcolor\":\"#2a3f5f\",\"arrowhead\":0,\"arrowwidth\":1},\"autotypenumbers\":\"strict\",\"coloraxis\":{\"colorbar\":{\"outlinewidth\":0,\"ticks\":\"\"}},\"colorscale\":{\"diverging\":[[0,\"#8e0152\"],[0.1,\"#c51b7d\"],[0.2,\"#de77ae\"],[0.3,\"#f1b6da\"],[0.4,\"#fde0ef\"],[0.5,\"#f7f7f7\"],[0.6,\"#e6f5d0\"],[0.7,\"#b8e186\"],[0.8,\"#7fbc41\"],[0.9,\"#4d9221\"],[1,\"#276419\"]],\"sequential\":[[0.0,\"#0d0887\"],[0.1111111111111111,\"#46039f\"],[0.2222222222222222,\"#7201a8\"],[0.3333333333333333,\"#9c179e\"],[0.4444444444444444,\"#bd3786\"],[0.5555555555555556,\"#d8576b\"],[0.6666666666666666,\"#ed7953\"],[0.7777777777777778,\"#fb9f3a\"],[0.8888888888888888,\"#fdca26\"],[1.0,\"#f0f921\"]],\"sequentialminus\":[[0.0,\"#0d0887\"],[0.1111111111111111,\"#46039f\"],[0.2222222222222222,\"#7201a8\"],[0.3333333333333333,\"#9c179e\"],[0.4444444444444444,\"#bd3786\"],[0.5555555555555556,\"#d8576b\"],[0.6666666666666666,\"#ed7953\"],[0.7777777777777778,\"#fb9f3a\"],[0.8888888888888888,\"#fdca26\"],[1.0,\"#f0f921\"]]},\"colorway\":[\"#636efa\",\"#EF553B\",\"#00cc96\",\"#ab63fa\",\"#FFA15A\",\"#19d3f3\",\"#FF6692\",\"#B6E880\",\"#FF97FF\",\"#FECB52\"],\"font\":{\"color\":\"#2a3f5f\"},\"geo\":{\"bgcolor\":\"white\",\"lakecolor\":\"white\",\"landcolor\":\"#E5ECF6\",\"showlakes\":true,\"showland\":true,\"subunitcolor\":\"white\"},\"hoverlabel\":{\"align\":\"left\"},\"hovermode\":\"closest\",\"mapbox\":{\"style\":\"light\"},\"paper_bgcolor\":\"white\",\"plot_bgcolor\":\"#E5ECF6\",\"polar\":{\"angularaxis\":{\"gridcolor\":\"white\",\"linecolor\":\"white\",\"ticks\":\"\"},\"bgcolor\":\"#E5ECF6\",\"radialaxis\":{\"gridcolor\":\"white\",\"linecolor\":\"white\",\"ticks\":\"\"}},\"scene\":{\"xaxis\":{\"backgroundcolor\":\"#E5ECF6\",\"gridcolor\":\"white\",\"gridwidth\":2,\"linecolor\":\"white\",\"showbackground\":true,\"ticks\":\"\",\"zerolinecolor\":\"white\"},\"yaxis\":{\"backgroundcolor\":\"#E5ECF6\",\"gridcolor\":\"white\",\"gridwidth\":2,\"linecolor\":\"white\",\"showbackground\":true,\"ticks\":\"\",\"zerolinecolor\":\"white\"},\"zaxis\":{\"backgroundcolor\":\"#E5ECF6\",\"gridcolor\":\"white\",\"gridwidth\":2,\"linecolor\":\"white\",\"showbackground\":true,\"ticks\":\"\",\"zerolinecolor\":\"white\"}},\"shapedefaults\":{\"line\":{\"color\":\"#2a3f5f\"}},\"ternary\":{\"aaxis\":{\"gridcolor\":\"white\",\"linecolor\":\"white\",\"ticks\":\"\"},\"baxis\":{\"gridcolor\":\"white\",\"linecolor\":\"white\",\"ticks\":\"\"},\"bgcolor\":\"#E5ECF6\",\"caxis\":{\"gridcolor\":\"white\",\"linecolor\":\"white\",\"ticks\":\"\"}},\"title\":{\"x\":0.05},\"xaxis\":{\"automargin\":true,\"gridcolor\":\"white\",\"linecolor\":\"white\",\"ticks\":\"\",\"title\":{\"standoff\":15},\"zerolinecolor\":\"white\",\"zerolinewidth\":2},\"yaxis\":{\"automargin\":true,\"gridcolor\":\"white\",\"linecolor\":\"white\",\"ticks\":\"\",\"title\":{\"standoff\":15},\"zerolinecolor\":\"white\",\"zerolinewidth\":2}}},\"xaxis\":{\"anchor\":\"y\",\"domain\":[0.0,1.0],\"range\":[\"2014\",\"2018\"],\"title\":{\"text\":\"Year\"}},\"yaxis\":{\"anchor\":\"x\",\"domain\":[0.0,1.0],\"title\":{\"text\":\"Debt Growth\"}}},                        {\"responsive\": true}                    ).then(function(){\n",
       "                            \n",
       "var gd = document.getElementById('a5b78ebb-3d27-4605-ac2a-90f82db7506c');\n",
       "var x = new MutationObserver(function (mutations, observer) {{\n",
       "        var display = window.getComputedStyle(gd).display;\n",
       "        if (!display || display === 'none') {{\n",
       "            console.log([gd, 'removed!']);\n",
       "            Plotly.purge(gd);\n",
       "            observer.disconnect();\n",
       "        }}\n",
       "}});\n",
       "\n",
       "// Listen for the removal of the full notebook cells\n",
       "var notebookContainer = gd.closest('#notebook-container');\n",
       "if (notebookContainer) {{\n",
       "    x.observe(notebookContainer, {childList: true});\n",
       "}}\n",
       "\n",
       "// Listen for the clearing of the current output cell\n",
       "var outputEl = gd.closest('.output');\n",
       "if (outputEl) {{\n",
       "    x.observe(outputEl, {childList: true});\n",
       "}}\n",
       "\n",
       "                        })                };                });            </script>        </div>"
      ]
     },
     "metadata": {},
     "output_type": "display_data"
    }
   ],
   "source": [
    "for i in y:\n",
    "    fig = px.line(AAPL, x='Year', y=i)\n",
    "    fig.show()"
   ]
  },
  {
   "cell_type": "code",
   "execution_count": 95,
   "id": "658e9657",
   "metadata": {},
   "outputs": [
    {
     "data": {
      "text/html": [
       "<div>\n",
       "<style scoped>\n",
       "    .dataframe tbody tr th:only-of-type {\n",
       "        vertical-align: middle;\n",
       "    }\n",
       "\n",
       "    .dataframe tbody tr th {\n",
       "        vertical-align: top;\n",
       "    }\n",
       "\n",
       "    .dataframe thead th {\n",
       "        text-align: right;\n",
       "    }\n",
       "</style>\n",
       "<table border=\"1\" class=\"dataframe\">\n",
       "  <thead>\n",
       "    <tr style=\"text-align: right;\">\n",
       "      <th></th>\n",
       "      <th>date</th>\n",
       "      <th>GOOG</th>\n",
       "      <th>AAPL</th>\n",
       "      <th>AMZN</th>\n",
       "      <th>FB</th>\n",
       "      <th>NFLX</th>\n",
       "      <th>MSFT</th>\n",
       "    </tr>\n",
       "  </thead>\n",
       "  <tbody>\n",
       "    <tr>\n",
       "      <th>0</th>\n",
       "      <td>2018-01-01</td>\n",
       "      <td>1.000000</td>\n",
       "      <td>1.000000</td>\n",
       "      <td>1.000000</td>\n",
       "      <td>1.000000</td>\n",
       "      <td>1.000000</td>\n",
       "      <td>1.000000</td>\n",
       "    </tr>\n",
       "    <tr>\n",
       "      <th>1</th>\n",
       "      <td>2018-01-08</td>\n",
       "      <td>1.018172</td>\n",
       "      <td>1.011943</td>\n",
       "      <td>1.061881</td>\n",
       "      <td>0.959968</td>\n",
       "      <td>1.053526</td>\n",
       "      <td>1.015988</td>\n",
       "    </tr>\n",
       "    <tr>\n",
       "      <th>2</th>\n",
       "      <td>2018-01-15</td>\n",
       "      <td>1.032008</td>\n",
       "      <td>1.019771</td>\n",
       "      <td>1.053240</td>\n",
       "      <td>0.970243</td>\n",
       "      <td>1.049860</td>\n",
       "      <td>1.020524</td>\n",
       "    </tr>\n",
       "    <tr>\n",
       "      <th>3</th>\n",
       "      <td>2018-01-22</td>\n",
       "      <td>1.066783</td>\n",
       "      <td>0.980057</td>\n",
       "      <td>1.140676</td>\n",
       "      <td>1.016858</td>\n",
       "      <td>1.307681</td>\n",
       "      <td>1.066561</td>\n",
       "    </tr>\n",
       "    <tr>\n",
       "      <th>4</th>\n",
       "      <td>2018-01-29</td>\n",
       "      <td>1.008773</td>\n",
       "      <td>0.917143</td>\n",
       "      <td>1.163374</td>\n",
       "      <td>1.018357</td>\n",
       "      <td>1.273537</td>\n",
       "      <td>1.040708</td>\n",
       "    </tr>\n",
       "    <tr>\n",
       "      <th>...</th>\n",
       "      <td>...</td>\n",
       "      <td>...</td>\n",
       "      <td>...</td>\n",
       "      <td>...</td>\n",
       "      <td>...</td>\n",
       "      <td>...</td>\n",
       "      <td>...</td>\n",
       "    </tr>\n",
       "    <tr>\n",
       "      <th>100</th>\n",
       "      <td>2019-12-02</td>\n",
       "      <td>1.216280</td>\n",
       "      <td>1.546914</td>\n",
       "      <td>1.425061</td>\n",
       "      <td>1.075997</td>\n",
       "      <td>1.463641</td>\n",
       "      <td>1.720717</td>\n",
       "    </tr>\n",
       "    <tr>\n",
       "      <th>101</th>\n",
       "      <td>2019-12-09</td>\n",
       "      <td>1.222821</td>\n",
       "      <td>1.572286</td>\n",
       "      <td>1.432660</td>\n",
       "      <td>1.038855</td>\n",
       "      <td>1.421496</td>\n",
       "      <td>1.752239</td>\n",
       "    </tr>\n",
       "    <tr>\n",
       "      <th>102</th>\n",
       "      <td>2019-12-16</td>\n",
       "      <td>1.224418</td>\n",
       "      <td>1.596800</td>\n",
       "      <td>1.453455</td>\n",
       "      <td>1.104094</td>\n",
       "      <td>1.604362</td>\n",
       "      <td>1.784896</td>\n",
       "    </tr>\n",
       "    <tr>\n",
       "      <th>103</th>\n",
       "      <td>2019-12-23</td>\n",
       "      <td>1.226504</td>\n",
       "      <td>1.656000</td>\n",
       "      <td>1.521226</td>\n",
       "      <td>1.113728</td>\n",
       "      <td>1.567170</td>\n",
       "      <td>1.802472</td>\n",
       "    </tr>\n",
       "    <tr>\n",
       "      <th>104</th>\n",
       "      <td>2019-12-30</td>\n",
       "      <td>1.213014</td>\n",
       "      <td>1.678000</td>\n",
       "      <td>1.503360</td>\n",
       "      <td>1.098475</td>\n",
       "      <td>1.540883</td>\n",
       "      <td>1.788185</td>\n",
       "    </tr>\n",
       "  </tbody>\n",
       "</table>\n",
       "<p>105 rows × 7 columns</p>\n",
       "</div>"
      ],
      "text/plain": [
       "           date      GOOG      AAPL      AMZN        FB      NFLX      MSFT\n",
       "0    2018-01-01  1.000000  1.000000  1.000000  1.000000  1.000000  1.000000\n",
       "1    2018-01-08  1.018172  1.011943  1.061881  0.959968  1.053526  1.015988\n",
       "2    2018-01-15  1.032008  1.019771  1.053240  0.970243  1.049860  1.020524\n",
       "3    2018-01-22  1.066783  0.980057  1.140676  1.016858  1.307681  1.066561\n",
       "4    2018-01-29  1.008773  0.917143  1.163374  1.018357  1.273537  1.040708\n",
       "..          ...       ...       ...       ...       ...       ...       ...\n",
       "100  2019-12-02  1.216280  1.546914  1.425061  1.075997  1.463641  1.720717\n",
       "101  2019-12-09  1.222821  1.572286  1.432660  1.038855  1.421496  1.752239\n",
       "102  2019-12-16  1.224418  1.596800  1.453455  1.104094  1.604362  1.784896\n",
       "103  2019-12-23  1.226504  1.656000  1.521226  1.113728  1.567170  1.802472\n",
       "104  2019-12-30  1.213014  1.678000  1.503360  1.098475  1.540883  1.788185\n",
       "\n",
       "[105 rows x 7 columns]"
      ]
     },
     "execution_count": 95,
     "metadata": {},
     "output_type": "execute_result"
    }
   ],
   "source": [
    "px.data.stocks()"
   ]
  },
  {
   "cell_type": "code",
   "execution_count": null,
   "id": "cc6fd9c6",
   "metadata": {},
   "outputs": [],
   "source": []
  }
 ],
 "metadata": {
  "kernelspec": {
   "display_name": "Python 3",
   "language": "python",
   "name": "python3"
  },
  "language_info": {
   "codemirror_mode": {
    "name": "ipython",
    "version": 3
   },
   "file_extension": ".py",
   "mimetype": "text/x-python",
   "name": "python",
   "nbconvert_exporter": "python",
   "pygments_lexer": "ipython3",
   "version": "3.8.8"
  }
 },
 "nbformat": 4,
 "nbformat_minor": 5
}
